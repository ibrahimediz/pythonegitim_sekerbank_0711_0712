{
 "cells": [
  {
   "cell_type": "markdown",
   "metadata": {},
   "source": [
    "# OOP Giriş\n",
    "* instance - örnek\n",
    "* class - sınıf\n",
    "* nasıl sınıf tanımlanır\n",
    "* __init__ fonksiyonu-constructor-yapıcı \n",
    "* __del__ fonksiyonu-destructor-yıkıcı\n",
    "* class attribute - sınıf özelliği\n",
    "* class method - sınıf metodu\n",
    "* instance attribute - örnek özellik\n",
    "* instance method - örnek metodu"
   ]
  },
  {
   "cell_type": "code",
   "execution_count": 1,
   "metadata": {},
   "outputs": [
    {
     "name": "stdout",
     "output_type": "stream",
     "text": [
      "<class 'int'>\n"
     ]
    }
   ],
   "source": [
    "var1 = 1\n",
    "print(type(var1))"
   ]
  },
  {
   "cell_type": "markdown",
   "metadata": {},
   "source": [
    "### class"
   ]
  },
  {
   "cell_type": "code",
   "execution_count": 3,
   "metadata": {},
   "outputs": [
    {
     "name": "stdout",
     "output_type": "stream",
     "text": [
      "<class 'type'>\n"
     ]
    }
   ],
   "source": [
    "class Sinif: # sınıf tanımı\n",
    "    pass\n",
    "print(type(Sinif))"
   ]
  },
  {
   "cell_type": "markdown",
   "metadata": {},
   "source": [
    "### instance"
   ]
  },
  {
   "cell_type": "code",
   "execution_count": 6,
   "metadata": {},
   "outputs": [
    {
     "name": "stdout",
     "output_type": "stream",
     "text": [
      "<class '__main__.Sinif'>\n"
     ]
    }
   ],
   "source": [
    "obj = Sinif() # instance üretimi\n",
    "print(type(obj))"
   ]
  },
  {
   "cell_type": "markdown",
   "metadata": {},
   "source": [
    "### nasıl sınıf tanımlanır"
   ]
  },
  {
   "cell_type": "code",
   "execution_count": 18,
   "metadata": {},
   "outputs": [],
   "source": [
    "class Sinif:\n",
    "    sinifOzelligi = \"Sınıf Özelliği\" # sınıf özelliği\n",
    "     \n",
    "    def __init__(self,a): # yapıcı fonksiyon\n",
    "        self.ornekozellik = a # örnek özellik\n",
    "\n",
    "    \n",
    "    @classmethod\n",
    "    def sinifmetodu(cls): # sınıf metodu\n",
    "        print(cls.sinifOzelliği)\n",
    "\n",
    "    def ornekmetod(self): # örnek metodu\n",
    "        print(self.ornekozellik)\n",
    "\n",
    "    \n",
    "    def __del__(self): # yıkıcı fonksiyon\n",
    "        print(self.ornekozellik,\"Silindi\")"
   ]
  },
  {
   "cell_type": "markdown",
   "metadata": {},
   "source": [
    "`__init__` fonksiyonu <br>\n",
    "nesne ya da instance üretildiği sırada çalışan fonksiyondur. örnek özellere nesnenin üretimi sırasıda değer atanabilir"
   ]
  },
  {
   "cell_type": "code",
   "execution_count": 12,
   "metadata": {},
   "outputs": [
    {
     "name": "stdout",
     "output_type": "stream",
     "text": [
      "3 Silindi\n",
      "5 Silindi\n"
     ]
    },
    {
     "data": {
      "text/plain": [
       "True"
      ]
     },
     "execution_count": 12,
     "metadata": {},
     "output_type": "execute_result"
    }
   ],
   "source": [
    "a = Sinif(3)\n",
    "b = Sinif(5)\n",
    "a>b"
   ]
  },
  {
   "cell_type": "markdown",
   "metadata": {},
   "source": [
    "Çokgenler için bir sınıf oluşturup bu sınıftan iki çokgeni nesne olarak üretelim\n",
    "1. kenar sayısı # örnek özellik\n",
    "2. ismi # örnek özellik\n",
    "3. iç açı toplamı hesabı # örnek metod\n",
    "\n",
    "Kodu 05_01_giris.py dosyası içerisine yazabilirsiniz. "
   ]
  },
  {
   "cell_type": "code",
   "execution_count": 17,
   "metadata": {},
   "outputs": [
    {
     "name": "stdout",
     "output_type": "stream",
     "text": [
      "Üçgen Kenar Sayısı:3 İç açı toplamı: 180\n",
      "Çokgen\n",
      "Kare Kenar Sayısı:4 İç açı toplamı: 360\n",
      "Çokgen\n"
     ]
    }
   ],
   "source": [
    "class Cokgen:\n",
    "    sinifOzelligi = \"Çokgen\"\n",
    "    def __init__(self,kenarsayisi,ismi):\n",
    "        self.kenarsayisi = kenarsayisi\n",
    "        self.ismi = ismi\n",
    "        self.icacitoplami()\n",
    "        print(Cokgen.sinifOzelligi)\n",
    "\n",
    "    \n",
    "    def icacitoplami(self):\n",
    "        print(Cokgen.sinifOzelligi)\n",
    "        print(f\"{self.ismi} Kenar Sayısı:{self.kenarsayisi} İç açı toplamı:\",(self.kenarsayisi-2)*180)\n",
    "    \n",
    "\n",
    "ucgen = Cokgen(3,\"Üçgen\")\n",
    "kare = Cokgen(4,\"Kare\")\n",
    "\n",
    "\n"
   ]
  },
  {
   "cell_type": "markdown",
   "metadata": {},
   "source": [
    "1. Encapsulation - Kapsülleme\n",
    "2. Inheritance - Kalıtım (Miras Alma)\n",
    "3. Polymorhism - Çokbiçimlilik\n",
    "4. Abstaction - Soyutlama"
   ]
  },
  {
   "cell_type": "code",
   "execution_count": null,
   "metadata": {},
   "outputs": [],
   "source": []
  }
 ],
 "metadata": {
  "kernelspec": {
   "display_name": "Python 3",
   "language": "python",
   "name": "python3"
  },
  "language_info": {
   "codemirror_mode": {
    "name": "ipython",
    "version": 3
   },
   "file_extension": ".py",
   "mimetype": "text/x-python",
   "name": "python",
   "nbconvert_exporter": "python",
   "pygments_lexer": "ipython3",
   "version": "3.8.13 (default, Oct  4 2022, 14:00:32) \n[GCC 9.4.0]"
  },
  "orig_nbformat": 4,
  "vscode": {
   "interpreter": {
    "hash": "9ac03a0a6051494cc606d484d27d20fce22fb7b4d169f583271e11d5ba46a56e"
   }
  }
 },
 "nbformat": 4,
 "nbformat_minor": 2
}
