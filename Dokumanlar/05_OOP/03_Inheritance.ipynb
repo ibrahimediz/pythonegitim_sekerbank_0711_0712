{
 "cells": [
  {
   "cell_type": "markdown",
   "metadata": {},
   "source": [
    "# inheritance"
   ]
  },
  {
   "cell_type": "code",
   "execution_count": 1,
   "metadata": {},
   "outputs": [],
   "source": [
    "class A:\n",
    "    def __init__(self):\n",
    "        self.a = \"A\"\n",
    "\n",
    "    def soyleA(self):\n",
    "        print(self.a)\n",
    "    \n",
    "    def soyle(self):\n",
    "        print(\"A Sınıfından çalıştım\")\n"
   ]
  },
  {
   "cell_type": "code",
   "execution_count": 9,
   "metadata": {},
   "outputs": [
    {
     "name": "stdout",
     "output_type": "stream",
     "text": [
      "A Sınıfından çalıştım\n",
      "A\n"
     ]
    }
   ],
   "source": [
    "class B(A): # inheritance\n",
    "    pass \n",
    "objB = B()\n",
    "objB.soyle()\n",
    "objB.soyleA()"
   ]
  },
  {
   "cell_type": "code",
   "execution_count": 19,
   "metadata": {},
   "outputs": [
    {
     "name": "stdout",
     "output_type": "stream",
     "text": [
      "B\n",
      "A Sınıfından çalıştım\n",
      "A\n"
     ]
    }
   ],
   "source": [
    "class B(A):\n",
    "    def __init__(self): # override\n",
    "        super().__init__()\n",
    "        self.b = \"B\"\n",
    "    \n",
    "    def soyleB(self):\n",
    "        print(self.b)\n",
    "objB = B()\n",
    "objB.soyleB()\n",
    "objB.soyle()\n",
    "objB.soyleA()"
   ]
  },
  {
   "cell_type": "code",
   "execution_count": 13,
   "metadata": {},
   "outputs": [
    {
     "name": "stdout",
     "output_type": "stream",
     "text": [
      "B\n",
      "A Sınıfından çalıştım\n",
      "A\n"
     ]
    }
   ],
   "source": [
    "class C(B):\n",
    "    def __init__(self):\n",
    "        super().__init__()\n",
    "        self.c = \"C\"\n",
    "    \n",
    "objC = C()\n",
    "objC.soyleB()\n",
    "objC.soyle()\n",
    "objC.soyleA()"
   ]
  },
  {
   "cell_type": "markdown",
   "metadata": {},
   "source": [
    "#### multiple inheritance"
   ]
  },
  {
   "cell_type": "code",
   "execution_count": 17,
   "metadata": {},
   "outputs": [
    {
     "name": "stdout",
     "output_type": "stream",
     "text": [
      "A Sınıfından çalıştım\n"
     ]
    }
   ],
   "source": [
    "class A:\n",
    "    def __init__(self):\n",
    "        self.a = \"A\"\n",
    "\n",
    "    def soyleA(self):\n",
    "        print(self.a)\n",
    "    \n",
    "    def soyle(self):\n",
    "        print(\"A Sınıfından çalıştım\")\n",
    "\n",
    "class B:\n",
    "    def __init__(self):\n",
    "        self.b = \"B\"\n",
    "\n",
    "    def soyleB(self):\n",
    "        print(self.b)\n",
    "    \n",
    "    def soyle(self):\n",
    "        print(\"B Sınıfından çalıştım\")\n",
    "\n",
    "class C(A,B):\n",
    "    def __init__(self):\n",
    "        A.__init__(self)\n",
    "        B.__init__(self)\n",
    "        self.c = \"C\"\n",
    "    \n",
    "    def soyleC(self):\n",
    "        print(self.c)\n",
    "\n",
    "objMIC = C()\n",
    "objMIC.soyle()"
   ]
  },
  {
   "cell_type": "code",
   "execution_count": null,
   "metadata": {},
   "outputs": [],
   "source": []
  }
 ],
 "metadata": {
  "kernelspec": {
   "display_name": "Python 3",
   "language": "python",
   "name": "python3"
  },
  "language_info": {
   "codemirror_mode": {
    "name": "ipython",
    "version": 3
   },
   "file_extension": ".py",
   "mimetype": "text/x-python",
   "name": "python",
   "nbconvert_exporter": "python",
   "pygments_lexer": "ipython3",
   "version": "3.8.13"
  },
  "orig_nbformat": 4,
  "vscode": {
   "interpreter": {
    "hash": "9ac03a0a6051494cc606d484d27d20fce22fb7b4d169f583271e11d5ba46a56e"
   }
  }
 },
 "nbformat": 4,
 "nbformat_minor": 2
}
