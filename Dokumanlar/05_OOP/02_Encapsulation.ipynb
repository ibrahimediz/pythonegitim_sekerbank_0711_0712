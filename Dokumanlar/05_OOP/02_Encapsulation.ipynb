{
 "cells": [
  {
   "cell_type": "markdown",
   "metadata": {},
   "source": [
    "# Encapsulation\n",
    "* setter\n",
    "* getter\n",
    "* deleter"
   ]
  },
  {
   "cell_type": "markdown",
   "metadata": {},
   "source": [
    "Herhangi bir arrtibute ya da metod öncesine `__` yerleştirilmesi durumunda bu yapının dışarın görülmemesi sağlanır\n",
    "```\n",
    "__a gizli\n",
    "__a_ gizli\n",
    "__a__ gizli değil\n",
    "_a yarı gizli\n",
    "```"
   ]
  },
  {
   "cell_type": "code",
   "execution_count": 23,
   "metadata": {},
   "outputs": [],
   "source": [
    "class Cokgen:\n",
    "    sinifOzelligi = \"Çokgen\"\n",
    "    def __init__(self,kenarsayisi,ismi):\n",
    "        self.__kenarsayisi = kenarsayisi # gizli\n",
    "        self.ismi = ismi\n",
    "        self.icacitoplami()\n",
    "        print(Cokgen.sinifOzelligi)\n",
    "\n",
    "    def __soyle(self):\n",
    "        print(\"Deneme\")\n",
    "\n",
    "    \n",
    "    def icacitoplami(self):\n",
    "        print(Cokgen.sinifOzelligi)\n",
    "        print(f\"{self.ismi} Kenar Sayısı:{self.__kenarsayisi} İç açı toplamı:\",(self.__kenarsayisi-2)*180)"
   ]
  },
  {
   "cell_type": "code",
   "execution_count": 24,
   "metadata": {},
   "outputs": [
    {
     "name": "stdout",
     "output_type": "stream",
     "text": [
      "Çokgen\n",
      "Deneme Kenar Sayısı:3 İç açı toplamı: 180\n",
      "Çokgen\n"
     ]
    }
   ],
   "source": [
    "obj1 = Cokgen(3,\"Deneme\")\n"
   ]
  },
  {
   "cell_type": "code",
   "execution_count": 25,
   "metadata": {},
   "outputs": [],
   "source": [
    "class A:\n",
    "    def __init__(self,yetki,b):\n",
    "        self.yetki = yetki\n",
    "        self.__b = b\n",
    "\n",
    "    def var1(self): # getter\n",
    "        if self.yetki == 2:\n",
    "            return self.__b\n",
    "        else:\n",
    "            return None\n",
    "    \n",
    "    def yetkiGetir(self):\n",
    "        return self.yetki\n",
    "        "
   ]
  },
  {
   "cell_type": "code",
   "execution_count": 26,
   "metadata": {},
   "outputs": [
    {
     "name": "stdout",
     "output_type": "stream",
     "text": [
      "None\n",
      "100\n"
     ]
    }
   ],
   "source": [
    "obj1 = A(1,2)\n",
    "obj2 = A(2,100)\n",
    "print(obj1.var1())\n",
    "print(obj2.var1())"
   ]
  },
  {
   "cell_type": "markdown",
   "metadata": {},
   "source": [
    "### property"
   ]
  },
  {
   "cell_type": "code",
   "execution_count": 27,
   "metadata": {},
   "outputs": [],
   "source": [
    "class A:\n",
    "    def __init__(self,yetki,b):\n",
    "        self.yetki = yetki\n",
    "        self.__b = b\n",
    "\n",
    "    @property\n",
    "    def var1(self): # getter\n",
    "        if self.yetki == 2:\n",
    "            return self.__b\n",
    "        else:\n",
    "            return None\n",
    "    \n",
    "    def yetkiGetir(self):\n",
    "        return self.yetki"
   ]
  },
  {
   "cell_type": "code",
   "execution_count": 28,
   "metadata": {},
   "outputs": [
    {
     "name": "stdout",
     "output_type": "stream",
     "text": [
      "None\n",
      "100\n"
     ]
    }
   ],
   "source": [
    "obj1 = A(1,2)\n",
    "obj2 = A(2,100)\n",
    "print(obj1.var1)\n",
    "print(obj2.var1)"
   ]
  },
  {
   "cell_type": "markdown",
   "metadata": {},
   "source": [
    "### setter"
   ]
  },
  {
   "cell_type": "code",
   "execution_count": 33,
   "metadata": {},
   "outputs": [],
   "source": [
    "class A:\n",
    "    def __init__(self,yetki,b):\n",
    "        self.yetki = yetki\n",
    "        self.__b = b\n",
    "\n",
    "    @property\n",
    "    def var1(self): # getter\n",
    "        if self.yetki == 2:\n",
    "            return self.__b\n",
    "        else:\n",
    "            return None\n",
    "    \n",
    "    @var1.setter\n",
    "    def var1(self,param):\n",
    "        if isinstance(param,int) and param in range(1,101) and self.yetki == 2:\n",
    "            self.__b = param\n",
    "    \n",
    "    def yetkiGetir(self):\n",
    "        return self.yetki"
   ]
  },
  {
   "cell_type": "code",
   "execution_count": 37,
   "metadata": {},
   "outputs": [
    {
     "name": "stdout",
     "output_type": "stream",
     "text": [
      "None\n",
      "None\n"
     ]
    }
   ],
   "source": [
    "obj1 = A(1,2)\n",
    "obj2 = A(2,100)\n",
    "print(obj1.var1)\n",
    "obj1.var1 = 5\n",
    "print(obj1.var1)"
   ]
  },
  {
   "cell_type": "code",
   "execution_count": 40,
   "metadata": {},
   "outputs": [
    {
     "name": "stdout",
     "output_type": "stream",
     "text": [
      "Var1 => 100\n",
      "Var1 => 5\n"
     ]
    }
   ],
   "source": [
    "obj1 = A(1,2)\n",
    "obj2 = A(2,100)\n",
    "print(\"Var1 =>\",obj2.var1)\n",
    "obj2.var1 = 5 # setter fonksiyonunun çalışmasını sağlar\n",
    "print(\"Var1 =>\",obj2.var1)"
   ]
  },
  {
   "cell_type": "markdown",
   "metadata": {},
   "source": [
    "### deleter"
   ]
  },
  {
   "cell_type": "code",
   "execution_count": 42,
   "metadata": {},
   "outputs": [],
   "source": [
    "class A:\n",
    "    def __init__(self,yetki,b):\n",
    "        self.yetki = yetki\n",
    "        self.__b = b\n",
    "\n",
    "    @property\n",
    "    def var1(self): # getter\n",
    "        if self.yetki == 2:\n",
    "            return self.__b\n",
    "        else:\n",
    "            return None\n",
    "    @var1.deleter\n",
    "    def var1(self):\n",
    "        if self.yetki == 2:\n",
    "            self.__b *= -1\n",
    "\n",
    "    @var1.setter\n",
    "    def var1(self,param):\n",
    "        if isinstance(param,int) and param in range(1,101) and self.yetki == 2:\n",
    "            self.__b = param\n",
    "    \n",
    "    def yetkiGetir(self):\n",
    "        return self.yetki"
   ]
  },
  {
   "cell_type": "code",
   "execution_count": 44,
   "metadata": {},
   "outputs": [
    {
     "name": "stdout",
     "output_type": "stream",
     "text": [
      "Var1 => 100\n",
      "Var1 => 5\n",
      "Var1 => -5\n"
     ]
    }
   ],
   "source": [
    "obj1 = A(1,2)\n",
    "obj2 = A(2,100)\n",
    "print(\"Var1 =>\",obj2.var1)\n",
    "obj2.var1 = 5 # setter fonksiyonunun çalışmasını sağlar\n",
    "print(\"Var1 =>\",obj2.var1)\n",
    "del obj2.var1\n",
    "print(\"Var1 =>\",obj2.var1)"
   ]
  }
 ],
 "metadata": {
  "kernelspec": {
   "display_name": "Python 3",
   "language": "python",
   "name": "python3"
  },
  "language_info": {
   "codemirror_mode": {
    "name": "ipython",
    "version": 3
   },
   "file_extension": ".py",
   "mimetype": "text/x-python",
   "name": "python",
   "nbconvert_exporter": "python",
   "pygments_lexer": "ipython3",
   "version": "3.8.13"
  },
  "orig_nbformat": 4,
  "vscode": {
   "interpreter": {
    "hash": "9ac03a0a6051494cc606d484d27d20fce22fb7b4d169f583271e11d5ba46a56e"
   }
  }
 },
 "nbformat": 4,
 "nbformat_minor": 2
}
