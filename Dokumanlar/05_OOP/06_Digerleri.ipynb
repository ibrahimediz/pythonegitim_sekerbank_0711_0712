{
 "cells": [
  {
   "cell_type": "markdown",
   "metadata": {},
   "source": [
    "# Diğerleri OOP\n",
    "* Decorators\n",
    "* Magic Functions\n",
    "* staticmethods"
   ]
  },
  {
   "cell_type": "code",
   "execution_count": 8,
   "metadata": {},
   "outputs": [],
   "source": [
    "import time\n",
    "def hesapZaman(fonk):\n",
    "    def icFonk(*args):\n",
    "        basla = time.time()\n",
    "        fonk(*args)\n",
    "        bitir = time.time()\n",
    "        print(f\"{fonk.__name__} isimli fonksiyonun çalışma süresi {bitir-basla}\")\n",
    "    return icFonk"
   ]
  },
  {
   "cell_type": "code",
   "execution_count": 9,
   "metadata": {},
   "outputs": [
    {
     "name": "stdout",
     "output_type": "stream",
     "text": [
      "120\n",
      "faktoriyel isimli fonksiyonun çalışma süresi 6.318092346191406e-05\n"
     ]
    }
   ],
   "source": [
    "@hesapZaman\n",
    "def faktoriyel(sayi):\n",
    "    import math\n",
    "    print(math.factorial(sayi))\n",
    "\n",
    "faktoriyel(5)"
   ]
  },
  {
   "cell_type": "code",
   "execution_count": 10,
   "metadata": {},
   "outputs": [],
   "source": [
    "class Sinif:\n",
    "    sinifOzelligi = \"Sınıf Özelliği\" # sınıf özelliği\n",
    "     \n",
    "    def __init__(self,a): # yapıcı fonksiyon\n",
    "        self.ornekozellik = a # örnek özellik\n",
    "\n",
    "    \n",
    "    @classmethod ################# decorator ##########################\n",
    "    def sinifmetodu(cls): # sınıf metodu\n",
    "        print(cls.sinifOzelliği)\n",
    "\n",
    "    def ornekmetod(self): # örnek metodu\n",
    "        print(self.ornekozellik)\n",
    "\n",
    "    \n",
    "    def __del__(self): # yıkıcı fonksiyon\n",
    "        print(self.ornekozellik,\"Silindi\")"
   ]
  },
  {
   "cell_type": "markdown",
   "metadata": {},
   "source": [
    "### Magic Functions"
   ]
  },
  {
   "cell_type": "code",
   "execution_count": 18,
   "metadata": {},
   "outputs": [
    {
     "name": "stdout",
     "output_type": "stream",
     "text": [
      "45\n"
     ]
    }
   ],
   "source": [
    "class VeriTipi:\n",
    "    def __init__(self,*args,**kwargs):\n",
    "        for key,value in kwargs.items():\n",
    "            if key == \"Adi\":\n",
    "                self.adi = value\n",
    "            if key == \"Soyadi\":\n",
    "                self.soyadi = value\n",
    "            if key == \"Yasi\":\n",
    "                self.yasi = value\n",
    "    \n",
    "    def __lt__(self,nesne): # less than >\n",
    "        if self.yasi > nesne.yasi:\n",
    "            return False\n",
    "        else:\n",
    "            return True\n",
    "    \n",
    "    def __gt__(self,nesne): # greater than <\n",
    "        if self.yasi > nesne.yasi:\n",
    "            return True\n",
    "        else:\n",
    "            return False\n",
    "\n",
    "    def __ge__(self,nesne): # greater than and equel <=\n",
    "        if self.yasi >= nesne.yasi:\n",
    "            return True\n",
    "        else:\n",
    "            return False\n",
    "\n",
    "    def __add__(self,nesne): # less than and equal >=\n",
    "        self.yasi += nesne.yasi\n",
    "        return self.yasi\n",
    "\n",
    "obj1 = VeriTipi(Adi=\"Ali\",Soyadi=\"Veli\",Yasi=25)\n",
    "obj2 = VeriTipi(Adi=\"Ayşe\",Soyadi=\"Veli\",Yasi=20)\n",
    "\n",
    "print(obj1+obj2)"
   ]
  },
  {
   "cell_type": "markdown",
   "metadata": {},
   "source": [
    "https://python-course.eu/oop/magic-methods.php"
   ]
  },
  {
   "cell_type": "markdown",
   "metadata": {},
   "source": [
    "### Static Method"
   ]
  },
  {
   "cell_type": "code",
   "execution_count": 19,
   "metadata": {},
   "outputs": [],
   "source": [
    "class Sinif:\n",
    "    sinifOzelligi = \"Sınıf Özelliği\" # sınıf özelliği\n",
    "     \n",
    "    def __init__(self,a): # yapıcı fonksiyon\n",
    "        self.ornekozellik = a # örnek özellik\n",
    "\n",
    "    \n",
    "    @classmethod ################# decorator ##########################\n",
    "    def sinifmetodu(cls): # sınıf metodu\n",
    "        print(cls.sinifOzelliği)\n",
    "\n",
    "    @staticmethod\n",
    "    def pi():\n",
    "        return 22/7\n",
    "\n",
    "    def ornekmetod(self): # örnek metodu\n",
    "        print(self.ornekozellik)\n",
    "\n",
    "    \n",
    "    def __del__(self): # yıkıcı fonksiyon\n",
    "        print(self.ornekozellik,\"Silindi\")"
   ]
  },
  {
   "cell_type": "code",
   "execution_count": 22,
   "metadata": {},
   "outputs": [
    {
     "name": "stdout",
     "output_type": "stream",
     "text": [
      "2 Silindi\n",
      "3.142857142857143\n",
      "3.142857142857143\n"
     ]
    }
   ],
   "source": [
    "obj1 = Sinif(2)\n",
    "print(obj1.pi())\n",
    "print(Sinif.pi())"
   ]
  },
  {
   "cell_type": "code",
   "execution_count": null,
   "metadata": {},
   "outputs": [],
   "source": []
  }
 ],
 "metadata": {
  "kernelspec": {
   "display_name": "Python 3",
   "language": "python",
   "name": "python3"
  },
  "language_info": {
   "codemirror_mode": {
    "name": "ipython",
    "version": 3
   },
   "file_extension": ".py",
   "mimetype": "text/x-python",
   "name": "python",
   "nbconvert_exporter": "python",
   "pygments_lexer": "ipython3",
   "version": "3.8.13 (default, Oct  4 2022, 14:00:32) \n[GCC 9.4.0]"
  },
  "orig_nbformat": 4,
  "vscode": {
   "interpreter": {
    "hash": "9ac03a0a6051494cc606d484d27d20fce22fb7b4d169f583271e11d5ba46a56e"
   }
  }
 },
 "nbformat": 4,
 "nbformat_minor": 2
}
