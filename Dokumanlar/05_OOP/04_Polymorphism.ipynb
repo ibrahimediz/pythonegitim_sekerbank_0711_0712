{
 "cells": [
  {
   "cell_type": "markdown",
   "metadata": {},
   "source": [
    "# polymorphism"
   ]
  },
  {
   "cell_type": "code",
   "execution_count": 2,
   "metadata": {},
   "outputs": [
    {
     "name": "stdout",
     "output_type": "stream",
     "text": [
      "B\n",
      "B Sınıfından Çalıştım\n",
      "A\n"
     ]
    }
   ],
   "source": [
    "class A:\n",
    "    def __init__(self):\n",
    "        self.a = \"A\"\n",
    "\n",
    "    def soyleA(self):\n",
    "        print(self.a)\n",
    "    \n",
    "    def soyle(self):\n",
    "        print(\"A Sınıfından çalıştım\")\n",
    "\n",
    "class B(A):\n",
    "    def __init__(self): # override\n",
    "        super().__init__()\n",
    "        self.b = \"B\"\n",
    "    \n",
    "    def soyleB(self):\n",
    "        print(self.b)\n",
    "    \n",
    "    def soyle(self): # override\n",
    "        print(\"B Sınıfından Çalıştım\")\n",
    "objB = B()\n",
    "objB.soyleB()\n",
    "objB.soyle()\n",
    "objB.soyleA()"
   ]
  },
  {
   "cell_type": "code",
   "execution_count": 4,
   "metadata": {},
   "outputs": [
    {
     "name": "stdout",
     "output_type": "stream",
     "text": [
      "a 1\n"
     ]
    }
   ],
   "source": [
    "print(\"a\",1) # polymorphic function"
   ]
  },
  {
   "cell_type": "code",
   "execution_count": 5,
   "metadata": {},
   "outputs": [],
   "source": [
    "def topla(*args):\n",
    "    print(sum(args))"
   ]
  },
  {
   "cell_type": "code",
   "execution_count": null,
   "metadata": {},
   "outputs": [],
   "source": []
  }
 ],
 "metadata": {
  "kernelspec": {
   "display_name": "Python 3",
   "language": "python",
   "name": "python3"
  },
  "language_info": {
   "codemirror_mode": {
    "name": "ipython",
    "version": 3
   },
   "file_extension": ".py",
   "mimetype": "text/x-python",
   "name": "python",
   "nbconvert_exporter": "python",
   "pygments_lexer": "ipython3",
   "version": "3.8.13 (default, Oct  4 2022, 14:00:32) \n[GCC 9.4.0]"
  },
  "orig_nbformat": 4,
  "vscode": {
   "interpreter": {
    "hash": "9ac03a0a6051494cc606d484d27d20fce22fb7b4d169f583271e11d5ba46a56e"
   }
  }
 },
 "nbformat": 4,
 "nbformat_minor": 2
}
