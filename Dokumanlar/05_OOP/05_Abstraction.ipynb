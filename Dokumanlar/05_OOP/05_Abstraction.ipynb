{
 "cells": [
  {
   "cell_type": "markdown",
   "metadata": {},
   "source": [
    "# Abstraction"
   ]
  },
  {
   "cell_type": "code",
   "execution_count": 6,
   "metadata": {},
   "outputs": [
    {
     "ename": "TypeError",
     "evalue": "Can't instantiate abstract class Vehicle with abstract methods yakit",
     "output_type": "error",
     "traceback": [
      "\u001b[0;31m---------------------------------------------------------------------------\u001b[0m",
      "\u001b[0;31mTypeError\u001b[0m                                 Traceback (most recent call last)",
      "Cell \u001b[0;32mIn [6], line 17\u001b[0m\n\u001b[1;32m     14\u001b[0m         \u001b[39mprint\u001b[39m(\u001b[39m\"\u001b[39m\u001b[39mYakıt Aldı\u001b[39m\u001b[39m\"\u001b[39m)\n\u001b[1;32m     16\u001b[0m obj1 \u001b[39m=\u001b[39m Land_Vehicle(\u001b[39m4\u001b[39m)\n\u001b[0;32m---> 17\u001b[0m objGenel \u001b[39m=\u001b[39m Vehicle()\n",
      "\u001b[0;31mTypeError\u001b[0m: Can't instantiate abstract class Vehicle with abstract methods yakit"
     ]
    }
   ],
   "source": [
    "from abc import ABC,abstractmethod\n",
    "\n",
    "class Vehicle(ABC): # nesne olarak üretilemez\n",
    "    @abstractmethod\n",
    "    def yakit(self):\n",
    "        pass\n",
    "\n",
    "\n",
    "class Land_Vehicle(Vehicle):\n",
    "    def __init__(self,tier):\n",
    "        self.tiercount = 4\n",
    "\n",
    "    def yakit(self):\n",
    "        print(\"Yakıt Aldı\")\n",
    "\n",
    "obj1 = Land_Vehicle(4)\n",
    "# objGenel = Vehicle()"
   ]
  },
  {
   "cell_type": "code",
   "execution_count": null,
   "metadata": {},
   "outputs": [],
   "source": []
  }
 ],
 "metadata": {
  "kernelspec": {
   "display_name": "Python 3",
   "language": "python",
   "name": "python3"
  },
  "language_info": {
   "codemirror_mode": {
    "name": "ipython",
    "version": 3
   },
   "file_extension": ".py",
   "mimetype": "text/x-python",
   "name": "python",
   "nbconvert_exporter": "python",
   "pygments_lexer": "ipython3",
   "version": "3.8.13 (default, Oct  4 2022, 14:00:32) \n[GCC 9.4.0]"
  },
  "orig_nbformat": 4,
  "vscode": {
   "interpreter": {
    "hash": "9ac03a0a6051494cc606d484d27d20fce22fb7b4d169f583271e11d5ba46a56e"
   }
  }
 },
 "nbformat": 4,
 "nbformat_minor": 2
}
