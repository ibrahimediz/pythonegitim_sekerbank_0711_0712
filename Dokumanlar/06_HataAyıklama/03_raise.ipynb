{
 "cells": [
  {
   "cell_type": "markdown",
   "metadata": {},
   "source": [
    "### raise"
   ]
  },
  {
   "cell_type": "code",
   "execution_count": 2,
   "metadata": {},
   "outputs": [
    {
     "name": "stdout",
     "output_type": "stream",
     "text": [
      "Genel Hata =>  Sıfıra neyi böleceksin Pos 07TEA0\n",
      "sonunda bu kod satırı her zaman çalışır\n",
      "########## Program Çalışmaya Devam Ediyor ##########\n"
     ]
    }
   ],
   "source": [
    "try:\n",
    "    adim = \"07TEA0\"\n",
    "    a = int(input(\"1. Sayıyı Giriniz:\"))\n",
    "    if a == 0:\n",
    "        raise ZeroDivisionError(\"Sıfıra neyi böleceksin\") ####################\n",
    "    adim = \"A1\"\n",
    "    b = int(input(\"2. Sayıyı Giriniz:\"))\n",
    "    adim = \"07TEA2\"\n",
    "    print(a/b)\n",
    "    adim = \"07TEA3\"\n",
    "except Exception as hata:\n",
    "    print(\"Genel Hata => \",hata,\"Pos\",adim)\n",
    "finally:\n",
    "    print(\"sonunda bu kod satırı her zaman çalışır\") # her zaman çalışır\n",
    "print(\"#\"*10,\"Program Çalışmaya Devam Ediyor\",\"#\"*10,)"
   ]
  },
  {
   "cell_type": "code",
   "execution_count": 5,
   "metadata": {},
   "outputs": [
    {
     "name": "stdout",
     "output_type": "stream",
     "text": [
      "Genel Hata =>  Sıfıra Bölme Hatası Pos\n",
      "sonunda bu kod satırı her zaman çalışır\n",
      "########## Program Çalışmaya Devam Ediyor ##########\n"
     ]
    }
   ],
   "source": [
    "def fonk(a,b):\n",
    "    if a == 0 or b == 0:\n",
    "        raise Exception(\"Sıfıra Bölme Hatası\")\n",
    "    return a/b\n",
    "try:\n",
    "    a = int(input(\"1. Sayıyı Giriniz:\"))\n",
    "    b = int(input(\"2. Sayıyı Giriniz:\"))\n",
    "    print(fonk(a,b))\n",
    "except Exception as hata:\n",
    "    print(\"Genel Hata => \",hata,\"Pos\")\n",
    "finally:\n",
    "    print(\"sonunda bu kod satırı her zaman çalışır\") # her zaman çalışır\n",
    "print(\"#\"*10,\"Program Çalışmaya Devam Ediyor\",\"#\"*10,)"
   ]
  }
 ],
 "metadata": {
  "kernelspec": {
   "display_name": "Python 3",
   "language": "python",
   "name": "python3"
  },
  "language_info": {
   "codemirror_mode": {
    "name": "ipython",
    "version": 3
   },
   "file_extension": ".py",
   "mimetype": "text/x-python",
   "name": "python",
   "nbconvert_exporter": "python",
   "pygments_lexer": "ipython3",
   "version": "3.8.13 (default, Oct  4 2022, 14:00:32) \n[GCC 9.4.0]"
  },
  "orig_nbformat": 4,
  "vscode": {
   "interpreter": {
    "hash": "9ac03a0a6051494cc606d484d27d20fce22fb7b4d169f583271e11d5ba46a56e"
   }
  }
 },
 "nbformat": 4,
 "nbformat_minor": 2
}
