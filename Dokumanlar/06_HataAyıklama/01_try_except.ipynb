{
 "cells": [
  {
   "cell_type": "markdown",
   "metadata": {},
   "source": [
    "# Try Except\n",
    "* Syntax\n",
    "* Exceptions\n",
    "* Exception Hierarchy"
   ]
  },
  {
   "cell_type": "code",
   "execution_count": 19,
   "metadata": {},
   "outputs": [
    {
     "ename": "ValueError",
     "evalue": "invalid literal for int() with base 10: 'a'",
     "output_type": "error",
     "traceback": [
      "\u001b[0;31m---------------------------------------------------------------------------\u001b[0m",
      "\u001b[0;31mValueError\u001b[0m                                Traceback (most recent call last)",
      "Cell \u001b[0;32mIn [19], line 1\u001b[0m\n\u001b[0;32m----> 1\u001b[0m a \u001b[39m=\u001b[39m \u001b[39mint\u001b[39m(\u001b[39minput\u001b[39m(\u001b[39m\"\u001b[39m\u001b[39m1. Sayıyı Giriniz:\u001b[39m\u001b[39m\"\u001b[39m))\n\u001b[1;32m      2\u001b[0m b \u001b[39m=\u001b[39m \u001b[39mint\u001b[39m(\u001b[39minput\u001b[39m(\u001b[39m\"\u001b[39m\u001b[39m2. Sayıyı Giriniz:\u001b[39m\u001b[39m\"\u001b[39m))\n\u001b[1;32m      3\u001b[0m \u001b[39mprint\u001b[39m(a\u001b[39m/\u001b[39mb)\n",
      "\u001b[0;31mValueError\u001b[0m: invalid literal for int() with base 10: 'a'"
     ]
    }
   ],
   "source": [
    "a = int(input(\"1. Sayıyı Giriniz:\"))\n",
    "b = int(input(\"2. Sayıyı Giriniz:\"))\n",
    "print(a/b)\n",
    "print(\"#\"*10,\"Program Çalışmaya Devam Ediyor\",\"#\"*10,)"
   ]
  },
  {
   "cell_type": "code",
   "execution_count": 10,
   "metadata": {},
   "outputs": [
    {
     "name": "stdout",
     "output_type": "stream",
     "text": [
      "Hata\n",
      "########## Program Çalışmaya Devam Ediyor ##########\n"
     ]
    }
   ],
   "source": [
    "try:\n",
    "    a = int(input(\"1. Sayıyı Giriniz:\"))\n",
    "    b = int(input(\"2. Sayıyı Giriniz:\"))\n",
    "    print(a/b)\n",
    "except:\n",
    "    print(\"Hata\")\n",
    "print(\"#\"*10,\"Program Çalışmaya Devam Ediyor\",\"#\"*10,)"
   ]
  },
  {
   "cell_type": "code",
   "execution_count": 12,
   "metadata": {},
   "outputs": [
    {
     "name": "stdout",
     "output_type": "stream",
     "text": [
      "Hata Mesajı: division by zero\n",
      "########## Program Çalışmaya Devam Ediyor ##########\n"
     ]
    }
   ],
   "source": [
    "try:\n",
    "    a = int(input(\"1. Sayıyı Giriniz:\"))\n",
    "    b = int(input(\"2. Sayıyı Giriniz:\"))\n",
    "    print(a/b)\n",
    "except Exception as hata:\n",
    "    print(\"Hata Mesajı:\",hata)\n",
    "print(\"#\"*10,\"Program Çalışmaya Devam Ediyor\",\"#\"*10,)"
   ]
  },
  {
   "cell_type": "markdown",
   "metadata": {},
   "source": [
    "### Exceptions"
   ]
  },
  {
   "cell_type": "code",
   "execution_count": 18,
   "metadata": {},
   "outputs": [
    {
     "name": "stdout",
     "output_type": "stream",
     "text": [
      "Hata Mesajı: invalid literal for int() with base 10: 'a'\n",
      "########## Program Çalışmaya Devam Ediyor ##########\n"
     ]
    }
   ],
   "source": [
    "try:\n",
    "    a = int(input(\"1. Sayıyı Giriniz:\"))\n",
    "    b = int(input(\"2. Sayıyı Giriniz:\"))\n",
    "    print(a/b)\n",
    "except (ValueError,ZeroDivisionError) as hata:\n",
    "    print(\"Hata Mesajı:\",hata)\n",
    "print(\"#\"*10,\"Program Çalışmaya Devam Ediyor\",\"#\"*10,)"
   ]
  },
  {
   "cell_type": "code",
   "execution_count": 14,
   "metadata": {},
   "outputs": [
    {
     "name": "stdout",
     "output_type": "stream",
     "text": [
      "Hata Mesajı: Rakam Girilmedi\n",
      "########## Program Çalışmaya Devam Ediyor ##########\n"
     ]
    }
   ],
   "source": [
    "try:\n",
    "    a = int(input(\"1. Sayıyı Giriniz:\"))\n",
    "    b = int(input(\"2. Sayıyı Giriniz:\"))\n",
    "    print(a/b)\n",
    "except ValueError:\n",
    "    print(\"Hata Mesajı: Rakam Girilmedi\")\n",
    "except ZeroDivisionError:\n",
    "    print(\"Hata Mesajı: Sıfıra Böldü\")\n",
    "print(\"#\"*10,\"Program Çalışmaya Devam Ediyor\",\"#\"*10,)"
   ]
  },
  {
   "cell_type": "code",
   "execution_count": 15,
   "metadata": {},
   "outputs": [
    {
     "name": "stdout",
     "output_type": "stream",
     "text": [
      "Hata Mesajı: Rakam Girilmedi\n",
      "########## Program Çalışmaya Devam Ediyor ##########\n"
     ]
    }
   ],
   "source": [
    "try:\n",
    "    a = int(input(\"1. Sayıyı Giriniz:\"))\n",
    "    b = int(input(\"2. Sayıyı Giriniz:\"))\n",
    "    print(a/b)\n",
    "except ValueError:\n",
    "    print(\"Hata Mesajı: Rakam Girilmedi\")\n",
    "except ZeroDivisionError:\n",
    "    print(\"Hata Mesajı: Sıfıra Böldü\")\n",
    "except Exception:\n",
    "    print(\"Genel Hata\")\n",
    "print(\"#\"*10,\"Program Çalışmaya Devam Ediyor\",\"#\"*10,)"
   ]
  },
  {
   "cell_type": "markdown",
   "metadata": {},
   "source": [
    "### Exception Hierarchy"
   ]
  },
  {
   "cell_type": "code",
   "execution_count": 17,
   "metadata": {},
   "outputs": [
    {
     "name": "stdout",
     "output_type": "stream",
     "text": [
      "Genel Hata\n",
      "########## Program Çalışmaya Devam Ediyor ##########\n"
     ]
    }
   ],
   "source": [
    "try:\n",
    "    a = int(input(\"1. Sayıyı Giriniz:\"))\n",
    "    b = int(input(\"2. Sayıyı Giriniz:\"))\n",
    "    print(a/b)\n",
    "except Exception:\n",
    "    print(\"Genel Hata\") # bu hata çalışır çünkü Exception diğer hataları kapsar\n",
    "except ValueError:\n",
    "    print(\"Hata Mesajı: Rakam Girilmedi\")\n",
    "except ZeroDivisionError:\n",
    "    print(\"Hata Mesajı: Sıfıra Böldü\")\n",
    "print(\"#\"*10,\"Program Çalışmaya Devam Ediyor\",\"#\"*10,)"
   ]
  },
  {
   "cell_type": "markdown",
   "metadata": {},
   "source": [
    "### else using"
   ]
  },
  {
   "cell_type": "code",
   "execution_count": 3,
   "metadata": {},
   "outputs": [
    {
     "name": "stdout",
     "output_type": "stream",
     "text": [
      "Değer Hatası\n"
     ]
    }
   ],
   "source": [
    "try:\n",
    "    a = int(input(\"1. Sayıyı Giriniz:\"))\n",
    "    b = int(input(\"2. Sayıyı Giriniz:\"))\n",
    "except ValueError:\n",
    "    print(\"Değer Hatası\")\n",
    "else: # except çalışmadığı duruda else bloğuna girer\n",
    "    try:\n",
    "        print(a/b)\n",
    "    except:\n",
    "        print(\"Sıfıra Bölme Hatası\")\n",
    "\n"
   ]
  },
  {
   "cell_type": "code",
   "execution_count": null,
   "metadata": {},
   "outputs": [],
   "source": []
  }
 ],
 "metadata": {
  "kernelspec": {
   "display_name": "Python 3",
   "language": "python",
   "name": "python3"
  },
  "language_info": {
   "codemirror_mode": {
    "name": "ipython",
    "version": 3
   },
   "file_extension": ".py",
   "mimetype": "text/x-python",
   "name": "python",
   "nbconvert_exporter": "python",
   "pygments_lexer": "ipython3",
   "version": "3.8.13 (default, Oct  4 2022, 14:00:32) \n[GCC 9.4.0]"
  },
  "orig_nbformat": 4,
  "vscode": {
   "interpreter": {
    "hash": "9ac03a0a6051494cc606d484d27d20fce22fb7b4d169f583271e11d5ba46a56e"
   }
  }
 },
 "nbformat": 4,
 "nbformat_minor": 2
}
