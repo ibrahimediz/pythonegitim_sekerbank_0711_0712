{
 "cells": [
  {
   "cell_type": "markdown",
   "metadata": {},
   "source": [
    "# finally\n",
    "her zaman çalışır"
   ]
  },
  {
   "cell_type": "code",
   "execution_count": 5,
   "metadata": {},
   "outputs": [
    {
     "name": "stdout",
     "output_type": "stream",
     "text": [
      "2.5\n",
      "sonunda bu kod satırı her zaman çalışır\n",
      "########## Program Çalışmaya Devam Ediyor ##########\n"
     ]
    }
   ],
   "source": [
    "try:\n",
    "    a = int(input(\"1. Sayıyı Giriniz:\"))\n",
    "    b = int(input(\"2. Sayıyı Giriniz:\"))\n",
    "    print(a/b)\n",
    "except ValueError:\n",
    "    print(\"Hata Mesajı: Rakam Girilmedi\")\n",
    "except ZeroDivisionError:\n",
    "    print(\"Hata Mesajı: Sıfıra Böldü\")\n",
    "except Exception:\n",
    "    print(\"Genel Hata\")\n",
    "finally:\n",
    "    print(\"sonunda bu kod satırı her zaman çalışır\") # her zaman çalışır\n",
    "print(\"#\"*10,\"Program Çalışmaya Devam Ediyor\",\"#\"*10,)"
   ]
  },
  {
   "cell_type": "code",
   "execution_count": 8,
   "metadata": {},
   "outputs": [
    {
     "name": "stdout",
     "output_type": "stream",
     "text": [
      "Genel Hata division by zero Pos A2\n",
      "sonunda bu kod satırı her zaman çalışır\n",
      "########## Program Çalışmaya Devam Ediyor ##########\n"
     ]
    }
   ],
   "source": [
    "try:\n",
    "    adim = \"07TEA0\"\n",
    "    a = int(input(\"1. Sayıyı Giriniz:\"))\n",
    "    adim = \"A1\"\n",
    "    b = int(input(\"2. Sayıyı Giriniz:\"))\n",
    "    adim = \"07TEA2\"\n",
    "    print(a/b)\n",
    "    adim = \"07TEA3\"\n",
    "except Exception as hata:\n",
    "    print(\"Genel Hata\",hata,\"Pos\",adim)\n",
    "finally:\n",
    "    print(\"sonunda bu kod satırı her zaman çalışır\") # her zaman çalışır\n",
    "print(\"#\"*10,\"Program Çalışmaya Devam Ediyor\",\"#\"*10,)"
   ]
  }
 ],
 "metadata": {
  "kernelspec": {
   "display_name": "Python 3",
   "language": "python",
   "name": "python3"
  },
  "language_info": {
   "codemirror_mode": {
    "name": "ipython",
    "version": 3
   },
   "file_extension": ".py",
   "mimetype": "text/x-python",
   "name": "python",
   "nbconvert_exporter": "python",
   "pygments_lexer": "ipython3",
   "version": "3.8.13 (default, Oct  4 2022, 14:00:32) \n[GCC 9.4.0]"
  },
  "orig_nbformat": 4,
  "vscode": {
   "interpreter": {
    "hash": "9ac03a0a6051494cc606d484d27d20fce22fb7b4d169f583271e11d5ba46a56e"
   }
  }
 },
 "nbformat": 4,
 "nbformat_minor": 2
}
