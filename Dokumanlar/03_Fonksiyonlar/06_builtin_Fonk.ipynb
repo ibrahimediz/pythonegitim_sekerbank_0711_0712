{
 "cells": [
  {
   "cell_type": "markdown",
   "metadata": {},
   "source": [
    "# Gömülü Built In Fonksiyonlar\n",
    "* map\n",
    "* zip\n",
    "* filter\n",
    "* enumerate\n",
    "* eval,exec\n",
    "* all,any\n",
    "* ord,chr\n",
    "* sorted,reversed\n",
    "* iter,next\n",
    "* isinstane"
   ]
  },
  {
   "cell_type": "markdown",
   "metadata": {},
   "source": [
    "#### map"
   ]
  },
  {
   "cell_type": "code",
   "execution_count": 2,
   "metadata": {},
   "outputs": [
    {
     "name": "stdout",
     "output_type": "stream",
     "text": [
      "<map object at 0x7f5f91e7d0a0>\n",
      "1 4 9 16\n"
     ]
    }
   ],
   "source": [
    "liste = [1,2,3,4]\n",
    "print(map(lambda x:x**2,liste))\n",
    "print(*map(lambda x:x**2,liste))"
   ]
  },
  {
   "cell_type": "code",
   "execution_count": 3,
   "metadata": {},
   "outputs": [
    {
     "name": "stdout",
     "output_type": "stream",
     "text": [
      "['1', '0', '0', '0', '0', '0', '0', '0', '1', '4', '6']\n"
     ]
    }
   ],
   "source": [
    "tckimlikno = \"10000000146\"\n",
    "listTC = list(tckimlikno)\n",
    "print(listTC)"
   ]
  },
  {
   "cell_type": "code",
   "execution_count": 5,
   "metadata": {},
   "outputs": [
    {
     "name": "stdout",
     "output_type": "stream",
     "text": [
      "['1', '0', '0', '0', '0', '0', '0', '0', '1', '4', '6']\n",
      "[1, 0, 0, 0, 0, 0, 0, 0, 1, 4, 6]\n"
     ]
    }
   ],
   "source": [
    "tckimlikno = \"10000000146\"\n",
    "listTC = list(tckimlikno)\n",
    "print(listTC)\n",
    "listeTCint = list(map(int,listTC))\n",
    "print(listeTCint)"
   ]
  },
  {
   "cell_type": "markdown",
   "metadata": {},
   "source": [
    "#### zip"
   ]
  },
  {
   "cell_type": "code",
   "execution_count": 17,
   "metadata": {},
   "outputs": [
    {
     "name": "stdout",
     "output_type": "stream",
     "text": [
      "<zip object at 0x7f5f91e0b900>\n",
      "('Uraz', 40) ('Elif', 50) ('Defne', 60) ('Ege', 90)\n"
     ]
    }
   ],
   "source": [
    "liste = [40,50,60,90] \n",
    "listeIsim = [\"Uraz\",\"Elif\",\"Defne\",\"Ege\"]\n",
    "print(zip(listeIsim,liste))\n",
    "print(*zip(listeIsim,liste))"
   ]
  },
  {
   "cell_type": "code",
   "execution_count": 11,
   "metadata": {},
   "outputs": [
    {
     "name": "stdout",
     "output_type": "stream",
     "text": [
      "{'Uraz': 40, 'Elif': 50, 'Defne': 60, 'Ege': 90}\n"
     ]
    }
   ],
   "source": [
    "sozluk = {}\n",
    "sozluk.update(zip(listeIsim,liste))\n",
    "print(sozluk)"
   ]
  },
  {
   "cell_type": "code",
   "execution_count": 14,
   "metadata": {},
   "outputs": [
    {
     "name": "stdout",
     "output_type": "stream",
     "text": [
      "('Uraz', 'Elif', 'Defne', 'Ege') (40, 50, 60, 90)\n"
     ]
    }
   ],
   "source": [
    "print(*zip(*zip(listeIsim,liste))) # unzip"
   ]
  },
  {
   "cell_type": "markdown",
   "metadata": {},
   "source": [
    "#### filter"
   ]
  },
  {
   "cell_type": "code",
   "execution_count": 20,
   "metadata": {},
   "outputs": [
    {
     "name": "stdout",
     "output_type": "stream",
     "text": [
      "T Y\n"
     ]
    }
   ],
   "source": [
    "metin = \"Tahsim Yu nooo\"\n",
    "print(*filter(str.isupper,metin))"
   ]
  },
  {
   "cell_type": "markdown",
   "metadata": {},
   "source": [
    "#### enumerate"
   ]
  },
  {
   "cell_type": "code",
   "execution_count": 22,
   "metadata": {},
   "outputs": [
    {
     "name": "stdout",
     "output_type": "stream",
     "text": [
      "[(0, 'Uraz'), (1, 'Elif'), (2, 'Defne'), (3, 'Ege')]\n",
      "{0: 'Uraz', 1: 'Elif', 2: 'Defne', 3: 'Ege'}\n"
     ]
    }
   ],
   "source": [
    "listeIsim = [\"Uraz\",\"Elif\",\"Defne\",\"Ege\"]\n",
    "print(list(enumerate(listeIsim)))\n",
    "print(dict(enumerate(listeIsim)))"
   ]
  },
  {
   "cell_type": "markdown",
   "metadata": {},
   "source": [
    "#### eval => evaluate"
   ]
  },
  {
   "cell_type": "code",
   "execution_count": 23,
   "metadata": {},
   "outputs": [
    {
     "data": {
      "text/plain": [
       "5"
      ]
     },
     "execution_count": 23,
     "metadata": {},
     "output_type": "execute_result"
    }
   ],
   "source": [
    "eval(\"2+3\")"
   ]
  },
  {
   "cell_type": "code",
   "execution_count": 24,
   "metadata": {},
   "outputs": [
    {
     "data": {
      "text/plain": [
       "34"
      ]
     },
     "execution_count": 24,
     "metadata": {},
     "output_type": "execute_result"
    }
   ],
   "source": [
    "eval(input(\"Çalıştırmak istediğiniz işlemi yazınız:\"))"
   ]
  },
  {
   "cell_type": "markdown",
   "metadata": {},
   "source": [
    "#### exec => execute"
   ]
  },
  {
   "cell_type": "code",
   "execution_count": 25,
   "metadata": {},
   "outputs": [
    {
     "data": {
      "text/plain": [
       "11"
      ]
     },
     "execution_count": 25,
     "metadata": {},
     "output_type": "execute_result"
    }
   ],
   "source": [
    "exec(\"var1=8\")\n",
    "var2 = 3\n",
    "var1 + var2"
   ]
  },
  {
   "cell_type": "markdown",
   "metadata": {},
   "source": [
    "#### all,any"
   ]
  },
  {
   "cell_type": "code",
   "execution_count": 26,
   "metadata": {},
   "outputs": [
    {
     "name": "stdout",
     "output_type": "stream",
     "text": [
      "Boş\n"
     ]
    }
   ],
   "source": [
    "a = \"\"\n",
    "if a:\n",
    "    print(\"Dolu\")\n",
    "else:\n",
    "    print(\"Boş\")"
   ]
  },
  {
   "cell_type": "code",
   "execution_count": 29,
   "metadata": {},
   "outputs": [
    {
     "name": "stdout",
     "output_type": "stream",
     "text": [
      "False\n",
      "False\n"
     ]
    }
   ],
   "source": [
    "liste = [0,\"\",]\n",
    "print(all(liste))\n",
    "print(any(liste))"
   ]
  },
  {
   "cell_type": "code",
   "execution_count": 31,
   "metadata": {},
   "outputs": [
    {
     "name": "stdout",
     "output_type": "stream",
     "text": [
      "True\n",
      "True\n"
     ]
    }
   ],
   "source": [
    "liste = [1,\"-\",]\n",
    "print(all(liste))\n",
    "liste = [1,\"\"]\n",
    "print(any(liste))"
   ]
  },
  {
   "cell_type": "markdown",
   "metadata": {},
   "source": [
    "#### ord,chr"
   ]
  },
  {
   "cell_type": "code",
   "execution_count": 32,
   "metadata": {},
   "outputs": [
    {
     "name": "stdout",
     "output_type": "stream",
     "text": [
      "97\n"
     ]
    }
   ],
   "source": [
    "print(ord(\"a\"))"
   ]
  },
  {
   "cell_type": "code",
   "execution_count": 33,
   "metadata": {},
   "outputs": [
    {
     "name": "stdout",
     "output_type": "stream",
     "text": [
      "a\n"
     ]
    }
   ],
   "source": [
    "print(chr(97))"
   ]
  },
  {
   "cell_type": "markdown",
   "metadata": {},
   "source": [
    "##### sorted,reversed"
   ]
  },
  {
   "cell_type": "code",
   "execution_count": 37,
   "metadata": {},
   "outputs": [
    {
     "data": {
      "text/plain": [
       "[98, 6, 6, 1, 2, 3, 4, 4, 7, 5, 45]"
      ]
     },
     "execution_count": 37,
     "metadata": {},
     "output_type": "execute_result"
    }
   ],
   "source": [
    "liste = [1,2,3,98,6,4,4,7,6,5,45]\n",
    "sozluk = {1:[98,6],2:[4,3,2,1],3:[45,7,5]}\n",
    "def fonk(param):\n",
    "    for key,value  in sozluk.items():\n",
    "        if param in value:\n",
    "            return key\n",
    "    else:\n",
    "        return -1\n",
    "sorted(liste,key=fonk)"
   ]
  },
  {
   "cell_type": "code",
   "execution_count": 39,
   "metadata": {},
   "outputs": [
    {
     "name": "stdout",
     "output_type": "stream",
     "text": [
      "[1, 2, 3, 4, 4, 5, 6, 6, 7, 45, 98]\n"
     ]
    }
   ],
   "source": [
    "liste = [1,2,3,98,6,4,4,7,6,5,45]\n",
    "print(sorted(liste))"
   ]
  },
  {
   "cell_type": "code",
   "execution_count": 40,
   "metadata": {},
   "outputs": [
    {
     "name": "stdout",
     "output_type": "stream",
     "text": [
      "[1, 2, 3, 98, 6, 4, 4, 7, 6, 5, 45]\n"
     ]
    }
   ],
   "source": [
    "print(liste)"
   ]
  },
  {
   "cell_type": "markdown",
   "metadata": {},
   "source": [
    "#### reversed"
   ]
  },
  {
   "cell_type": "code",
   "execution_count": 42,
   "metadata": {},
   "outputs": [
    {
     "name": "stdout",
     "output_type": "stream",
     "text": [
      "45 5 6 7 4 4 6 98 3 2 1\n"
     ]
    }
   ],
   "source": [
    "liste = [1,2,3,98,6,4,4,7,6,5,45]\n",
    "print(*reversed(liste))"
   ]
  },
  {
   "cell_type": "markdown",
   "metadata": {},
   "source": [
    "#### iter,next"
   ]
  },
  {
   "cell_type": "code",
   "execution_count": 48,
   "metadata": {},
   "outputs": [
    {
     "name": "stdout",
     "output_type": "stream",
     "text": [
      "Ş\n",
      "e\n"
     ]
    }
   ],
   "source": [
    "metin = \"Şekerbank\"\n",
    "metinIter = iter(metin)\n",
    "print(next(metinIter))\n",
    "print(next(metinIter))"
   ]
  },
  {
   "cell_type": "markdown",
   "metadata": {},
   "source": [
    "#### isinstance"
   ]
  },
  {
   "cell_type": "code",
   "execution_count": 52,
   "metadata": {},
   "outputs": [
    {
     "name": "stdout",
     "output_type": "stream",
     "text": [
      "True\n",
      "True\n"
     ]
    }
   ],
   "source": [
    "var1 = 2\n",
    "var2 = 2.0\n",
    "print(isinstance(var1,int))\n",
    "print(isinstance(var2,float))"
   ]
  },
  {
   "cell_type": "code",
   "execution_count": 55,
   "metadata": {},
   "outputs": [
    {
     "name": "stdout",
     "output_type": "stream",
     "text": [
      "True\n"
     ]
    }
   ],
   "source": [
    "sozluk = {\n",
    "    \"_id\": \"637f73d9afd291b3250460e7\",\n",
    "    \"index\": 0,\n",
    "    \"guid\": \"c5a95ac5-3ffa-4611-96d1-f4b068d10132\",\n",
    "    \"isActive\": False,\n",
    "    \"balance\": \"$2,871.30\",\n",
    "    \"picture\": \"http://placehold.it/32x32\",\n",
    "    \"age\": 29,\n",
    "    \"eyeColor\": \"brown\",\n",
    "    \"name\": \"Isabel Salazar\",\n",
    "    \"gender\": \"female\",\n",
    "    \"company\": \"SULTRAX\",\n",
    "    \"email\": \"isabelsalazar@sultrax.com\",\n",
    "    \"phone\": \"+1 (915) 465-3075\",\n",
    "    \"address\": \"422 Noel Avenue, Welch, Federated States Of Micronesia, 7760\",\n",
    "    \"about\": \"Sipisicing officia fugiat fugiat nulla.\\r\\n\",\n",
    "    \"registered\": \"2022-02-26T10:30:56 -03:00\",\n",
    "    \"latitude\": 62.692592,\n",
    "    \"longitude\": -79.160338,\n",
    "    \"tags\": [\n",
    "      \"laborum\",\n",
    "      \"labore\",\n",
    "      \"do\",\n",
    "      \"et\",\n",
    "      \"mollit\",\n",
    "      \"tempor\",\n",
    "      \"commodo\"\n",
    "    ],\n",
    "    \"friends\": [\n",
    "      {\n",
    "        \"id\": 0,\n",
    "        \"name\": \"Hoffman Allison\"\n",
    "      },\n",
    "      {\n",
    "        \"id\": 1,\n",
    "        \"name\": \"Gail Doyle\"\n",
    "      },\n",
    "      {\n",
    "        \"id\": 2,\n",
    "        \"name\": \"Jacobson Webb\"\n",
    "      }\n",
    "    ],\n",
    "    \"greeting\": \"Hello, Isabel Salazar! You have 3 unread messages.\",\n",
    "    \"favoriteFruit\": \"apple\"\n",
    "  }\n",
    "print(isinstance(sozluk,dict))"
   ]
  },
  {
   "cell_type": "code",
   "execution_count": 58,
   "metadata": {},
   "outputs": [],
   "source": []
  }
 ],
 "metadata": {
  "kernelspec": {
   "display_name": "Python 3",
   "language": "python",
   "name": "python3"
  },
  "language_info": {
   "codemirror_mode": {
    "name": "ipython",
    "version": 3
   },
   "file_extension": ".py",
   "mimetype": "text/x-python",
   "name": "python",
   "nbconvert_exporter": "python",
   "pygments_lexer": "ipython3",
   "version": "3.8.13 (default, Oct  4 2022, 14:00:32) \n[GCC 9.4.0]"
  },
  "orig_nbformat": 4,
  "vscode": {
   "interpreter": {
    "hash": "9ac03a0a6051494cc606d484d27d20fce22fb7b4d169f583271e11d5ba46a56e"
   }
  }
 },
 "nbformat": 4,
 "nbformat_minor": 2
}
