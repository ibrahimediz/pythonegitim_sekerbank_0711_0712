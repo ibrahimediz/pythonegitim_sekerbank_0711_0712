{
 "cells": [
  {
   "cell_type": "markdown",
   "metadata": {},
   "source": [
    "# Global Local Kavramları\n",
    "* global\n",
    "* local\n",
    "* nonlocal"
   ]
  },
  {
   "cell_type": "markdown",
   "metadata": {},
   "source": [
    "### global"
   ]
  },
  {
   "cell_type": "code",
   "execution_count": 3,
   "metadata": {},
   "outputs": [
    {
     "name": "stdout",
     "output_type": "stream",
     "text": [
      "Fonksiyondan Önce a=>: 2\n",
      "Fonksiyon Çalıştı a=> 3\n",
      "Fonksiyondan Sonra a=>: 2\n"
     ]
    }
   ],
   "source": [
    "a = 2 # global a \n",
    "def fonk(b):\n",
    "    a = 3 # local a\n",
    "    return a\n",
    "print(\"Fonksiyondan Önce a=>:\",a)\n",
    "print(\"Fonksiyon Çalıştı a=>\",fonk(44444))\n",
    "print(\"Fonksiyondan Sonra a=>:\",a)\n"
   ]
  },
  {
   "cell_type": "code",
   "execution_count": 5,
   "metadata": {},
   "outputs": [
    {
     "name": "stdout",
     "output_type": "stream",
     "text": [
      "Fonksiyondan Önce a=>: 2\n",
      "Fonksiyon Çalıştı a=> 3\n",
      "Fonksiyondan Sonra a=>: 3\n"
     ]
    }
   ],
   "source": [
    "a = 2 # global a \n",
    "def fonk(b):\n",
    "    global a #####################\n",
    "    a = 3 # global a\n",
    "    return a\n",
    "print(\"Fonksiyondan Önce a=>:\",a)\n",
    "print(\"Fonksiyon Çalıştı a=>\",fonk(44444))\n",
    "print(\"Fonksiyondan Sonra a=>:\",a)"
   ]
  },
  {
   "cell_type": "code",
   "execution_count": 7,
   "metadata": {},
   "outputs": [
    {
     "name": "stdout",
     "output_type": "stream",
     "text": [
      "Fonksiyondan Önce a=>: 2\n",
      "İçerideki Fonksiyon Çalıştı a=> 111\n",
      "Fonksiyon Çalıştı a=> 3\n",
      "Fonksiyondan Sonra a=>: 2\n"
     ]
    }
   ],
   "source": [
    "a = 2 # global a \n",
    "def fonk(b):\n",
    "    a = 3 # \n",
    "    def icfonk(c):\n",
    "        a = 111\n",
    "        return a\n",
    "    print(\"İçerideki Fonksiyon Çalıştı a=>\",icfonk(22222))\n",
    "    return a\n",
    "print(\"Fonksiyondan Önce a=>:\",a)\n",
    "print(\"Fonksiyon Çalıştı a=>\",fonk(44444))\n",
    "print(\"Fonksiyondan Sonra a=>:\",a)"
   ]
  },
  {
   "cell_type": "markdown",
   "metadata": {},
   "source": [
    "### local"
   ]
  },
  {
   "cell_type": "code",
   "execution_count": 10,
   "metadata": {},
   "outputs": [
    {
     "name": "stdout",
     "output_type": "stream",
     "text": [
      "Fonksiyondan Önce a=>: 2\n",
      "İçerideki Fonksiyon Çalıştı a=> 111\n",
      "Fonksiyon Çalıştı a=> 3\n",
      "Fonksiyondan Sonra a=>: 111\n"
     ]
    }
   ],
   "source": [
    "a = 2 # global a \n",
    "def fonk(b):\n",
    "    a = 3 # local a\n",
    "    def icfonk(c):\n",
    "        global a\n",
    "        a = 111\n",
    "        return a\n",
    "    print(\"İçerideki Fonksiyon Çalıştı a=>\",icfonk(22222))\n",
    "    return a\n",
    "print(\"Fonksiyondan Önce a=>:\",a)\n",
    "print(\"Fonksiyon Çalıştı a=>\",fonk(44444))\n",
    "print(\"Fonksiyondan Sonra a=>:\",a)"
   ]
  },
  {
   "cell_type": "markdown",
   "metadata": {},
   "source": [
    "### nonlocal"
   ]
  },
  {
   "cell_type": "code",
   "execution_count": 11,
   "metadata": {},
   "outputs": [
    {
     "name": "stdout",
     "output_type": "stream",
     "text": [
      "Fonksiyondan Önce a=>: 2\n",
      "İçerideki Fonksiyon Çalıştı a=> 111\n",
      "Fonksiyon Çalıştı a=> 111\n",
      "Fonksiyondan Sonra a=>: 2\n"
     ]
    }
   ],
   "source": [
    "a = 2 # global a \n",
    "def fonk(b):\n",
    "    a = 3 # local a => nonlocal ile içerideki fonksiyonda kullanabilirsin.\n",
    "    def icfonk(c):\n",
    "        nonlocal a\n",
    "        a = 111\n",
    "        return a\n",
    "    print(\"İçerideki Fonksiyon Çalıştı a=>\",icfonk(22222))\n",
    "    return a\n",
    "print(\"Fonksiyondan Önce a=>:\",a)\n",
    "print(\"Fonksiyon Çalıştı a=>\",fonk(44444))\n",
    "print(\"Fonksiyondan Sonra a=>:\",a)"
   ]
  },
  {
   "cell_type": "code",
   "execution_count": null,
   "metadata": {},
   "outputs": [],
   "source": []
  }
 ],
 "metadata": {
  "kernelspec": {
   "display_name": "Python 3",
   "language": "python",
   "name": "python3"
  },
  "language_info": {
   "codemirror_mode": {
    "name": "ipython",
    "version": 3
   },
   "file_extension": ".py",
   "mimetype": "text/x-python",
   "name": "python",
   "nbconvert_exporter": "python",
   "pygments_lexer": "ipython3",
   "version": "3.8.13 (default, Oct  4 2022, 14:00:32) \n[GCC 9.4.0]"
  },
  "orig_nbformat": 4,
  "vscode": {
   "interpreter": {
    "hash": "9ac03a0a6051494cc606d484d27d20fce22fb7b4d169f583271e11d5ba46a56e"
   }
  }
 },
 "nbformat": 4,
 "nbformat_minor": 2
}
