{
 "cells": [
  {
   "cell_type": "markdown",
   "metadata": {},
   "source": [
    "```\n",
    "\"\"\"\n",
    "Kurallar:\n",
    "* 11 hanelidir.\n",
    "* Her hanesi rakamsal değer içerir.\n",
    "* İlk hane 0 olamaz.\n",
    "* 1. 3. 5. 7. ve 9. hanelerin toplamının 7 katından, 2. 4. 6. ve 8. hanelerin toplamı çıkartıldığında, elde edilen sonucun 10'a bölümünden kalan, yani Mod10'u bize 10. haneyi verir.\n",
    "* 1. 2. 3. 4. 5. 6. 7. 8. 9. ve 10. hanelerin toplamından elde edilen sonucun 10'a bölümünden kalan, yani Mod10'u bize 11. haneyi verir.\n",
    "\"\"\"\n",
    "```"
   ]
  },
  {
   "cell_type": "code",
   "execution_count": null,
   "metadata": {},
   "outputs": [],
   "source": []
  },
  {
   "cell_type": "markdown",
   "metadata": {},
   "source": [
    "https://www.tcmb.gov.tr/wps/wcm/connect/c8357e06-1ab6-4c49-8352-7b9c19fcb77e/Teblig+2021_5.pdf?MOD=AJPERES\n",
    "yukarıdaki adreste yer alan adımları uygulayarak bir IBAN doğrulama fonksiyonun python kodu ile yazınız<br>"
   ]
  },
  {
   "cell_type": "markdown",
   "metadata": {},
   "source": [
    "Çözüm : ```\n",
    "Adım 1\n",
    "IBAN’ın ilk dört karakteri mevcut yerinden sayının sağ tarafına atılır.\n",
    "Sonuç = 0000100100000350930001TR47<br>\n",
    "Adım 2\n",
    "Numara içerisindeki harfler Ek 2’de yer alan “Dönüştürme Tablosuna” uygun olarak sayısal\n",
    "karakterlere çevrilir.\n",
    "Sonuç = 0000100100000350930001292747<br>\n",
    "Adım 3\n",
    "Kontrol basamaklarının doğruluğunun kontrolü için MOD 97-10 (ISO 7064 No.lu standart)\n",
    "yöntemi uygulanır.<br>\n",
    "Kontrol basamaklarının doğru olması için bulunan sayının 97’ye bölümünden kalanının (MOD\n",
    "97-10) 1 olması gerekmektedir.\n",
    "“0000100100000350930001292747” sayısının 97’ye bölümünden kalan 1’dir.<br>\n",
    "Böylece verilen IBAN içerisindeki kontrol basamaklarının doğruluğu ispatlanmış olur.\n",
    "MOD hesaplamalarına yönelik yazılımlar için mod hesaplaması yapılan sayı çok uzun ise (32 bit\n",
    "veya 64 bitlik bir veri 9 veya 18 basamaklı bir sayıyı temsil etmektedir.) hesaplama, mod\n",
    "hesaplaması yapılacak olan sayı 9 veya 18’lik basamaklara bölünerek yapılabilir.<br>\n",
    "Örnek:\n",
    "- 0000100100000350930001292747 sayısının 97’ye bölümünden kalan 1’dir.\n",
    "- Sayının ilk 9 (veya 18) basamağının MOD 97-10 değeri hesaplanır.\n",
    "- 000010010 ’ın MOD 97-10’u = 19\n",
    "- Bulunan sayının sonuna kalan sayıları ekleyerek basamak sayısı 9’a (18’e) tamamlanır ve MOD\n",
    "97-10’u hesaplanır.\n",
    "- 19000035093 ’ün MOD 97-10’u = 43\n",
    "- Bir önceki basamak kalan sayılar ile tekrarlanır.\n",
    "- 430001292747 'nin MOD 97-10’u = 1 (Aynı sonuca ulaşılır.)\n",
    "```"
   ]
  },
  {
   "cell_type": "code",
   "execution_count": 11,
   "metadata": {},
   "outputs": [
    {
     "name": "stdout",
     "output_type": "stream",
     "text": [
      "IBAN Doğru\n"
     ]
    }
   ],
   "source": [
    "# IBAN = \"TR47 0000 1001 0000 0350 9300 01\"\n",
    "IBAN = input(\"IBAN bilgisini giriniz:\")\n",
    "IBAN = IBAN.replace(\" \",\"\")\n",
    "IBAN = IBAN[4:] +  str(ord(IBAN[0])-55) + str(ord(IBAN[1])-55) +   IBAN[2:4]\n",
    "if int(IBAN)%97 == 1:\n",
    "    print(\"IBAN Doğru\")\n",
    "else:\n",
    "    print(\"IBAN Yanlış\")\n"
   ]
  },
  {
   "cell_type": "markdown",
   "metadata": {},
   "source": [
    "Şifre Üretici<br>\n",
    "Aşağıdaki kriterlere uygun olarak şifre üreten bir python fonksiyonu yazınız\n",
    "1. Uzunluk en az 8 karakter olup kullanıcı tarafından girilmelidir\n",
    "2. En az bir küçük harf barındırmalıdır\n",
    "3. En az bir büyük harf barındırmalıdır\n",
    "4. En az bir rakam barındırmalıdır\n",
    "5. En az bir noktalama işareti barındırmalıdır."
   ]
  },
  {
   "cell_type": "code",
   "execution_count": 61,
   "metadata": {},
   "outputs": [
    {
     "name": "stdout",
     "output_type": "stream",
     "text": [
      "b9KWzG_U!3jSR`W8QrDNXK@NY8|WYE\n"
     ]
    }
   ],
   "source": [
    "from string import ascii_lowercase,ascii_uppercase,digits,punctuation\n",
    "from random import choice\n",
    "def sifreKontrol(sifre):\n",
    "    bHarf = kHarf = rakam = nokta = False\n",
    "    for item in sifre:\n",
    "        if not bHarf and item.isupper():\n",
    "            bHarf = True\n",
    "            continue\n",
    "        elif not kHarf and item.islower():\n",
    "            kHarf = True\n",
    "            continue\n",
    "        elif not rakam and item.isdigit():\n",
    "            rakam = True\n",
    "            continue\n",
    "        elif not nokta:\n",
    "            nokta = True\n",
    "            continue\n",
    "    else:\n",
    "        return bHarf and kHarf and rakam and nokta\n",
    "\n",
    "def sifreUreteci(uzunluk):\n",
    "    sifre = \"\"\n",
    "    while not sifreKontrol(sifre):\n",
    "        sifre = \"\"\n",
    "        setler = ascii_lowercase,ascii_uppercase,digits,punctuation\n",
    "        while len(sifre) < uzunluk:\n",
    "            sifre+=choice(choice(setler))\n",
    "    else:\n",
    "        return sifre\n",
    "print(sifreUreteci(30))"
   ]
  },
  {
   "cell_type": "code",
   "execution_count": 28,
   "metadata": {},
   "outputs": [
    {
     "name": "stdout",
     "output_type": "stream",
     "text": [
      "abcdefghijklmnopqrstuvwxyz ABCDEFGHIJKLMNOPQRSTUVWXYZ 0123456789 !\"#$%&'()*+,-./:;<=>?@[\\]^_`{|}~\n"
     ]
    }
   ],
   "source": [
    "from string import ascii_lowercase,ascii_uppercase\n",
    "print(ascii_lowercase,ascii_uppercase,digits,punctuation)"
   ]
  },
  {
   "cell_type": "code",
   "execution_count": 51,
   "metadata": {},
   "outputs": [
    {
     "data": {
      "text/plain": [
       "'u'"
      ]
     },
     "execution_count": 51,
     "metadata": {},
     "output_type": "execute_result"
    }
   ],
   "source": [
    "from random import  choice\n",
    "liste = [1,2,3,4,5,6]\n",
    "setler = ascii_lowercase,ascii_uppercase,digits,punctuation\n",
    "choice(choice(setler))"
   ]
  },
  {
   "cell_type": "code",
   "execution_count": 58,
   "metadata": {},
   "outputs": [
    {
     "data": {
      "text/plain": [
       "True"
      ]
     },
     "execution_count": 58,
     "metadata": {},
     "output_type": "execute_result"
    }
   ],
   "source": [
    "not punctuation[1].isalpha() and  punctuation[1].isascii() and not punctuation[1].isdigit()"
   ]
  },
  {
   "cell_type": "code",
   "execution_count": null,
   "metadata": {},
   "outputs": [],
   "source": [
    "str.isascii()"
   ]
  }
 ],
 "metadata": {
  "kernelspec": {
   "display_name": "Python 3",
   "language": "python",
   "name": "python3"
  },
  "language_info": {
   "codemirror_mode": {
    "name": "ipython",
    "version": 3
   },
   "file_extension": ".py",
   "mimetype": "text/x-python",
   "name": "python",
   "nbconvert_exporter": "python",
   "pygments_lexer": "ipython3",
   "version": "3.8.13"
  },
  "orig_nbformat": 4,
  "vscode": {
   "interpreter": {
    "hash": "9ac03a0a6051494cc606d484d27d20fce22fb7b4d169f583271e11d5ba46a56e"
   }
  }
 },
 "nbformat": 4,
 "nbformat_minor": 2
}
