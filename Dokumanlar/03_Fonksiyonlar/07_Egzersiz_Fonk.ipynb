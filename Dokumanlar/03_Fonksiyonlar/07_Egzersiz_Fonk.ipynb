{
 "cells": [
  {
   "cell_type": "markdown",
   "metadata": {},
   "source": [
    "```\n",
    "\"\"\"\n",
    "Kurallar:\n",
    "* 11 hanelidir.\n",
    "* Her hanesi rakamsal değer içerir.\n",
    "* İlk hane 0 olamaz.\n",
    "* 1. 3. 5. 7. ve 9. hanelerin toplamının 7 katından, 2. 4. 6. ve 8. hanelerin toplamı çıkartıldığında, elde edilen sonucun 10'a bölümünden kalan, yani Mod10'u bize 10. haneyi verir.\n",
    "* 1. 2. 3. 4. 5. 6. 7. 8. 9. ve 10. hanelerin toplamından elde edilen sonucun 10'a bölümünden kalan, yani Mod10'u bize 11. haneyi verir.\n",
    "\"\"\"\n",
    "```"
   ]
  },
  {
   "cell_type": "code",
   "execution_count": 14,
   "metadata": {},
   "outputs": [
    {
     "data": {
      "text/plain": [
       "True"
      ]
     },
     "execution_count": 14,
     "metadata": {},
     "output_type": "execute_result"
    }
   ],
   "source": [
    "inpTCKN = \"10000000146\" \n",
    "# inpTCKN=input(\"TCKN Giriniz:\")\n",
    "def TCKimlikKontrol(inpTCKN):\n",
    "    dogrulama = False\n",
    "    if inpTCKN.isdigit() and len(inpTCKN)==11:\n",
    "        if inpTCKN[0] != \"0\":\n",
    "            liste = list(map(int,inpTCKN))\n",
    "            if (sum(liste[0:9:2])*7 - sum(liste[1:8:2])) % 10 == liste[9]:\n",
    "                if sum(liste[0:10]) % 10 == liste[10]:\n",
    "                    dogrulama = True\n",
    "    return dogrulama\n",
    "\n",
    "TCKimlikKontrol(inpTCKN)\n",
    "\n",
    "    "
   ]
  },
  {
   "cell_type": "code",
   "execution_count": 3,
   "metadata": {},
   "outputs": [
    {
     "name": "stdout",
     "output_type": "stream",
     "text": [
      "0\n"
     ]
    }
   ],
   "source": [
    "\"\"\"\n",
    "Kurallar:\n",
    "* 11 hanelidir.\n",
    "* Her hanesi rakamsal değer içerir.\n",
    "* İlk hane 0 olamaz.\n",
    "* 1. 3. 5. 7. ve 9. hanelerin toplamının 7 katından, 2. 4. 6. ve 8. hanelerin toplamı çıkartıldığında, elde edilen sonucun 10'a bölümünden kalan, yani Mod10'u bize 10. haneyi verir.\n",
    "* 1. 2. 3. 4. 5. 6. 7. 8. 9. ve 10. hanelerin toplamından elde edilen sonucun 10'a bölümünden kalan, yani Mod10'u bize 11. haneyi verir.\n",
    "\"\"\"\n",
    "\n",
    "def tckn_kontrol(tckn):\n",
    "  tckn=list(map(int,tckn))\n",
    "  tek=cift=t10=0\n",
    "  for i in range(0,10):\n",
    "    if i<9: #9 =10.hane\n",
    "      if i%2==0:\n",
    "        tek+=tckn[i] #1-3-5-7-9 haneler 0-2-4-6-8\n",
    "      else:\n",
    "        cift+=tckn[i] #2-4-6-8 haneler 1-3-5-7\n",
    "        \n",
    "    t10+=tckn[i]\n",
    "  if (tek*7-cift)%10==tckn[9] and t10%10==tckn[10]:\n",
    "    return 1\n",
    "  else: return 0\n",
    "\n",
    "inpTCKN=input(\"TCKN Giriniz:\")\n",
    "if inpTCKN.isdigit() and len(inpTCKN)==11:\n",
    "  print(tckn_kontrol(inpTCKN))\n",
    "else: print(\"Tamamı rakamlardan oluşan 11 haneli bir TCKN giriniz.\")"
   ]
  },
  {
   "cell_type": "code",
   "execution_count": 5,
   "metadata": {},
   "outputs": [
    {
     "name": "stdout",
     "output_type": "stream",
     "text": [
      "2\n",
      "0\n",
      "6\n",
      "TCKN yanlış\n"
     ]
    }
   ],
   "source": [
    "tc = input(\"TCKN giriniz: \")\n",
    "tek = sum(int(i) for i in tc[0:10:2])\n",
    "cift = sum(int(i) for i in tc[1:9:2])\n",
    "toplam = sum(int(i) for i in tc[0:10])\n",
    "print(tek)\n",
    "print(cift)\n",
    "print(toplam)\n",
    "\n",
    "if tc.isdigit():\n",
    "    if len(tc) == 11:\n",
    "        if tc[0] != 0:\n",
    "            tek = sum(int(i) for i in tc[0:10:2])\n",
    "            cift = sum(int(i) for i in tc[1:9:2])\n",
    "            toplam = sum(int(i) for i in tc[0:10])\n",
    "            if (tek*7-cift) % 10 == tc[9] and toplam % 10 == tc[10]:\n",
    "                print(\"TCKN doğru\")\n",
    "            else:\n",
    "                print(\"TCKN yanlış\")\n",
    "        else:\n",
    "            print(\"İlk hane 0 olamaz\")\n",
    "    else:\n",
    "        print(\"TCKN 11 haneli olmalı\")\n",
    "else:\n",
    "    print(\"TCKN rakamsal değer olmalı\")\n"
   ]
  },
  {
   "cell_type": "markdown",
   "metadata": {},
   "source": [
    "https://www.tcmb.gov.tr/wps/wcm/connect/c8357e06-1ab6-4c49-8352-7b9c19fcb77e/Teblig+2021_5.pdf?MOD=AJPERES\n",
    "yukarıdaki adreste yer alan adımları uygulayarak bir IBAN doğrulama fonksiyonun python kodu ile yazınız<br>"
   ]
  },
  {
   "cell_type": "markdown",
   "metadata": {},
   "source": [
    "Çözüm : ```\n",
    "Adım 1\n",
    "IBAN’ın ilk dört karakteri mevcut yerinden sayının sağ tarafına atılır.\n",
    "Sonuç = 0000100100000350930001TR47<br>\n",
    "Adım 2\n",
    "Numara içerisindeki harfler Ek 2’de yer alan “Dönüştürme Tablosuna” uygun olarak sayısal\n",
    "karakterlere çevrilir.\n",
    "Sonuç = 0000100100000350930001292747<br>\n",
    "Adım 3\n",
    "Kontrol basamaklarının doğruluğunun kontrolü için MOD 97-10 (ISO 7064 No.lu standart)\n",
    "yöntemi uygulanır.<br>\n",
    "Kontrol basamaklarının doğru olması için bulunan sayının 97’ye bölümünden kalanının (MOD\n",
    "97-10) 1 olması gerekmektedir.\n",
    "“0000100100000350930001292747” sayısının 97’ye bölümünden kalan 1’dir.<br>\n",
    "Böylece verilen IBAN içerisindeki kontrol basamaklarının doğruluğu ispatlanmış olur.\n",
    "MOD hesaplamalarına yönelik yazılımlar için mod hesaplaması yapılan sayı çok uzun ise (32 bit\n",
    "veya 64 bitlik bir veri 9 veya 18 basamaklı bir sayıyı temsil etmektedir.) hesaplama, mod\n",
    "hesaplaması yapılacak olan sayı 9 veya 18’lik basamaklara bölünerek yapılabilir.<br>\n",
    "Örnek:\n",
    "- 0000100100000350930001292747 sayısının 97’ye bölümünden kalan 1’dir.\n",
    "- Sayının ilk 9 (veya 18) basamağının MOD 97-10 değeri hesaplanır.\n",
    "- 000010010 ’ın MOD 97-10’u = 19\n",
    "- Bulunan sayının sonuna kalan sayıları ekleyerek basamak sayısı 9’a (18’e) tamamlanır ve MOD\n",
    "97-10’u hesaplanır.\n",
    "- 19000035093 ’ün MOD 97-10’u = 43\n",
    "- Bir önceki basamak kalan sayılar ile tekrarlanır.\n",
    "- 430001292747 'nin MOD 97-10’u = 1 (Aynı sonuca ulaşılır.)\n",
    "```"
   ]
  },
  {
   "cell_type": "code",
   "execution_count": 11,
   "metadata": {},
   "outputs": [
    {
     "name": "stdout",
     "output_type": "stream",
     "text": [
      "IBAN Doğru\n"
     ]
    }
   ],
   "source": [
    "# IBAN = \"TR47 0000 1001 0000 0350 9300 01\"\n",
    "IBAN = input(\"IBAN bilgisini giriniz:\")\n",
    "IBAN = IBAN.replace(\" \",\"\")\n",
    "IBAN = IBAN[4:] +  str(ord(IBAN[0])-55) + str(ord(IBAN[1])-55) +   IBAN[2:4]\n",
    "if int(IBAN)%97 == 1:\n",
    "    print(\"IBAN Doğru\")\n",
    "else:\n",
    "    print(\"IBAN Yanlış\")\n"
   ]
  },
  {
   "cell_type": "markdown",
   "metadata": {},
   "source": [
    "Şifre Üretici<br>\n",
    "Aşağıdaki kriterlere uygun olarak şifre üreten bir python fonksiyonu yazınız\n",
    "1. Uzunluk en az 8 karakter olup kullanıcı tarafından girilmelidir\n",
    "2. En az bir küçük harf barındırmalıdır\n",
    "3. En az bir büyük harf barındırmalıdır\n",
    "4. En az bir rakam barındırmalıdır\n",
    "5. En az bir noktalama işareti barındırmalıdır."
   ]
  },
  {
   "cell_type": "code",
   "execution_count": 61,
   "metadata": {},
   "outputs": [
    {
     "name": "stdout",
     "output_type": "stream",
     "text": [
      "b9KWzG_U!3jSR`W8QrDNXK@NY8|WYE\n"
     ]
    }
   ],
   "source": [
    "from string import ascii_lowercase,ascii_uppercase,digits,punctuation\n",
    "from random import choice\n",
    "def sifreKontrol(sifre):\n",
    "    bHarf = kHarf = rakam = nokta = False\n",
    "    for item in sifre:\n",
    "        if not bHarf and item.isupper():\n",
    "            bHarf = True\n",
    "            continue\n",
    "        elif not kHarf and item.islower():\n",
    "            kHarf = True\n",
    "            continue\n",
    "        elif not rakam and item.isdigit():\n",
    "            rakam = True\n",
    "            continue\n",
    "        elif not nokta:\n",
    "            nokta = True\n",
    "            continue\n",
    "    else:\n",
    "        return bHarf and kHarf and rakam and nokta\n",
    "\n",
    "def sifreUreteci(uzunluk):\n",
    "    sifre = \"\"\n",
    "    while not sifreKontrol(sifre):\n",
    "        sifre = \"\"\n",
    "        setler = ascii_lowercase,ascii_uppercase,digits,punctuation\n",
    "        while len(sifre) < uzunluk:\n",
    "            sifre+=choice(choice(setler))\n",
    "    else:\n",
    "        return sifre\n",
    "print(sifreUreteci(30))"
   ]
  },
  {
   "cell_type": "code",
   "execution_count": 28,
   "metadata": {},
   "outputs": [
    {
     "name": "stdout",
     "output_type": "stream",
     "text": [
      "abcdefghijklmnopqrstuvwxyz ABCDEFGHIJKLMNOPQRSTUVWXYZ 0123456789 !\"#$%&'()*+,-./:;<=>?@[\\]^_`{|}~\n"
     ]
    }
   ],
   "source": [
    "from string import ascii_lowercase,ascii_uppercase\n",
    "print(ascii_lowercase,ascii_uppercase,digits,punctuation)"
   ]
  },
  {
   "cell_type": "code",
   "execution_count": 51,
   "metadata": {},
   "outputs": [
    {
     "data": {
      "text/plain": [
       "'u'"
      ]
     },
     "execution_count": 51,
     "metadata": {},
     "output_type": "execute_result"
    }
   ],
   "source": [
    "from random import  choice\n",
    "liste = [1,2,3,4,5,6]\n",
    "setler = ascii_lowercase,ascii_uppercase,digits,punctuation\n",
    "choice(choice(setler))"
   ]
  },
  {
   "cell_type": "code",
   "execution_count": 58,
   "metadata": {},
   "outputs": [
    {
     "data": {
      "text/plain": [
       "True"
      ]
     },
     "execution_count": 58,
     "metadata": {},
     "output_type": "execute_result"
    }
   ],
   "source": [
    "not punctuation[1].isalpha() and  punctuation[1].isascii() and not punctuation[1].isdigit()"
   ]
  },
  {
   "cell_type": "code",
   "execution_count": null,
   "metadata": {},
   "outputs": [],
   "source": [
    "str.isascii()"
   ]
  }
 ],
 "metadata": {
  "kernelspec": {
   "display_name": "Python 3",
   "language": "python",
   "name": "python3"
  },
  "language_info": {
   "codemirror_mode": {
    "name": "ipython",
    "version": 3
   },
   "file_extension": ".py",
   "mimetype": "text/x-python",
   "name": "python",
   "nbconvert_exporter": "python",
   "pygments_lexer": "ipython3",
   "version": "3.8.13"
  },
  "orig_nbformat": 4,
  "vscode": {
   "interpreter": {
    "hash": "9ac03a0a6051494cc606d484d27d20fce22fb7b4d169f583271e11d5ba46a56e"
   }
  }
 },
 "nbformat": 4,
 "nbformat_minor": 2
}
