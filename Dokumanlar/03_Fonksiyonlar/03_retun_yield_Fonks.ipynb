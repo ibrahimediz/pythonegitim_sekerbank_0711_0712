{
 "cells": [
  {
   "cell_type": "markdown",
   "metadata": {},
   "source": [
    "# Fonksiyonlardan Değerleri Dışarı Aktarmak\n",
    "* return\n",
    "* yield\n",
    "* fonksiyonun type değeri"
   ]
  },
  {
   "cell_type": "code",
   "execution_count": 2,
   "metadata": {},
   "outputs": [
    {
     "name": "stdout",
     "output_type": "stream",
     "text": [
      "5\n"
     ]
    }
   ],
   "source": [
    "def fonk(a,b):\n",
    "    print(a+b)\n",
    "fonk(2,3)"
   ]
  },
  {
   "cell_type": "code",
   "execution_count": 6,
   "metadata": {},
   "outputs": [
    {
     "name": "stdout",
     "output_type": "stream",
     "text": [
      "5\n",
      "None\n"
     ]
    }
   ],
   "source": [
    "sonuc = fonk(2,3) # fonksiyon içerisindeki print fonk. nedeniyle 5 yazılır. Ancak sonuc değişkenine aktarılamaz\n",
    "print(sonuc)"
   ]
  },
  {
   "cell_type": "code",
   "execution_count": 8,
   "metadata": {},
   "outputs": [
    {
     "name": "stdout",
     "output_type": "stream",
     "text": [
      "5\n"
     ]
    }
   ],
   "source": [
    "def fonk(a,b):\n",
    "    return a+b\n",
    "print(fonk(2,3))"
   ]
  },
  {
   "cell_type": "code",
   "execution_count": 9,
   "metadata": {},
   "outputs": [
    {
     "name": "stdout",
     "output_type": "stream",
     "text": [
      "5\n"
     ]
    }
   ],
   "source": [
    "sonuc = fonk(2,3)\n",
    "print(sonuc)"
   ]
  },
  {
   "cell_type": "code",
   "execution_count": 10,
   "metadata": {},
   "outputs": [
    {
     "name": "stdout",
     "output_type": "stream",
     "text": [
      "8\n"
     ]
    }
   ],
   "source": [
    "print(fonk(2,fonk(4,2)))"
   ]
  },
  {
   "cell_type": "markdown",
   "metadata": {},
   "source": [
    "### return ile birden fazla değer dönebilir. Bu durumda fonksiyon hep tuple veri tipinde dönüş sağlar"
   ]
  },
  {
   "cell_type": "code",
   "execution_count": 11,
   "metadata": {},
   "outputs": [
    {
     "name": "stdout",
     "output_type": "stream",
     "text": [
      "(2, 3, 5)\n",
      "2+3=5\n"
     ]
    }
   ],
   "source": [
    "def topla(a,b):\n",
    "    return a,b,a+b\n",
    "sonuc = topla(2,3)\n",
    "print(sonuc)\n",
    "print(f\"{sonuc[0]}+{sonuc[1]}={sonuc[2]}\")"
   ]
  },
  {
   "cell_type": "markdown",
   "metadata": {},
   "source": [
    "### Fonksiyonları tipi nasıl değişir?"
   ]
  },
  {
   "cell_type": "code",
   "execution_count": 13,
   "metadata": {},
   "outputs": [
    {
     "name": "stdout",
     "output_type": "stream",
     "text": [
      "<class 'function'>\n",
      "5\n",
      "<class 'NoneType'>\n"
     ]
    }
   ],
   "source": [
    "def fonk(a,b):\n",
    "    print(a+b)\n",
    "print(type(fonk)) # <class 'function'>\n",
    "print(type(fonk(2,3))) # <class 'NoneType'>"
   ]
  },
  {
   "cell_type": "code",
   "execution_count": 29,
   "metadata": {},
   "outputs": [
    {
     "name": "stdout",
     "output_type": "stream",
     "text": [
      "5\n",
      "<class 'function'> <function fonk at 0x7fb2f79ae310>\n",
      "<class 'int'> 5\n",
      "<class 'str'> 23\n",
      "<class 'tuple'> (2, 3)\n",
      "<class 'list'> [2, 3]\n"
     ]
    }
   ],
   "source": [
    "def fonk(a,b):\n",
    "    return a+b\n",
    "print(type(fonk),fonk) # <class 'function'>\n",
    "print(type(fonk(2,3)),fonk(2,3)) # <class 'int'>\n",
    "print(type(fonk(\"2\",\"3\")),fonk(\"2\",\"3\")) # <class 'str'>\n",
    "print(type(fonk((2,),(3,))),fonk((2,),(3,))) # <class 'tuple'>\n",
    "print(type(fonk([2],[3])),fonk([2],[3])) # <class 'list'>\n"
   ]
  },
  {
   "cell_type": "code",
   "execution_count": 31,
   "metadata": {},
   "outputs": [
    {
     "name": "stdout",
     "output_type": "stream",
     "text": [
      "5\n"
     ]
    }
   ],
   "source": [
    "def fonk(a,b):\n",
    "    return a+b\n",
    "liste = [fonk]\n",
    "print(liste[0](2,3))"
   ]
  },
  {
   "cell_type": "code",
   "execution_count": 16,
   "metadata": {},
   "outputs": [
    {
     "name": "stdout",
     "output_type": "stream",
     "text": [
      "5\n"
     ]
    }
   ],
   "source": [
    "def fonk(a,b):\n",
    "    return a+b\n",
    "    print(\"ÇALIŞMAZ\") # return den sonra geldiği için çalışmayacaktır.\n",
    "print(fonk(2,3)) # <class 'int'>"
   ]
  },
  {
   "cell_type": "markdown",
   "metadata": {},
   "source": [
    "Liste içerisindek asal sayıları geri dönen python fonksiyonunu yazınız."
   ]
  },
  {
   "cell_type": "code",
   "execution_count": 6,
   "metadata": {},
   "outputs": [
    {
     "name": "stdout",
     "output_type": "stream",
     "text": [
      "[5, 17, 23, 41, 47]\n"
     ]
    }
   ],
   "source": [
    "liste = [12,23,17,14,5,8,91,39,41,46,47]\n",
    "def asalBul(sayilar):\n",
    "    sonuc = []\n",
    "    for item in sayilar:\n",
    "        for i in range(2,item): # 2,3,5,7,11,13,19\n",
    "            if item % i == 0: # => item = 11 =>  i ise değişiyor yukarıdaki sayılar\n",
    "                break\n",
    "        else:\n",
    "            sonuc.sort()\n",
    "            sonuc.append(item)\n",
    "    return sonuc\n",
    "print(asalBul(liste))"
   ]
  },
  {
   "cell_type": "code",
   "execution_count": 17,
   "metadata": {},
   "outputs": [
    {
     "name": "stdout",
     "output_type": "stream",
     "text": [
      "(12, 23, 17, 14, 5, 8, 91, 39, 41, 46, 47)\n",
      "[23, 17, 5, 41, 47]\n"
     ]
    }
   ],
   "source": [
    "liste = [12,23,17,14,5,8,91,39,41,46,47]\n",
    "def asalBul(*args):\n",
    "    print(args)\n",
    "    sonuc = [item for item in args if isinstance(item,int) and asalMi(item)]\n",
    "    return sonuc\n",
    "def asalMi(sayi):\n",
    "    for i in range(2,sayi):\n",
    "        if sayi % i == 0:\n",
    "            return False\n",
    "    else:\n",
    "        return True\n",
    "print(asalBul(*liste)) # => 12,23,17,14,5,8,91,39,41,46,47"
   ]
  },
  {
   "cell_type": "code",
   "execution_count": 16,
   "metadata": {},
   "outputs": [
    {
     "name": "stdout",
     "output_type": "stream",
     "text": [
      "2-3-5-7-11-13-17-19-23-29-31-37-41-43-47-53-59-61-67-71-73-79-83-89-97-"
     ]
    }
   ],
   "source": [
    "for i in range(2,100):\n",
    "    if asalMi(i):\n",
    "        print(i,end=\"-\")"
   ]
  },
  {
   "cell_type": "markdown",
   "metadata": {},
   "source": [
    "### Yield"
   ]
  },
  {
   "cell_type": "code",
   "execution_count": 19,
   "metadata": {},
   "outputs": [
    {
     "name": "stdout",
     "output_type": "stream",
     "text": [
      "range(1, 10, 2)\n"
     ]
    }
   ],
   "source": [
    "print(range(1,10,2))"
   ]
  },
  {
   "cell_type": "code",
   "execution_count": 21,
   "metadata": {},
   "outputs": [
    {
     "name": "stdout",
     "output_type": "stream",
     "text": [
      "1 3 5 7 9\n"
     ]
    }
   ],
   "source": [
    "print(*range(1,10,2))"
   ]
  },
  {
   "cell_type": "code",
   "execution_count": 23,
   "metadata": {},
   "outputs": [
    {
     "data": {
      "text/plain": [
       "<generator object uret at 0x7f603b5a17b0>"
      ]
     },
     "execution_count": 23,
     "metadata": {},
     "output_type": "execute_result"
    }
   ],
   "source": [
    "def uret(metin):\n",
    "    for item in metin:\n",
    "        yield item\n",
    "uret(\"Ankara\") # generator Fonksiyon"
   ]
  },
  {
   "cell_type": "code",
   "execution_count": 27,
   "metadata": {},
   "outputs": [
    {
     "name": "stdout",
     "output_type": "stream",
     "text": [
      "A n k a r a\n"
     ]
    }
   ],
   "source": [
    "print(*uret(\"Ankara\"))"
   ]
  },
  {
   "cell_type": "code",
   "execution_count": 29,
   "metadata": {},
   "outputs": [
    {
     "name": "stdout",
     "output_type": "stream",
     "text": [
      "Ş-e-k-e-r-b-a-n-k-"
     ]
    }
   ],
   "source": [
    "for item in uret(\"Şekerbank\"):\n",
    "    print(item,end=\"-\")\n"
   ]
  },
  {
   "cell_type": "code",
   "execution_count": 35,
   "metadata": {},
   "outputs": [
    {
     "name": "stdout",
     "output_type": "stream",
     "text": [
      "2\n",
      "5\n"
     ]
    }
   ],
   "source": [
    "def yuzekadarasal():\n",
    "    for i in range(2,100):\n",
    "        if asalMi(i):\n",
    "            yield i\n",
    "\n",
    "for item in yuzekadarasal():\n",
    "    if 200 % item == 0:\n",
    "        print(item)"
   ]
  }
 ],
 "metadata": {
  "kernelspec": {
   "display_name": "Python 3",
   "language": "python",
   "name": "python3"
  },
  "language_info": {
   "codemirror_mode": {
    "name": "ipython",
    "version": 3
   },
   "file_extension": ".py",
   "mimetype": "text/x-python",
   "name": "python",
   "nbconvert_exporter": "python",
   "pygments_lexer": "ipython3",
   "version": "3.8.13"
  },
  "orig_nbformat": 4,
  "vscode": {
   "interpreter": {
    "hash": "9ac03a0a6051494cc606d484d27d20fce22fb7b4d169f583271e11d5ba46a56e"
   }
  }
 },
 "nbformat": 4,
 "nbformat_minor": 2
}
