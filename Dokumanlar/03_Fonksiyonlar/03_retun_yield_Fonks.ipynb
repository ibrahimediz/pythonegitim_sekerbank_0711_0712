{
 "cells": [
  {
   "cell_type": "markdown",
   "metadata": {},
   "source": [
    "# Fonksiyonlardan Değerleri Dışarı Aktarmak\n",
    "* return\n",
    "* yield\n",
    "* fonksiyonun type değeri"
   ]
  },
  {
   "cell_type": "code",
   "execution_count": 2,
   "metadata": {},
   "outputs": [
    {
     "name": "stdout",
     "output_type": "stream",
     "text": [
      "5\n"
     ]
    }
   ],
   "source": [
    "def fonk(a,b):\n",
    "    print(a+b)\n",
    "fonk(2,3)"
   ]
  },
  {
   "cell_type": "code",
   "execution_count": 6,
   "metadata": {},
   "outputs": [
    {
     "name": "stdout",
     "output_type": "stream",
     "text": [
      "5\n",
      "None\n"
     ]
    }
   ],
   "source": [
    "sonuc = fonk(2,3) # fonksiyon içerisindeki print fonk. nedeniyle 5 yazılır. Ancak sonuc değişkenine aktarılamaz\n",
    "print(sonuc)"
   ]
  },
  {
   "cell_type": "code",
   "execution_count": 8,
   "metadata": {},
   "outputs": [
    {
     "name": "stdout",
     "output_type": "stream",
     "text": [
      "5\n"
     ]
    }
   ],
   "source": [
    "def fonk(a,b):\n",
    "    return a+b\n",
    "print(fonk(2,3))"
   ]
  },
  {
   "cell_type": "code",
   "execution_count": 9,
   "metadata": {},
   "outputs": [
    {
     "name": "stdout",
     "output_type": "stream",
     "text": [
      "5\n"
     ]
    }
   ],
   "source": [
    "sonuc = fonk(2,3)\n",
    "print(sonuc)"
   ]
  },
  {
   "cell_type": "code",
   "execution_count": 10,
   "metadata": {},
   "outputs": [
    {
     "name": "stdout",
     "output_type": "stream",
     "text": [
      "8\n"
     ]
    }
   ],
   "source": [
    "print(fonk(2,fonk(4,2)))"
   ]
  },
  {
   "cell_type": "markdown",
   "metadata": {},
   "source": [
    "### return ile birden fazla değer dönebilir. Bu durumda fonksiyon hep tuple veri tipinde dönüş sağlar"
   ]
  },
  {
   "cell_type": "code",
   "execution_count": 11,
   "metadata": {},
   "outputs": [
    {
     "name": "stdout",
     "output_type": "stream",
     "text": [
      "(2, 3, 5)\n",
      "2+3=5\n"
     ]
    }
   ],
   "source": [
    "def topla(a,b):\n",
    "    return a,b,a+b\n",
    "sonuc = topla(2,3)\n",
    "print(sonuc)\n",
    "print(f\"{sonuc[0]}+{sonuc[1]}={sonuc[2]}\")"
   ]
  },
  {
   "cell_type": "markdown",
   "metadata": {},
   "source": [
    "### Fonksiyonları tipi nasıl değişir?"
   ]
  },
  {
   "cell_type": "code",
   "execution_count": 13,
   "metadata": {},
   "outputs": [
    {
     "name": "stdout",
     "output_type": "stream",
     "text": [
      "<class 'function'>\n",
      "5\n",
      "<class 'NoneType'>\n"
     ]
    }
   ],
   "source": [
    "def fonk(a,b):\n",
    "    print(a+b)\n",
    "print(type(fonk)) # <class 'function'>\n",
    "print(type(fonk(2,3))) # <class 'NoneType'>"
   ]
  },
  {
   "cell_type": "code",
   "execution_count": 29,
   "metadata": {},
   "outputs": [
    {
     "name": "stdout",
     "output_type": "stream",
     "text": [
      "5\n",
      "<class 'function'> <function fonk at 0x7fb2f79ae310>\n",
      "<class 'int'> 5\n",
      "<class 'str'> 23\n",
      "<class 'tuple'> (2, 3)\n",
      "<class 'list'> [2, 3]\n"
     ]
    }
   ],
   "source": [
    "def fonk(a,b):\n",
    "    return a+b\n",
    "print(type(fonk),fonk) # <class 'function'>\n",
    "print(type(fonk(2,3)),fonk(2,3)) # <class 'int'>\n",
    "print(type(fonk(\"2\",\"3\")),fonk(\"2\",\"3\")) # <class 'str'>\n",
    "print(type(fonk((2,),(3,))),fonk((2,),(3,))) # <class 'tuple'>\n",
    "print(type(fonk([2],[3])),fonk([2],[3])) # <class 'list'>\n"
   ]
  },
  {
   "cell_type": "code",
   "execution_count": 31,
   "metadata": {},
   "outputs": [
    {
     "name": "stdout",
     "output_type": "stream",
     "text": [
      "5\n"
     ]
    }
   ],
   "source": [
    "def fonk(a,b):\n",
    "    return a+b\n",
    "liste = [fonk]\n",
    "print(liste[0](2,3))"
   ]
  },
  {
   "cell_type": "code",
   "execution_count": 16,
   "metadata": {},
   "outputs": [
    {
     "name": "stdout",
     "output_type": "stream",
     "text": [
      "5\n"
     ]
    }
   ],
   "source": [
    "def fonk(a,b):\n",
    "    return a+b\n",
    "    print(\"ÇALIŞMAZ\") # return den sonra geldiği için çalışmayacaktır.\n",
    "print(fonk(2,3)) # <class 'int'>"
   ]
  },
  {
   "cell_type": "code",
   "execution_count": null,
   "metadata": {},
   "outputs": [],
   "source": []
  }
 ],
 "metadata": {
  "kernelspec": {
   "display_name": "Python 3",
   "language": "python",
   "name": "python3"
  },
  "language_info": {
   "codemirror_mode": {
    "name": "ipython",
    "version": 3
   },
   "file_extension": ".py",
   "mimetype": "text/x-python",
   "name": "python",
   "nbconvert_exporter": "python",
   "pygments_lexer": "ipython3",
   "version": "3.8.13 (default, Oct  4 2022, 14:00:32) \n[GCC 9.4.0]"
  },
  "orig_nbformat": 4,
  "vscode": {
   "interpreter": {
    "hash": "110cc1dee26208153f2972f08a2ad52b6a56238dc66d48e87fb757ef2996db56"
   }
  }
 },
 "nbformat": 4,
 "nbformat_minor": 2
}
