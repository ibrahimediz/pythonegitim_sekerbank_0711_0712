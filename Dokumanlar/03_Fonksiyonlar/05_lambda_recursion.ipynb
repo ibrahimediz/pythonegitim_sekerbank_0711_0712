{
 "cells": [
  {
   "cell_type": "markdown",
   "metadata": {},
   "source": [
    "# Lambda ve Recursion Fonksiyonlar\n",
    "* lambda kullanımı\n",
    "* recursion Özyineleme\n",
    "* örnekler"
   ]
  },
  {
   "cell_type": "markdown",
   "metadata": {},
   "source": [
    "### lambda"
   ]
  },
  {
   "cell_type": "code",
   "execution_count": 1,
   "metadata": {},
   "outputs": [
    {
     "name": "stdout",
     "output_type": "stream",
     "text": [
      "9\n"
     ]
    }
   ],
   "source": [
    "def fonk(a):\n",
    "    return a**2\n",
    "print(fonk(3))"
   ]
  },
  {
   "cell_type": "code",
   "execution_count": 2,
   "metadata": {},
   "outputs": [
    {
     "name": "stdout",
     "output_type": "stream",
     "text": [
      "9\n"
     ]
    }
   ],
   "source": [
    "fonk = lambda x:x**2\n",
    "print(fonk(3))"
   ]
  },
  {
   "cell_type": "code",
   "execution_count": 3,
   "metadata": {},
   "outputs": [
    {
     "name": "stdout",
     "output_type": "stream",
     "text": [
      "8\n"
     ]
    }
   ],
   "source": [
    "fonk = lambda x,y,z:x+y+z\n",
    "print(fonk(3,2,3))"
   ]
  },
  {
   "cell_type": "code",
   "execution_count": 27,
   "metadata": {},
   "outputs": [
    {
     "name": "stdout",
     "output_type": "stream",
     "text": [
      "60 75\n"
     ]
    }
   ],
   "source": [
    "import random as rnd\n",
    "liste = [rnd.randint(1,100) for i in range(15)]\n",
    "print(*filter(lambda x:x%3==0 and x%5==0,liste))\n"
   ]
  },
  {
   "cell_type": "code",
   "execution_count": 20,
   "metadata": {},
   "outputs": [
    {
     "data": {
      "text/plain": [
       "['ayşe',\n",
       " 'ceren',\n",
       " 'ekrem',\n",
       " 'giray',\n",
       " 'ibrahim',\n",
       " 'ilayda',\n",
       " 'uraz',\n",
       " 'çiğdem',\n",
       " 'üzeyir',\n",
       " 'ışınsu',\n",
       " 'şermin',\n",
       " 'şule']"
      ]
     },
     "execution_count": 20,
     "metadata": {},
     "output_type": "execute_result"
    }
   ],
   "source": [
    "liste = [\"ayşe\",\"şermin\",\"ceren\",\"ışınsu\",\"ilayda\",\"ekrem\",\"çiğdem\",\"şule\",\"ibrahim\",\"üzeyir\",\"giray\",\"uraz\"]\n",
    "liste.sort()\n",
    "liste"
   ]
  },
  {
   "cell_type": "code",
   "execution_count": 21,
   "metadata": {},
   "outputs": [
    {
     "name": "stdout",
     "output_type": "stream",
     "text": [
      "{'a': 0, 'b': 1, 'c': 2, 'ç': 3, 'd': 4, 'e': 5, 'f': 6, 'g': 7, 'ğ': 8, 'h': 9, 'ı': 10, 'i': 11, 'j': 12, 'k': 13, 'l': 14, 'm': 15, 'n': 16, 'o': 17, 'ö': 18, 'p': 19, 'r': 20, 's': 21, 'ş': 22, 't': 23, 'u': 24, 'ü': 25, 'v': 26, 'y': 27, 'z': 28}\n"
     ]
    }
   ],
   "source": [
    "liste = [\"ayşe\",\"şermin\",\"ceren\",\"ışınsu\",\"ilayda\",\"ekrem\",\"çiğdem\",\"şule\",\"ibrahim\",\"üzeyir\",\"giray\",\"uraz\"]\n",
    "alfabe = \"abcçdefgğhıijklmnoöprsştuüvyz\"\n",
    "cevrim = {item:alfabe.index(item) for item in alfabe}\n",
    "print(cevrim)"
   ]
  },
  {
   "cell_type": "code",
   "execution_count": 28,
   "metadata": {},
   "outputs": [
    {
     "name": "stdout",
     "output_type": "stream",
     "text": [
      "{'a': 0, 'b': 1, 'c': 2, 'ç': 3, 'd': 4, 'e': 5, 'f': 6, 'g': 7, 'ğ': 8, 'h': 9, 'ı': 10, 'i': 11, 'j': 12, 'k': 13, 'l': 14, 'm': 15, 'n': 16, 'o': 17, 'ö': 18, 'p': 19, 'r': 20, 's': 21, 'ş': 22, 't': 23, 'u': 24, 'ü': 25, 'v': 26, 'y': 27, 'z': 28}\n"
     ]
    },
    {
     "data": {
      "text/plain": [
       "['ayşe',\n",
       " 'ceren',\n",
       " 'çiğdem',\n",
       " 'ekrem',\n",
       " 'giray',\n",
       " 'ışınsu',\n",
       " 'ilayda',\n",
       " 'ibrahim',\n",
       " 'şermin',\n",
       " 'şule',\n",
       " 'uraz',\n",
       " 'üzeyir']"
      ]
     },
     "execution_count": 28,
     "metadata": {},
     "output_type": "execute_result"
    }
   ],
   "source": [
    "liste = [\"ayşe\",\"şermin\",\"ceren\",\"ışınsu\",\"ilayda\",\"ekrem\",\"çiğdem\",\"şule\",\"ibrahim\",\"üzeyir\",\"giray\",\"uraz\"]\n",
    "alfabe = \"abcçdefgğhıijklmnoöprsştuüvyz\"\n",
    "cevrim = {item:alfabe.index(item) for item in alfabe}\n",
    "print(cevrim)\n",
    "print(sorted(liste,key=lambda x: cevrim.get(x[0]))) # 0 22 2 10 11 => 0 2 10 11 22"
   ]
  },
  {
   "cell_type": "markdown",
   "metadata": {},
   "source": [
    "### recursion"
   ]
  },
  {
   "cell_type": "code",
   "execution_count": 32,
   "metadata": {},
   "outputs": [
    {
     "name": "stdout",
     "output_type": "stream",
     "text": [
      "ŞEKERBANK\n",
      "EKERBANK\n",
      "KERBANK\n",
      "ERBANK\n",
      "RBANK\n",
      "BANK\n",
      "ANK\n",
      "NK\n",
      "K\n",
      "NK\n",
      "ANK\n",
      "BANK\n",
      "RBANK\n",
      "ERBANK\n",
      "KERBANK\n",
      "EKERBANK\n",
      "ŞEKERBANK\n"
     ]
    }
   ],
   "source": [
    "def reco(metin):\n",
    "    if len(metin) == 1:\n",
    "        print(metin)\n",
    "    else:\n",
    "        print(metin)\n",
    "        reco(metin[1:]) # fonksiyonun içinde kendisini kullandım recursion yaptım\n",
    "        print(metin)\n",
    "reco(\"ŞEKERBANK\")"
   ]
  },
  {
   "cell_type": "code",
   "execution_count": 63,
   "metadata": {},
   "outputs": [
    {
     "name": "stdout",
     "output_type": "stream",
     "text": [
      "CPU times: user 9 µs, sys: 2 µs, total: 11 µs\n",
      "Wall time: 14.1 µs\n"
     ]
    },
    {
     "data": {
      "text/plain": [
       "56878465411882525024019869106095810443711861483651573510414327553915228320989004061260555958946091088710623453508969559004059093321200238492719713563110330058714032972946730753868022316902240107823463759719680928160493952481819610819007374844441824697652051115339179081141100212631179271854890626131975300539844183321097520081102320544748815063511124295784925759777654006636479482711740126764956099108357637301664918401416624491645555527002584252416000000000000000000000000000000000000000000000000000000000000000"
      ]
     },
     "execution_count": 63,
     "metadata": {},
     "output_type": "execute_result"
    }
   ],
   "source": [
    "def faktoriyel(sayi):\n",
    "    sonuc = 1\n",
    "    for i in range(1,sayi+1):\n",
    "        sonuc *= i \n",
    "    return sonuc\n",
    "%time\n",
    "faktoriyel(258) "
   ]
  },
  {
   "cell_type": "code",
   "execution_count": 64,
   "metadata": {},
   "outputs": [
    {
     "name": "stdout",
     "output_type": "stream",
     "text": [
      "CPU times: user 7 µs, sys: 1 µs, total: 8 µs\n",
      "Wall time: 11.2 µs\n"
     ]
    },
    {
     "data": {
      "text/plain": [
       "56878465411882525024019869106095810443711861483651573510414327553915228320989004061260555958946091088710623453508969559004059093321200238492719713563110330058714032972946730753868022316902240107823463759719680928160493952481819610819007374844441824697652051115339179081141100212631179271854890626131975300539844183321097520081102320544748815063511124295784925759777654006636479482711740126764956099108357637301664918401416624491645555527002584252416000000000000000000000000000000000000000000000000000000000000000"
      ]
     },
     "execution_count": 64,
     "metadata": {},
     "output_type": "execute_result"
    }
   ],
   "source": [
    "def m_faktoriyel(sayi):\n",
    "    from math import factorial\n",
    "    return factorial(5)\n",
    "%time\n",
    "faktoriyel(258) "
   ]
  },
  {
   "cell_type": "code",
   "execution_count": 65,
   "metadata": {},
   "outputs": [
    {
     "name": "stdout",
     "output_type": "stream",
     "text": [
      "CPU times: user 7 µs, sys: 2 µs, total: 9 µs\n",
      "Wall time: 11.4 µs\n"
     ]
    },
    {
     "data": {
      "text/plain": [
       "56878465411882525024019869106095810443711861483651573510414327553915228320989004061260555958946091088710623453508969559004059093321200238492719713563110330058714032972946730753868022316902240107823463759719680928160493952481819610819007374844441824697652051115339179081141100212631179271854890626131975300539844183321097520081102320544748815063511124295784925759777654006636479482711740126764956099108357637301664918401416624491645555527002584252416000000000000000000000000000000000000000000000000000000000000000"
      ]
     },
     "execution_count": 65,
     "metadata": {},
     "output_type": "execute_result"
    }
   ],
   "source": [
    "def r_faktoriyel(sayi):\n",
    "    if sayi < 1:\n",
    "        return 1\n",
    "    else:\n",
    "        return sayi * r_faktoriyel(sayi-1)\n",
    "%time\n",
    "r_faktoriyel(258) "
   ]
  },
  {
   "cell_type": "code",
   "execution_count": null,
   "metadata": {},
   "outputs": [],
   "source": []
  }
 ],
 "metadata": {
  "kernelspec": {
   "display_name": "Python 3",
   "language": "python",
   "name": "python3"
  },
  "language_info": {
   "codemirror_mode": {
    "name": "ipython",
    "version": 3
   },
   "file_extension": ".py",
   "mimetype": "text/x-python",
   "name": "python",
   "nbconvert_exporter": "python",
   "pygments_lexer": "ipython3",
   "version": "3.8.13 (default, Oct  4 2022, 14:00:32) \n[GCC 9.4.0]"
  },
  "orig_nbformat": 4,
  "vscode": {
   "interpreter": {
    "hash": "9ac03a0a6051494cc606d484d27d20fce22fb7b4d169f583271e11d5ba46a56e"
   }
  }
 },
 "nbformat": 4,
 "nbformat_minor": 2
}
