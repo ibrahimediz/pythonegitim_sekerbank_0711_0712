{
 "cells": [
  {
   "cell_type": "markdown",
   "metadata": {},
   "source": [
    "# Fonksiyonlarda parametreler\n",
    "1. İsimli parametre tanımı\n",
    "2. Varsayılan Değer Ataması\n",
    "3. `*args` kullanımı\n",
    "4. `**kwargs` kullanımı"
   ]
  },
  {
   "cell_type": "markdown",
   "metadata": {},
   "source": [
    "## İsimli Parametre Tanımı"
   ]
  },
  {
   "cell_type": "code",
   "execution_count": 1,
   "metadata": {},
   "outputs": [
    {
     "name": "stdout",
     "output_type": "stream",
     "text": [
      "Merhaba\n"
     ]
    }
   ],
   "source": [
    "def fonk():\n",
    "    print(\"Merhaba\")\n",
    "fonk()"
   ]
  },
  {
   "cell_type": "code",
   "execution_count": 3,
   "metadata": {},
   "outputs": [
    {
     "name": "stdout",
     "output_type": "stream",
     "text": [
      "Merhaba Ankara\n"
     ]
    }
   ],
   "source": [
    "def fonk(isim):\n",
    "    print(\"Merhaba\",isim)\n",
    "fonk(\"Ankara\")"
   ]
  },
  {
   "cell_type": "code",
   "execution_count": 4,
   "metadata": {},
   "outputs": [
    {
     "name": "stdout",
     "output_type": "stream",
     "text": [
      "Merhaba Ankara Çankaya\n"
     ]
    }
   ],
   "source": [
    "def fonk(isim,soyisim):\n",
    "    print(\"Merhaba\",isim,soyisim)\n",
    "fonk(\"Ankara\",\"Çankaya\")"
   ]
  },
  {
   "cell_type": "code",
   "execution_count": 5,
   "metadata": {},
   "outputs": [
    {
     "name": "stdout",
     "output_type": "stream",
     "text": [
      "Merhaba Çankaya Ankara\n"
     ]
    }
   ],
   "source": [
    "def fonk(isim,soyisim):\n",
    "    print(\"Merhaba\",isim,soyisim)\n",
    "fonk(soyisim=\"Ankara\",isim=\"Çankaya\")"
   ]
  },
  {
   "cell_type": "markdown",
   "metadata": {},
   "source": [
    "## Varsayılan Parametre Tanımı"
   ]
  },
  {
   "cell_type": "code",
   "execution_count": 6,
   "metadata": {},
   "outputs": [
    {
     "name": "stdout",
     "output_type": "stream",
     "text": [
      "5\n"
     ]
    }
   ],
   "source": [
    "def topla(a,b):\n",
    "    print(a+b)\n",
    "topla(2,3)"
   ]
  },
  {
   "cell_type": "code",
   "execution_count": 10,
   "metadata": {},
   "outputs": [
    {
     "name": "stdout",
     "output_type": "stream",
     "text": [
      "2+3+0=5\n",
      "2+3+5=10\n"
     ]
    }
   ],
   "source": [
    "def topla(a,b,c=0):\n",
    "    print(f\"{a}+{b}+{c}={a+b+c}\")\n",
    "topla(2,3) # c sıfır olarak dikkate alınır varsayılan değeri 0\n",
    "topla(2,3,5)"
   ]
  },
  {
   "cell_type": "markdown",
   "metadata": {},
   "source": [
    "#### Önemli ==> Varsayılan değer atanmış bir parametre ardından gelen tüm parametrelere varsayılan değer atanmalıdır.\n",
    "<br>non-default argument follows default argument"
   ]
  },
  {
   "cell_type": "code",
   "execution_count": 11,
   "metadata": {},
   "outputs": [
    {
     "ename": "SyntaxError",
     "evalue": "non-default argument follows default argument (4034147138.py, line 1)",
     "output_type": "error",
     "traceback": [
      "\u001b[0;36m  Cell \u001b[0;32mIn [11], line 1\u001b[0;36m\u001b[0m\n\u001b[0;31m    def topla(a,b,c=0,d):\u001b[0m\n\u001b[0m              ^\u001b[0m\n\u001b[0;31mSyntaxError\u001b[0m\u001b[0;31m:\u001b[0m non-default argument follows default argument\n"
     ]
    }
   ],
   "source": [
    "def topla(a,b,c=0,d):\n",
    "    print(f\"{a}+{b}+{c}={a+b+c}\")\n",
    "topla(2,3) # c sıfır olarak dikkate alınır varsayılan değeri 0\n",
    "topla(2,3,5)"
   ]
  },
  {
   "cell_type": "code",
   "execution_count": 13,
   "metadata": {},
   "outputs": [
    {
     "name": "stdout",
     "output_type": "stream",
     "text": [
      "2+3+0=5\n",
      "2+3+5=10\n"
     ]
    }
   ],
   "source": [
    "def topla(a,b,c=0,d=0):\n",
    "    print(f\"{a}+{b}+{c}={a+b+c}\")\n",
    "topla(2,3) # c sıfır olarak dikkate alınır varsayılan değeri 0\n",
    "topla(2,3,5)"
   ]
  },
  {
   "cell_type": "markdown",
   "metadata": {},
   "source": [
    "Versiyon 3.8 den sonra gelen yeni özellikle parametre tanımı"
   ]
  },
  {
   "cell_type": "code",
   "execution_count": 25,
   "metadata": {},
   "outputs": [
    {
     "name": "stdout",
     "output_type": "stream",
     "text": [
      "1 2 3 4 5 4\n"
     ]
    }
   ],
   "source": [
    "def fonk(a,b,/,c,d,*,e,f): \n",
    "    print(a,b,c,d,e,f)\n",
    "fonk(1,2,3,4,e=5,f=4)\n",
    "# / öncesi parametreleri ismi ile beraber değer gönderemezken * sonrası olanlarda ismi ile beraber değer göndermek zorundayız"
   ]
  },
  {
   "cell_type": "markdown",
   "metadata": {},
   "source": [
    "Egzersiz:\n",
    "kenar uzunlukları girilen bir dörtgenin (kare ya da dikdörtgen diye dikkate alıyoruz) alanını ve çevresini hesaplayıp ekrana yazdıran python kod parçasını yazınız.\n",
    "Çalışmalarınızı 03_02_parametre_fonks.py dosyasına kaydedebilirsiniz."
   ]
  },
  {
   "cell_type": "code",
   "execution_count": null,
   "metadata": {},
   "outputs": [],
   "source": []
  }
 ],
 "metadata": {
  "kernelspec": {
   "display_name": "Python 3",
   "language": "python",
   "name": "python3"
  },
  "language_info": {
   "codemirror_mode": {
    "name": "ipython",
    "version": 3
   },
   "file_extension": ".py",
   "mimetype": "text/x-python",
   "name": "python",
   "nbconvert_exporter": "python",
   "pygments_lexer": "ipython3",
   "version": "3.8.13 (default, Oct  4 2022, 14:00:32) \n[GCC 9.4.0]"
  },
  "orig_nbformat": 4,
  "vscode": {
   "interpreter": {
    "hash": "110cc1dee26208153f2972f08a2ad52b6a56238dc66d48e87fb757ef2996db56"
   }
  }
 },
 "nbformat": 4,
 "nbformat_minor": 2
}
