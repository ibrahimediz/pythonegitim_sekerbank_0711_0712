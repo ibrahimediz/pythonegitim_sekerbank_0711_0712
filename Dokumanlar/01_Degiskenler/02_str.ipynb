{
 "cells": [
  {
   "cell_type": "markdown",
   "metadata": {},
   "source": [
    "# str Veri tipi\n",
    "1. Tanımlama\n",
    "2. Erişim\n",
    "3. Yardımcı Fonksiyonlar\n",
    "        <br>a. find,index\n",
    "        <br>b. replace\n",
    "        <br>c. split,strip\n"
   ]
  },
  {
   "cell_type": "markdown",
   "metadata": {},
   "source": [
    "## 1. Tanımlama"
   ]
  },
  {
   "cell_type": "code",
   "execution_count": 1,
   "metadata": {},
   "outputs": [
    {
     "name": "stdout",
     "output_type": "stream",
     "text": [
      "Ankara <class 'str'>\n"
     ]
    }
   ],
   "source": [
    "var1 = 'Ankara'\n",
    "print(var1,type(var1))"
   ]
  },
  {
   "cell_type": "code",
   "execution_count": 2,
   "metadata": {},
   "outputs": [
    {
     "ename": "SyntaxError",
     "evalue": "invalid syntax (204379563.py, line 1)",
     "output_type": "error",
     "traceback": [
      "\u001b[0;36m  Cell \u001b[0;32mIn [2], line 1\u001b[0;36m\u001b[0m\n\u001b[0;31m    var1 = 'Ankara'da'\u001b[0m\n\u001b[0m                   ^\u001b[0m\n\u001b[0;31mSyntaxError\u001b[0m\u001b[0;31m:\u001b[0m invalid syntax\n"
     ]
    }
   ],
   "source": [
    "var1 = 'Ankara'da'\n",
    "print(var1,type(var1))"
   ]
  },
  {
   "cell_type": "code",
   "execution_count": 3,
   "metadata": {},
   "outputs": [
    {
     "name": "stdout",
     "output_type": "stream",
     "text": [
      "Ankara'da <class 'str'>\n"
     ]
    }
   ],
   "source": [
    "var1 = \"Ankara'da\"\n",
    "print(var1,type(var1))"
   ]
  },
  {
   "cell_type": "code",
   "execution_count": 4,
   "metadata": {},
   "outputs": [
    {
     "ename": "SyntaxError",
     "evalue": "invalid syntax (3154561500.py, line 1)",
     "output_type": "error",
     "traceback": [
      "\u001b[0;36m  Cell \u001b[0;32mIn [4], line 1\u001b[0;36m\u001b[0m\n\u001b[0;31m    var1 = \"Neler \"yapıyorsun\" Ankara'da\"\u001b[0m\n\u001b[0m                   ^\u001b[0m\n\u001b[0;31mSyntaxError\u001b[0m\u001b[0;31m:\u001b[0m invalid syntax\n"
     ]
    }
   ],
   "source": [
    "var1 = \"Neler \"yapıyorsun\" Ankara'da\"\n",
    "print(var1,type(var1))"
   ]
  },
  {
   "cell_type": "code",
   "execution_count": 5,
   "metadata": {},
   "outputs": [
    {
     "name": "stdout",
     "output_type": "stream",
     "text": [
      "Neler \"yapıyorsun\" Ankara'da <class 'str'>\n"
     ]
    }
   ],
   "source": [
    "var1 = \"\"\"Neler \"yapıyorsun\" Ankara'da\"\"\"\n",
    "print(var1,type(var1))"
   ]
  },
  {
   "cell_type": "code",
   "execution_count": 6,
   "metadata": {},
   "outputs": [
    {
     "name": "stdout",
     "output_type": "stream",
     "text": [
      "Neler \"yapıyorsun\"\n",
      " Ankara'da <class 'str'>\n"
     ]
    }
   ],
   "source": [
    "var1 = \"\"\"Neler \"yapıyorsun\"\n",
    "Ankara'da\"\"\"\n",
    "print(var1,type(var1))"
   ]
  },
  {
   "cell_type": "code",
   "execution_count": 7,
   "metadata": {},
   "outputs": [],
   "source": [
    "var1 = 'Ankara'\n",
    "var1 = \"Ankara\"\n",
    "var1 = \"\"\"Ankara\"\"\" # docstring\n"
   ]
  },
  {
   "cell_type": "markdown",
   "metadata": {},
   "source": [
    "### Not: Escape Sequence `\\` Kaçış karakteri"
   ]
  },
  {
   "cell_type": "code",
   "execution_count": 8,
   "metadata": {},
   "outputs": [
    {
     "name": "stdout",
     "output_type": "stream",
     "text": [
      "Ankara'da <class 'str'>\n"
     ]
    }
   ],
   "source": [
    "var1 = 'Ankara\\'da'\n",
    "print(var1,type(var1))"
   ]
  },
  {
   "cell_type": "code",
   "execution_count": 11,
   "metadata": {},
   "outputs": [
    {
     "name": "stdout",
     "output_type": "stream",
     "text": [
      "Ankara'd\u0007 <class 'str'>\n"
     ]
    }
   ],
   "source": [
    "var1 = 'Ankara\\'d\\a'\n",
    "print(var1,type(var1))"
   ]
  },
  {
   "cell_type": "code",
   "execution_count": 13,
   "metadata": {},
   "outputs": [
    {
     "name": "stdout",
     "output_type": "stream",
     "text": [
      "Ankara\n",
      "İstanbul\n"
     ]
    }
   ],
   "source": [
    "var1 = 'Ankara\\nİstanbul' # \\n newline bir alt satıra geçmek için kullanılır.\n",
    "print(var1)"
   ]
  },
  {
   "cell_type": "code",
   "execution_count": 15,
   "metadata": {},
   "outputs": [
    {
     "name": "stdout",
     "output_type": "stream",
     "text": [
      "Ankarİstanbul\n"
     ]
    }
   ],
   "source": [
    "var1 = 'Ankara\\bİstanbul' # \\b backwards b kendisinden önce gelen bir karakteri siler.\n",
    "print(var1)"
   ]
  },
  {
   "cell_type": "code",
   "execution_count": 16,
   "metadata": {},
   "outputs": [
    {
     "name": "stdout",
     "output_type": "stream",
     "text": [
      "Ankara\tİstanbul\n"
     ]
    }
   ],
   "source": [
    "var1 = 'Ankara\\tİstanbul' # \\t  kendisinden sonra boşluk yerleştirir.\n",
    "print(var1)"
   ]
  },
  {
   "cell_type": "markdown",
   "metadata": {},
   "source": [
    "Soru:  `\\` işareti özel bir anlam ifade ediyorsa yazılan metnin içerisinde `\\` yazmak için ne yapmalıyız?<br>\n",
    "Cevap: `\\\\` iki `\\` karakter kullanılabilir."
   ]
  },
  {
   "cell_type": "code",
   "execution_count": 17,
   "metadata": {},
   "outputs": [
    {
     "name": "stdout",
     "output_type": "stream",
     "text": [
      "C:\talat\n",
      "alauket.html\n"
     ]
    }
   ],
   "source": [
    "var1 = 'C:\\talat\\nalan\\buket.html'\n",
    "print(var1)"
   ]
  },
  {
   "cell_type": "code",
   "execution_count": 18,
   "metadata": {},
   "outputs": [
    {
     "name": "stdout",
     "output_type": "stream",
     "text": [
      "C:\\talat\\nalan\\buket.html\n"
     ]
    }
   ],
   "source": [
    "var1 = 'C:\\\\talat\\\\nalan\\\\buket.html'\n",
    "print(var1)"
   ]
  },
  {
   "cell_type": "code",
   "execution_count": 20,
   "metadata": {},
   "outputs": [
    {
     "name": "stdout",
     "output_type": "stream",
     "text": [
      "C:\\talat\\nalan\\buket.html\n"
     ]
    }
   ],
   "source": [
    "var1 = r'C:\\talat\\nalan\\buket.html' # raw string salt metin\n",
    "print(var1)"
   ]
  },
  {
   "cell_type": "markdown",
   "metadata": {},
   "source": [
    "## 2. Erişim"
   ]
  },
  {
   "cell_type": "code",
   "execution_count": 22,
   "metadata": {},
   "outputs": [
    {
     "name": "stdout",
     "output_type": "stream",
     "text": [
      "Ş k\n"
     ]
    }
   ],
   "source": [
    "var1 = \"Şekerbank\"\n",
    "#       012345678\n",
    "print(var1[0],var1[8])"
   ]
  },
  {
   "cell_type": "markdown",
   "metadata": {},
   "source": [
    "```\n",
    "var1 = \"Ş e k e r b a n k\"\n",
    "#.      0 1 2 3 4 5 6 7 8\n",
    "#.     -9-8-7-6-5-4-3-2-1\n",
    "```"
   ]
  },
  {
   "cell_type": "code",
   "execution_count": 27,
   "metadata": {},
   "outputs": [
    {
     "name": "stdout",
     "output_type": "stream",
     "text": [
      "Ş Ş\n"
     ]
    }
   ],
   "source": [
    "var1 = \"Şekerbank\"\n",
    "print(var1[0],var1[-9])\n"
   ]
  },
  {
   "cell_type": "code",
   "execution_count": 28,
   "metadata": {},
   "outputs": [
    {
     "name": "stdout",
     "output_type": "stream",
     "text": [
      "Ş a\n"
     ]
    }
   ],
   "source": [
    "var1 = \"Şekerbank\"\n",
    "print(var1[0],var1[-3])"
   ]
  },
  {
   "cell_type": "markdown",
   "metadata": {},
   "source": [
    "#### Slicing-Bölümleme<br>\n",
    "```\n",
    "var1[başlangıc indisi:bitiş indisi(e kadar):adım değeri]\n",
    "```"
   ]
  },
  {
   "cell_type": "code",
   "execution_count": 29,
   "metadata": {},
   "outputs": [
    {
     "name": "stdout",
     "output_type": "stream",
     "text": [
      "Şeker\n"
     ]
    }
   ],
   "source": [
    "var1 = \"Şekerbank\"\n",
    "print(var1[0:5])"
   ]
  },
  {
   "cell_type": "code",
   "execution_count": 30,
   "metadata": {},
   "outputs": [
    {
     "name": "stdout",
     "output_type": "stream",
     "text": [
      "bank\n"
     ]
    }
   ],
   "source": [
    "var1 = \"Şekerbank\"\n",
    "print(var1[5:9])"
   ]
  },
  {
   "cell_type": "code",
   "execution_count": 32,
   "metadata": {},
   "outputs": [
    {
     "name": "stdout",
     "output_type": "stream",
     "text": [
      "bank\n"
     ]
    }
   ],
   "source": [
    "var1 = \"Şekerbank\"\n",
    "print(var1[5:])"
   ]
  },
  {
   "cell_type": "code",
   "execution_count": 33,
   "metadata": {},
   "outputs": [
    {
     "name": "stdout",
     "output_type": "stream",
     "text": [
      "Şeker\n"
     ]
    }
   ],
   "source": [
    "var1 = \"Şekerbank\"\n",
    "print(var1[:5])"
   ]
  },
  {
   "cell_type": "markdown",
   "metadata": {},
   "source": [
    "```\n",
    "var1 = \"Ş e k e r b a n k\"\n",
    "#.      0 1 2 3 4 5 6 7 8\n",
    "#.     -9-8-7-6-5-4-3-2-1\n",
    "```"
   ]
  },
  {
   "cell_type": "code",
   "execution_count": 35,
   "metadata": {},
   "outputs": [
    {
     "name": "stdout",
     "output_type": "stream",
     "text": [
      "Şeker Şeker\n"
     ]
    }
   ],
   "source": [
    "var1 = \"Şekerbank\"\n",
    "print(var1[0:-4],var1[:-4])"
   ]
  },
  {
   "cell_type": "code",
   "execution_count": 39,
   "metadata": {},
   "outputs": [
    {
     "name": "stdout",
     "output_type": "stream",
     "text": [
      "Şea\n"
     ]
    }
   ],
   "source": [
    "var1 = \"Şekerbank\"\n",
    "print(var1[::3])"
   ]
  },
  {
   "cell_type": "code",
   "execution_count": 42,
   "metadata": {},
   "outputs": [
    {
     "name": "stdout",
     "output_type": "stream",
     "text": [
      "knabrekeŞ\n"
     ]
    }
   ],
   "source": [
    "print(var1[::-1]) # tersinden yazdır"
   ]
  },
  {
   "cell_type": "markdown",
   "metadata": {},
   "source": [
    "Egzersiz: \n",
    "1. Kullanıcıdan alınan 5 karakterden uzun olan ismin\n",
    "* ilk üç harfini\n",
    "* Beşinci harfini\n",
    "* tersten yazılışını ekrana yazıdırınız.\n",
    "<br>çalışmanızı isminize açılmış klasörde bulunan 01_02_str.py dosyasında yapabilirsiniz."
   ]
  },
  {
   "cell_type": "code",
   "execution_count": 43,
   "metadata": {},
   "outputs": [
    {
     "name": "stdout",
     "output_type": "stream",
     "text": [
      "Jam\n",
      "r\n",
      "oyrimaJ\n"
     ]
    }
   ],
   "source": [
    "var1 = input(\"5 karakter uzunluğunda bir değer giriniz...\")\n",
    "print(var1[:3])\n",
    "print(var1[4])\n",
    "print(var1[::-1])"
   ]
  },
  {
   "cell_type": "code",
   "execution_count": 48,
   "metadata": {},
   "outputs": [
    {
     "data": {
      "text/plain": [
       "'kra'"
      ]
     },
     "execution_count": 48,
     "metadata": {},
     "output_type": "execute_result"
    }
   ],
   "source": [
    "var1 = \"Şekerbank\"\n",
    "#       012345678\n",
    "var1[2:-2:2] # 2 4 6\n",
    "var1[2:7:2] # 2 4 6"
   ]
  },
  {
   "cell_type": "markdown",
   "metadata": {},
   "source": [
    "### Yardımcı Fonksiyonlar"
   ]
  },
  {
   "cell_type": "code",
   "execution_count": 50,
   "metadata": {},
   "outputs": [
    {
     "name": "stdout",
     "output_type": "stream",
     "text": [
      "Ankara <class 'str'>\n"
     ]
    }
   ],
   "source": [
    "var1 = \"Ankara\"\n",
    "print(var1,type(var1))"
   ]
  },
  {
   "cell_type": "markdown",
   "metadata": {},
   "source": [
    "1. find ve index"
   ]
  },
  {
   "cell_type": "code",
   "execution_count": 51,
   "metadata": {},
   "outputs": [],
   "source": [
    "var1 = \"Ankara\"\n",
    "#.      012345"
   ]
  },
  {
   "cell_type": "code",
   "execution_count": 54,
   "metadata": {},
   "outputs": [
    {
     "data": {
      "text/plain": [
       "3"
      ]
     },
     "execution_count": 54,
     "metadata": {},
     "output_type": "execute_result"
    }
   ],
   "source": [
    "var1.index(\"a\")"
   ]
  },
  {
   "cell_type": "code",
   "execution_count": 55,
   "metadata": {},
   "outputs": [
    {
     "data": {
      "text/plain": [
       "5"
      ]
     },
     "execution_count": 55,
     "metadata": {},
     "output_type": "execute_result"
    }
   ],
   "source": [
    "var1.rindex(\"a\")"
   ]
  },
  {
   "cell_type": "code",
   "execution_count": 56,
   "metadata": {},
   "outputs": [
    {
     "data": {
      "text/plain": [
       "3"
      ]
     },
     "execution_count": 56,
     "metadata": {},
     "output_type": "execute_result"
    }
   ],
   "source": [
    "var1.find(\"a\")"
   ]
  },
  {
   "cell_type": "code",
   "execution_count": 57,
   "metadata": {},
   "outputs": [
    {
     "data": {
      "text/plain": [
       "5"
      ]
     },
     "execution_count": 57,
     "metadata": {},
     "output_type": "execute_result"
    }
   ],
   "source": [
    "var1.rfind(\"a\")"
   ]
  },
  {
   "cell_type": "code",
   "execution_count": 58,
   "metadata": {},
   "outputs": [
    {
     "data": {
      "text/plain": [
       "-1"
      ]
     },
     "execution_count": 58,
     "metadata": {},
     "output_type": "execute_result"
    }
   ],
   "source": [
    "var1.find(\"z\")"
   ]
  },
  {
   "cell_type": "code",
   "execution_count": 59,
   "metadata": {},
   "outputs": [
    {
     "ename": "ValueError",
     "evalue": "substring not found",
     "output_type": "error",
     "traceback": [
      "\u001b[0;31m---------------------------------------------------------------------------\u001b[0m",
      "\u001b[0;31mValueError\u001b[0m                                Traceback (most recent call last)",
      "Cell \u001b[0;32mIn [59], line 1\u001b[0m\n\u001b[0;32m----> 1\u001b[0m var1\u001b[39m.\u001b[39mindex(\u001b[39m\"\u001b[39m\u001b[39mz\u001b[39m\u001b[39m\"\u001b[39m)\n",
      "\u001b[0;31mValueError\u001b[0m: substring not found"
     ]
    }
   ],
   "source": [
    "var1.index(\"z\")"
   ]
  },
  {
   "cell_type": "markdown",
   "metadata": {},
   "source": [
    "2. replace"
   ]
  },
  {
   "cell_type": "code",
   "execution_count": 63,
   "metadata": {},
   "outputs": [
    {
     "name": "stdout",
     "output_type": "stream",
     "text": [
      "Tışıkkürlır Süpırmın\n"
     ]
    }
   ],
   "source": [
    "var1 = \"Teşekkürler Süpermen\"\n",
    "print(var1.replace(\"e\",\"ı\")) # => str tipinde çıktı üretir"
   ]
  },
  {
   "cell_type": "code",
   "execution_count": 62,
   "metadata": {},
   "outputs": [
    {
     "name": "stdout",
     "output_type": "stream",
     "text": [
      "Teşekkürler Süpermen\n"
     ]
    }
   ],
   "source": [
    "print(var1)"
   ]
  },
  {
   "cell_type": "code",
   "execution_count": 64,
   "metadata": {},
   "outputs": [
    {
     "name": "stdout",
     "output_type": "stream",
     "text": [
      "Tışıkkürlır Süpırmın\n"
     ]
    }
   ],
   "source": [
    "var1 = var1.replace(\"e\",\"ı\")\n",
    "print(var1)"
   ]
  },
  {
   "cell_type": "code",
   "execution_count": 65,
   "metadata": {},
   "outputs": [
    {
     "data": {
      "text/plain": [
       "'Tışıkkırlır Sıpırmın'"
      ]
     },
     "execution_count": 65,
     "metadata": {},
     "output_type": "execute_result"
    }
   ],
   "source": [
    "var1 = \"Teşekkürler Süpermen\"\n",
    "var1.replace(\"e\",\"ı\").replace(\"ü\",\"ı\")"
   ]
  },
  {
   "cell_type": "code",
   "execution_count": 66,
   "metadata": {},
   "outputs": [
    {
     "data": {
      "text/plain": [
       "'Tışıkkırler Sıpermen'"
      ]
     },
     "execution_count": 66,
     "metadata": {},
     "output_type": "execute_result"
    }
   ],
   "source": [
    "var1 = \"Teşekkürler Süpermen\"\n",
    "var1.replace(\"e\",\"ı\").replace(\"ü\",\"ı\")"
   ]
  },
  {
   "cell_type": "code",
   "execution_count": 67,
   "metadata": {},
   "outputs": [
    {
     "data": {
      "text/plain": [
       "'Tışıkkırlır Sıpırmın'"
      ]
     },
     "execution_count": 67,
     "metadata": {},
     "output_type": "execute_result"
    }
   ],
   "source": [
    "var1 = \"Teşekkürler Süpermen\"\n",
    "var1.replace(\"e\",\"ı\").replace(\"ü\",\"ı\")"
   ]
  },
  {
   "cell_type": "markdown",
   "metadata": {},
   "source": [
    "```\n",
    "Soru : \"Teşekkürler Süpermen\"\n",
    "ifadesini \"Teşekkürler Süpırmın\" şeklinde değiştirebilecek python kodu nedir ?\n",
    "```\n"
   ]
  },
  {
   "cell_type": "code",
   "execution_count": 68,
   "metadata": {},
   "outputs": [
    {
     "name": "stdout",
     "output_type": "stream",
     "text": [
      "Teşekkürler Süpırmın\n"
     ]
    }
   ],
   "source": [
    "var1 = \"Teşekkürler Süpermen\"\n",
    "print(var1[::-1].replace(\"e\",\"ı\",2)[::-1])"
   ]
  },
  {
   "cell_type": "markdown",
   "metadata": {},
   "source": [
    "3. Split ve Strip"
   ]
  },
  {
   "cell_type": "code",
   "execution_count": 73,
   "metadata": {},
   "outputs": [
    {
     "data": {
      "text/plain": [
       "['12898', '3', '4', '30000', '1']"
      ]
     },
     "execution_count": 73,
     "metadata": {},
     "output_type": "execute_result"
    }
   ],
   "source": [
    "var1 = \"12898,3,4,30000,1\"\n",
    "var1.split(\",\") # => list veri tipinde değer döner"
   ]
  },
  {
   "cell_type": "code",
   "execution_count": 74,
   "metadata": {},
   "outputs": [
    {
     "data": {
      "text/plain": [
       "['12898', '3', '4', '30000', '1']"
      ]
     },
     "execution_count": 74,
     "metadata": {},
     "output_type": "execute_result"
    }
   ],
   "source": [
    "var1 = \"12898 3 4 30000          1\"\n",
    "var1.split() # => list veri tipinde değer döner"
   ]
  },
  {
   "cell_type": "code",
   "execution_count": 75,
   "metadata": {},
   "outputs": [
    {
     "data": {
      "text/plain": [
       "['12898', '3', '4,30000,1']"
      ]
     },
     "execution_count": 75,
     "metadata": {},
     "output_type": "execute_result"
    }
   ],
   "source": [
    "var1 = \"12898,3,4,30000,1\"\n",
    "var1.split(\",\",maxsplit=2) # => list veri tipinde değer döner"
   ]
  },
  {
   "cell_type": "code",
   "execution_count": 76,
   "metadata": {},
   "outputs": [
    {
     "name": "stdout",
     "output_type": "stream",
     "text": [
      "                     Şekerbank            \n"
     ]
    }
   ],
   "source": [
    "var1 = \"                     Şekerbank            \"\n",
    "print(var1)"
   ]
  },
  {
   "cell_type": "code",
   "execution_count": 77,
   "metadata": {},
   "outputs": [
    {
     "name": "stdout",
     "output_type": "stream",
     "text": [
      "Şekerbank\n"
     ]
    }
   ],
   "source": [
    "var1 = \"                     Şekerbank            \"\n",
    "print(var1.strip())"
   ]
  },
  {
   "cell_type": "code",
   "execution_count": 79,
   "metadata": {},
   "outputs": [
    {
     "name": "stdout",
     "output_type": "stream",
     "text": [
      "Şekerbank\n"
     ]
    }
   ],
   "source": [
    "var1 = \"__________________Şekerbank____________________\"\n",
    "print(var1.strip('_'))"
   ]
  },
  {
   "cell_type": "code",
   "execution_count": 82,
   "metadata": {},
   "outputs": [
    {
     "name": "stdout",
     "output_type": "stream",
     "text": [
      "Şekerb\n"
     ]
    }
   ],
   "source": [
    "var1 = \"__!____.._______Şekerbank_______a______a___\"\n",
    "print(var1.strip('_!.a'))"
   ]
  },
  {
   "cell_type": "code",
   "execution_count": 81,
   "metadata": {},
   "outputs": [
    {
     "name": "stdout",
     "output_type": "stream",
     "text": [
      "Şekerban\n"
     ]
    }
   ],
   "source": [
    "var1 = \"__!____.._______Şekerbank___k___a______a___\"\n",
    "print(var1.strip('_!.ak'))"
   ]
  },
  {
   "cell_type": "code",
   "execution_count": 83,
   "metadata": {},
   "outputs": [
    {
     "name": "stdout",
     "output_type": "stream",
     "text": [
      "Şekerbank___k\n"
     ]
    }
   ],
   "source": [
    "var1 = \"__!____.._______Şekerbank___k___a______a___\"\n",
    "print(var1.strip('_!.a'))"
   ]
  },
  {
   "cell_type": "code",
   "execution_count": 84,
   "metadata": {},
   "outputs": [
    {
     "name": "stdout",
     "output_type": "stream",
     "text": [
      "__!____.._______Şekerbank\n"
     ]
    }
   ],
   "source": [
    "var1 = \"__!____.._______Şekerbank______a______a___\"\n",
    "print(var1.rstrip('_!.a'))"
   ]
  },
  {
   "cell_type": "code",
   "execution_count": 89,
   "metadata": {},
   "outputs": [
    {
     "name": "stdout",
     "output_type": "stream",
     "text": [
      "Şekerbank______a______a___\n"
     ]
    }
   ],
   "source": [
    "var1 = \"__!____.._______Şekerbank______a______a___\"\n",
    "print(var1.lstrip('_!.a'))"
   ]
  },
  {
   "cell_type": "markdown",
   "metadata": {},
   "source": [
    "4. join"
   ]
  },
  {
   "cell_type": "code",
   "execution_count": 96,
   "metadata": {},
   "outputs": [
    {
     "name": "stdout",
     "output_type": "stream",
     "text": [
      "a,l,i,v,e,l,i,1,2,3,1,2,3\n"
     ]
    }
   ],
   "source": [
    "liste = [\"Ali\",\"Veli\",\"Ankara\",\"aa@aa.com\",\"12345678910\"]\n",
    "var1 = \",\"\n",
    "print(var1.join(liste))"
   ]
  },
  {
   "cell_type": "code",
   "execution_count": 91,
   "metadata": {},
   "outputs": [
    {
     "name": "stdout",
     "output_type": "stream",
     "text": [
      "Ali,Veli,Ankara,aa@aa.com,12345678910\n"
     ]
    }
   ],
   "source": [
    "print(\",\".join(liste))"
   ]
  },
  {
   "cell_type": "markdown",
   "metadata": {},
   "source": [
    "Not: Concatenate"
   ]
  },
  {
   "cell_type": "code",
   "execution_count": 98,
   "metadata": {},
   "outputs": [
    {
     "data": {
      "text/plain": [
       "5"
      ]
     },
     "execution_count": 98,
     "metadata": {},
     "output_type": "execute_result"
    }
   ],
   "source": [
    "var1 = 2 + 3\n",
    "var1"
   ]
  },
  {
   "cell_type": "code",
   "execution_count": 99,
   "metadata": {},
   "outputs": [
    {
     "name": "stdout",
     "output_type": "stream",
     "text": [
      "AliVeli\n"
     ]
    }
   ],
   "source": [
    "var1 = \"Ali\" + \"Veli\"\n",
    "print(var1)"
   ]
  },
  {
   "cell_type": "code",
   "execution_count": 100,
   "metadata": {},
   "outputs": [
    {
     "name": "stdout",
     "output_type": "stream",
     "text": [
      "[1, 2, 3, 4, 4, 5, 6, 7, 8]\n"
     ]
    }
   ],
   "source": [
    "liste = [1,2,3,4] + [4,5,6,7,8]\n",
    "print(liste)"
   ]
  },
  {
   "cell_type": "code",
   "execution_count": 102,
   "metadata": {},
   "outputs": [
    {
     "name": "stdout",
     "output_type": "stream",
     "text": [
      "çi pet pet pet pet pet \n"
     ]
    }
   ],
   "source": [
    "print(\"çi\",\"pet \"*5)"
   ]
  },
  {
   "cell_type": "markdown",
   "metadata": {},
   "source": [
    "### format fonksiyonu"
   ]
  },
  {
   "cell_type": "code",
   "execution_count": 103,
   "metadata": {},
   "outputs": [
    {
     "name": "stdout",
     "output_type": "stream",
     "text": [
      "\n",
      "Sayın Ali Veli,\n",
      "Doğum Gününüz Kutlu Olsun\n",
      "\n"
     ]
    }
   ],
   "source": [
    "# string interpolation\n",
    "var1 = \"\"\"\n",
    "Sayın {} {},\n",
    "Doğum Gününüz Kutlu Olsun\n",
    "\"\"\"\n",
    "isim = \"Ali\"\n",
    "soyisim = \"Veli\"\n",
    "print(var1.format(isim,soyisim))"
   ]
  },
  {
   "cell_type": "code",
   "execution_count": 126,
   "metadata": {},
   "outputs": [
    {
     "name": "stdout",
     "output_type": "stream",
     "text": [
      " Sayın Ali Veli,      Doğum Gününüz Kutlu Olsun\n"
     ]
    }
   ],
   "source": [
    "var1 = \"\"\" Sayın {0} {1}, \n",
    "Doğum Gününüz Kutlu Olsun\"\"\"\n",
    "isim = \"Ali\"\n",
    "soyisim = \"Veli\"\n",
    "print(var1.format(isim,soyisim))\n",
    "##                  0.   1 "
   ]
  },
  {
   "cell_type": "code",
   "execution_count": 105,
   "metadata": {},
   "outputs": [
    {
     "name": "stdout",
     "output_type": "stream",
     "text": [
      "\n",
      "Sayın Veli Ali,\n",
      "Doğum Gününüz Kutlu Olsun\n",
      "\n"
     ]
    }
   ],
   "source": [
    "var1 = \"\"\"\n",
    "Sayın {1} {0},\n",
    "Doğum Gününüz Kutlu Olsun\n",
    "\"\"\"\n",
    "isim = \"Ali\"\n",
    "soyisim = \"Veli\"\n",
    "print(var1.format(isim,soyisim))\n",
    "##                  0.   1 "
   ]
  },
  {
   "cell_type": "code",
   "execution_count": 106,
   "metadata": {},
   "outputs": [
    {
     "name": "stdout",
     "output_type": "stream",
     "text": [
      "\n",
      "Sayın Ali Veli,\n",
      "Doğum Gününüz Kutlu Olsun\n",
      "\n"
     ]
    }
   ],
   "source": [
    "var1 = \"\"\"\n",
    "Sayın {a} {b},\n",
    "Doğum Gününüz Kutlu Olsun\n",
    "\"\"\"\n",
    "isim = \"Ali\"\n",
    "soyisim = \"Veli\"\n",
    "print(var1.format(a=isim,b=soyisim))\n",
    "##                  0.   1 "
   ]
  },
  {
   "cell_type": "code",
   "execution_count": 110,
   "metadata": {},
   "outputs": [
    {
     "name": "stdout",
     "output_type": "stream",
     "text": [
      "\n",
      "Sayın Ali Veli,\n",
      "Doğum Gününüz Kutlu Olsun\n",
      "\n"
     ]
    }
   ],
   "source": [
    "isim1 = \"Ali\"\n",
    "soyisim1 = \"Veli\"\n",
    "var1 = f\"\"\"\n",
    "Sayın {isim1} {soyisim1},\n",
    "Doğum Gününüz Kutlu Olsun\n",
    "\"\"\"\n",
    "print(var1)"
   ]
  },
  {
   "cell_type": "code",
   "execution_count": 118,
   "metadata": {},
   "outputs": [
    {
     "name": "stdout",
     "output_type": "stream",
     "text": [
      "Sayın talat nalan,  Doğum Gününüz Kutlu Olsun\n"
     ]
    }
   ],
   "source": [
    "isim1 = \"talat\"\n",
    "soyisim1 = \"nalan\"\n",
    "var1 = f\"Sayın {isim1} {soyisim1},  Doğum Gününüz Kutlu Olsun\"\n",
    "print(var1)"
   ]
  },
  {
   "cell_type": "code",
   "execution_count": 125,
   "metadata": {},
   "outputs": [
    {
     "data": {
      "text/plain": [
       "'C:\\\\talat'"
      ]
     },
     "execution_count": 125,
     "metadata": {},
     "output_type": "execute_result"
    }
   ],
   "source": [
    "rf\"C:\\{isim1}\""
   ]
  },
  {
   "cell_type": "code",
   "execution_count": null,
   "metadata": {},
   "outputs": [],
   "source": []
  }
 ],
 "metadata": {
  "kernelspec": {
   "display_name": "Python 3",
   "language": "python",
   "name": "python3"
  },
  "language_info": {
   "codemirror_mode": {
    "name": "ipython",
    "version": 3
   },
   "file_extension": ".py",
   "mimetype": "text/x-python",
   "name": "python",
   "nbconvert_exporter": "python",
   "pygments_lexer": "ipython3",
   "version": "3.8.13 (default, Oct  4 2022, 14:00:32) \n[GCC 9.4.0]"
  },
  "orig_nbformat": 4,
  "vscode": {
   "interpreter": {
    "hash": "9ac03a0a6051494cc606d484d27d20fce22fb7b4d169f583271e11d5ba46a56e"
   }
  }
 },
 "nbformat": 4,
 "nbformat_minor": 2
}
