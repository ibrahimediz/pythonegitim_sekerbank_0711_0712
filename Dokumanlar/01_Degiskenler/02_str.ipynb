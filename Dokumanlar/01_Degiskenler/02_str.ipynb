{
 "cells": [
  {
   "cell_type": "markdown",
   "metadata": {},
   "source": [
    "# str Veri tipi\n",
    "1. Tanımlama\n",
    "2. Erişim\n",
    "3. Yardımcı Fonksiyonlar\n",
    "        a. find,index\n",
    "        b. replace\n",
    "        c. split,strip\n"
   ]
  },
  {
   "cell_type": "markdown",
   "metadata": {},
   "source": [
    "## 1. Tanımlama"
   ]
  },
  {
   "cell_type": "code",
   "execution_count": 1,
   "metadata": {},
   "outputs": [
    {
     "name": "stdout",
     "output_type": "stream",
     "text": [
      "Ankara <class 'str'>\n"
     ]
    }
   ],
   "source": [
    "var1 = 'Ankara'\n",
    "print(var1,type(var1))"
   ]
  },
  {
   "cell_type": "code",
   "execution_count": 2,
   "metadata": {},
   "outputs": [
    {
     "ename": "SyntaxError",
     "evalue": "invalid syntax (204379563.py, line 1)",
     "output_type": "error",
     "traceback": [
      "\u001b[0;36m  Cell \u001b[0;32mIn [2], line 1\u001b[0;36m\u001b[0m\n\u001b[0;31m    var1 = 'Ankara'da'\u001b[0m\n\u001b[0m                   ^\u001b[0m\n\u001b[0;31mSyntaxError\u001b[0m\u001b[0;31m:\u001b[0m invalid syntax\n"
     ]
    }
   ],
   "source": [
    "var1 = 'Ankara'da'\n",
    "print(var1,type(var1))"
   ]
  },
  {
   "cell_type": "code",
   "execution_count": 3,
   "metadata": {},
   "outputs": [
    {
     "name": "stdout",
     "output_type": "stream",
     "text": [
      "Ankara'da <class 'str'>\n"
     ]
    }
   ],
   "source": [
    "var1 = \"Ankara'da\"\n",
    "print(var1,type(var1))"
   ]
  },
  {
   "cell_type": "code",
   "execution_count": 4,
   "metadata": {},
   "outputs": [
    {
     "ename": "SyntaxError",
     "evalue": "invalid syntax (3154561500.py, line 1)",
     "output_type": "error",
     "traceback": [
      "\u001b[0;36m  Cell \u001b[0;32mIn [4], line 1\u001b[0;36m\u001b[0m\n\u001b[0;31m    var1 = \"Neler \"yapıyorsun\" Ankara'da\"\u001b[0m\n\u001b[0m                   ^\u001b[0m\n\u001b[0;31mSyntaxError\u001b[0m\u001b[0;31m:\u001b[0m invalid syntax\n"
     ]
    }
   ],
   "source": [
    "var1 = \"Neler \"yapıyorsun\" Ankara'da\"\n",
    "print(var1,type(var1))"
   ]
  },
  {
   "cell_type": "code",
   "execution_count": 5,
   "metadata": {},
   "outputs": [
    {
     "name": "stdout",
     "output_type": "stream",
     "text": [
      "Neler \"yapıyorsun\" Ankara'da <class 'str'>\n"
     ]
    }
   ],
   "source": [
    "var1 = \"\"\"Neler \"yapıyorsun\" Ankara'da\"\"\"\n",
    "print(var1,type(var1))"
   ]
  },
  {
   "cell_type": "code",
   "execution_count": 6,
   "metadata": {},
   "outputs": [
    {
     "name": "stdout",
     "output_type": "stream",
     "text": [
      "Neler \"yapıyorsun\"\n",
      " Ankara'da <class 'str'>\n"
     ]
    }
   ],
   "source": [
    "var1 = \"\"\"Neler \"yapıyorsun\"\n",
    "Ankara'da\"\"\"\n",
    "print(var1,type(var1))"
   ]
  },
  {
   "cell_type": "code",
   "execution_count": 7,
   "metadata": {},
   "outputs": [],
   "source": [
    "var1 = 'Ankara'\n",
    "var1 = \"Ankara\"\n",
    "var1 = \"\"\"Ankara\"\"\" # docstring\n"
   ]
  },
  {
   "cell_type": "markdown",
   "metadata": {},
   "source": [
    "### Not: Escape Sequence `\\` Kaçış karakteri"
   ]
  },
  {
   "cell_type": "code",
   "execution_count": 8,
   "metadata": {},
   "outputs": [
    {
     "name": "stdout",
     "output_type": "stream",
     "text": [
      "Ankara'da <class 'str'>\n"
     ]
    }
   ],
   "source": [
    "var1 = 'Ankara\\'da'\n",
    "print(var1,type(var1))"
   ]
  },
  {
   "cell_type": "code",
   "execution_count": 11,
   "metadata": {},
   "outputs": [
    {
     "name": "stdout",
     "output_type": "stream",
     "text": [
      "Ankara'd\u0007 <class 'str'>\n"
     ]
    }
   ],
   "source": [
    "var1 = 'Ankara\\'d\\a'\n",
    "print(var1,type(var1))"
   ]
  },
  {
   "cell_type": "code",
   "execution_count": 13,
   "metadata": {},
   "outputs": [
    {
     "name": "stdout",
     "output_type": "stream",
     "text": [
      "Ankara\n",
      "İstanbul\n"
     ]
    }
   ],
   "source": [
    "var1 = 'Ankara\\nİstanbul' # \\n newline bir alt satıra geçmek için kullanılır.\n",
    "print(var1)"
   ]
  },
  {
   "cell_type": "code",
   "execution_count": 15,
   "metadata": {},
   "outputs": [
    {
     "name": "stdout",
     "output_type": "stream",
     "text": [
      "Ankarİstanbul\n"
     ]
    }
   ],
   "source": [
    "var1 = 'Ankara\\bİstanbul' # \\b backwards b kendisinden önce gelen bir karakteri siler.\n",
    "print(var1)"
   ]
  },
  {
   "cell_type": "code",
   "execution_count": 16,
   "metadata": {},
   "outputs": [
    {
     "name": "stdout",
     "output_type": "stream",
     "text": [
      "Ankara\tİstanbul\n"
     ]
    }
   ],
   "source": [
    "var1 = 'Ankara\\tİstanbul' # \\t  kendisinden sonra boşluk yerleştirir.\n",
    "print(var1)"
   ]
  },
  {
   "cell_type": "markdown",
   "metadata": {},
   "source": [
    "Soru:  `\\` işareti özel bir anlam ifade ediyorsa yazılan metnin içerisinde `\\` yazmak için ne yapmalıyız?<br>\n",
    "Cevap: `\\\\` iki `\\` karakter kullanılabilir."
   ]
  },
  {
   "cell_type": "code",
   "execution_count": 17,
   "metadata": {},
   "outputs": [
    {
     "name": "stdout",
     "output_type": "stream",
     "text": [
      "C:\talat\n",
      "alauket.html\n"
     ]
    }
   ],
   "source": [
    "var1 = 'C:\\talat\\nalan\\buket.html'\n",
    "print(var1)"
   ]
  },
  {
   "cell_type": "code",
   "execution_count": 18,
   "metadata": {},
   "outputs": [
    {
     "name": "stdout",
     "output_type": "stream",
     "text": [
      "C:\\talat\\nalan\\buket.html\n"
     ]
    }
   ],
   "source": [
    "var1 = 'C:\\\\talat\\\\nalan\\\\buket.html'\n",
    "print(var1)"
   ]
  },
  {
   "cell_type": "code",
   "execution_count": 20,
   "metadata": {},
   "outputs": [
    {
     "name": "stdout",
     "output_type": "stream",
     "text": [
      "C:\\talat\\nalan\\buket.html\n"
     ]
    }
   ],
   "source": [
    "var1 = r'C:\\talat\\nalan\\buket.html' # raw string salt metin\n",
    "print(var1)"
   ]
  },
  {
   "cell_type": "markdown",
   "metadata": {},
   "source": [
    "## 2. Erişim"
   ]
  },
  {
   "cell_type": "code",
   "execution_count": 22,
   "metadata": {},
   "outputs": [
    {
     "name": "stdout",
     "output_type": "stream",
     "text": [
      "Ş k\n"
     ]
    }
   ],
   "source": [
    "var1 = \"Şekerbank\"\n",
    "#       012345678\n",
    "print(var1[0],var1[8])"
   ]
  },
  {
   "cell_type": "markdown",
   "metadata": {},
   "source": [
    "```\n",
    "var1 = \"Ş e k e r b a n k\"\n",
    "#.      0 1 2 3 4 5 6 7 8\n",
    "#.     -9-8-7-6-5-4-3-2-1\n",
    "```"
   ]
  },
  {
   "cell_type": "code",
   "execution_count": null,
   "metadata": {},
   "outputs": [],
   "source": [
    "var1 = \"Şekerbank\"\n",
    "#       012345678\n"
   ]
  }
 ],
 "metadata": {
  "kernelspec": {
   "display_name": "Python 3",
   "language": "python",
   "name": "python3"
  },
  "language_info": {
   "codemirror_mode": {
    "name": "ipython",
    "version": 3
   },
   "file_extension": ".py",
   "mimetype": "text/x-python",
   "name": "python",
   "nbconvert_exporter": "python",
   "pygments_lexer": "ipython3",
   "version": "3.8.13 (default, Oct  4 2022, 14:00:32) \n[GCC 9.4.0]"
  },
  "orig_nbformat": 4,
  "vscode": {
   "interpreter": {
    "hash": "9ac03a0a6051494cc606d484d27d20fce22fb7b4d169f583271e11d5ba46a56e"
   }
  }
 },
 "nbformat": 4,
 "nbformat_minor": 2
}
