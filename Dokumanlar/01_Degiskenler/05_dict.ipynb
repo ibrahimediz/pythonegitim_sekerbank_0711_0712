{
 "cells": [
  {
   "cell_type": "markdown",
   "metadata": {},
   "source": [
    "# dict Veri tipi\n",
    "1. Tanımlama\n",
    "2. Erişim ve get fonksiyonu\n",
    "3. setdefault\n",
    "4. update\n",
    "5. popitem ve pop\n",
    "6. keys,items,values"
   ]
  },
  {
   "cell_type": "markdown",
   "metadata": {},
   "source": [
    "## Tanımlama"
   ]
  },
  {
   "cell_type": "code",
   "execution_count": 1,
   "metadata": {},
   "outputs": [
    {
     "name": "stdout",
     "output_type": "stream",
     "text": [
      "<class 'dict'>\n"
     ]
    }
   ],
   "source": [
    "sozluk = {}\n",
    "print(type(sozluk))"
   ]
  },
  {
   "cell_type": "code",
   "execution_count": 2,
   "metadata": {},
   "outputs": [],
   "source": [
    "sozluk = {\"1\":\"Bir\"}\n",
    "#        key : value\n",
    "#           item"
   ]
  },
  {
   "cell_type": "markdown",
   "metadata": {},
   "source": [
    "## Erişim ve Get Fonksiyonu"
   ]
  },
  {
   "cell_type": "code",
   "execution_count": 3,
   "metadata": {},
   "outputs": [
    {
     "name": "stdout",
     "output_type": "stream",
     "text": [
      "Bir\n"
     ]
    }
   ],
   "source": [
    "sozluk = {\"1\":\"Bir\",\"2\":\"İki\"}\n",
    "print(sozluk[\"1\"]) # key değeri üzerinden value değerine erişilir"
   ]
  },
  {
   "cell_type": "code",
   "execution_count": 5,
   "metadata": {},
   "outputs": [
    {
     "ename": "KeyError",
     "evalue": "'3'",
     "output_type": "error",
     "traceback": [
      "\u001b[0;31m---------------------------------------------------------------------------\u001b[0m",
      "\u001b[0;31mKeyError\u001b[0m                                  Traceback (most recent call last)",
      "Cell \u001b[0;32mIn [5], line 2\u001b[0m\n\u001b[1;32m      1\u001b[0m sozluk \u001b[39m=\u001b[39m {\u001b[39m\"\u001b[39m\u001b[39m1\u001b[39m\u001b[39m\"\u001b[39m:\u001b[39m\"\u001b[39m\u001b[39mBir\u001b[39m\u001b[39m\"\u001b[39m,\u001b[39m\"\u001b[39m\u001b[39m2\u001b[39m\u001b[39m\"\u001b[39m:\u001b[39m\"\u001b[39m\u001b[39mİki\u001b[39m\u001b[39m\"\u001b[39m}\n\u001b[0;32m----> 2\u001b[0m \u001b[39mprint\u001b[39m(sozluk[\u001b[39m\"\u001b[39m\u001b[39m3\u001b[39m\u001b[39m\"\u001b[39m])\n",
      "\u001b[0;31mKeyError\u001b[0m: '3'"
     ]
    }
   ],
   "source": [
    "sozluk = {\"1\":\"Bir\",\"2\":\"İki\"}\n",
    "print(sozluk[\"3\"]) # KeyError: '3'"
   ]
  },
  {
   "cell_type": "code",
   "execution_count": 10,
   "metadata": {},
   "outputs": [],
   "source": [
    "sozluk = {\"1\":\"Bir\",\"2\":\"İki\",\"1\":\"One\"}\n",
    "# key için immutable veri tipleri ve sayısal veri tipleri kullanılır\n",
    "# value için istediniz her tür veriyi kullanabilirsiniz."
   ]
  },
  {
   "cell_type": "code",
   "execution_count": 11,
   "metadata": {},
   "outputs": [
    {
     "name": "stdout",
     "output_type": "stream",
     "text": [
      "None\n"
     ]
    }
   ],
   "source": [
    "sozluk = {\"1\":\"Bir\",\"2\":\"İki\"}\n",
    "print(sozluk.get(\"3\")) # => None"
   ]
  },
  {
   "cell_type": "code",
   "execution_count": 12,
   "metadata": {},
   "outputs": [
    {
     "name": "stdout",
     "output_type": "stream",
     "text": [
      "Bir\n"
     ]
    }
   ],
   "source": [
    "sozluk = {\"1\":\"Bir\",\"2\":\"İki\"}\n",
    "print(sozluk.get(\"1\")) # => None"
   ]
  },
  {
   "cell_type": "markdown",
   "metadata": {},
   "source": [
    "## setdefault"
   ]
  },
  {
   "cell_type": "code",
   "execution_count": 14,
   "metadata": {},
   "outputs": [
    {
     "name": "stdout",
     "output_type": "stream",
     "text": [
      "Bir\n",
      "{'1': 'Bir', '2': 'İki'}\n"
     ]
    }
   ],
   "source": [
    "sozluk = {\"1\":\"Bir\",\"2\":\"İki\"}\n",
    "print(sozluk.setdefault(\"1\",\"One\")) # \"1\" değerinde bir key olmaması durumunda One çıktısı döner !!!! Sözlüğe bu değer eklenir !!!!\n",
    "print(sozluk)"
   ]
  },
  {
   "cell_type": "code",
   "execution_count": 15,
   "metadata": {},
   "outputs": [
    {
     "name": "stdout",
     "output_type": "stream",
     "text": [
      "Three\n",
      "{'1': 'Bir', '2': 'İki', '3': 'Three'}\n"
     ]
    }
   ],
   "source": [
    "sozluk = {\"1\":\"Bir\",\"2\":\"İki\"}\n",
    "print(sozluk.setdefault(\"3\",\"Three\")) # \"3\" değerinde bir key olmaması durumunda Three çıktısı döner !!!! Sözlüğe bu değer eklenir !!!!\n",
    "print(sozluk)"
   ]
  },
  {
   "cell_type": "markdown",
   "metadata": {},
   "source": [
    "## Update"
   ]
  },
  {
   "cell_type": "code",
   "execution_count": 16,
   "metadata": {},
   "outputs": [
    {
     "name": "stdout",
     "output_type": "stream",
     "text": [
      "{'1': 'One', '2': 'Two', '3': 'Three', '4': 'Four'}\n"
     ]
    }
   ],
   "source": [
    "a = {\"1\":\"Bir\",\"2\":\"İki\",\"3\":\"Üç\"}\n",
    "b = {\"1\":\"One\",\"2\":\"Two\",\"3\":\"Three\",\"4\":\"Four\"}\n",
    "a.update(b)\n",
    "print(a)"
   ]
  },
  {
   "cell_type": "code",
   "execution_count": 17,
   "metadata": {},
   "outputs": [
    {
     "name": "stdout",
     "output_type": "stream",
     "text": [
      "{'1': 'One', '2': 'Two', '3': 'Three', '5': 'Beş', '4': 'Four'}\n"
     ]
    }
   ],
   "source": [
    "a = {\"1\":\"Bir\",\"2\":\"İki\",\"3\":\"Üç\",\"5\":\"Beş\"}\n",
    "b = {\"1\":\"One\",\"2\":\"Two\",\"3\":\"Three\",\"4\":\"Four\"}\n",
    "a.update(b)\n",
    "print(a)"
   ]
  },
  {
   "cell_type": "code",
   "execution_count": 18,
   "metadata": {},
   "outputs": [
    {
     "name": "stdout",
     "output_type": "stream",
     "text": [
      "{'1': 'One', '2': 'Two', '3': 'Three', '5': 'Five', '4': 'Four'}\n"
     ]
    }
   ],
   "source": [
    "a[\"5\"] = \"Five\"\n",
    "print(a)"
   ]
  },
  {
   "cell_type": "markdown",
   "metadata": {},
   "source": [
    "## popitem"
   ]
  },
  {
   "cell_type": "code",
   "execution_count": 26,
   "metadata": {},
   "outputs": [
    {
     "name": "stdout",
     "output_type": "stream",
     "text": [
      "('4', 'Four')\n",
      "{'1': 'One', '2': 'Two', '3': 'Three'}\n"
     ]
    }
   ],
   "source": [
    "b = {\"1\":\"One\",\"2\":\"Two\",\"3\":\"Three\",\"4\":\"Four\"}\n",
    "print(b.popitem()) # her zaman en son eklenen elemanı siler\n",
    "print(b)"
   ]
  },
  {
   "cell_type": "markdown",
   "metadata": {},
   "source": [
    "## pop"
   ]
  },
  {
   "cell_type": "code",
   "execution_count": 30,
   "metadata": {},
   "outputs": [
    {
     "name": "stdout",
     "output_type": "stream",
     "text": [
      "Two\n",
      "{'1': 'One', '3': 'Three', '4': 'Four'}\n"
     ]
    }
   ],
   "source": [
    "b = {\"1\":\"One\",\"2\":\"Two\",\"3\":\"Three\",\"4\":\"Four\"}\n",
    "print(b.pop(\"2\")) # verilen anahtarı değeri ile birlikte (item şeklinde) siler\n",
    "print(b)"
   ]
  },
  {
   "cell_type": "markdown",
   "metadata": {},
   "source": [
    "## fromkeys"
   ]
  },
  {
   "cell_type": "code",
   "execution_count": 31,
   "metadata": {},
   "outputs": [
    {
     "name": "stdout",
     "output_type": "stream",
     "text": [
      "{'adı': '-', 'soyadı': '-', 'adres': '-', 'telefon': '-'}\n"
     ]
    }
   ],
   "source": [
    "liste=[\"adı\",\"soyadı\",\"adres\",\"telefon\"]\n",
    "sozluk = dict.fromkeys(liste,\"-\")\n",
    "print(sozluk)"
   ]
  },
  {
   "cell_type": "code",
   "execution_count": 33,
   "metadata": {},
   "outputs": [
    {
     "name": "stdout",
     "output_type": "stream",
     "text": [
      "{'adı': 'ali', 'soyadı': 'veli', 'adres': 'ankara', 'telefon': '12312312323'}\n"
     ]
    }
   ],
   "source": [
    "liste=[\"adı\",\"soyadı\",\"adres\",\"telefon\"]\n",
    "liste2=[\"ali\",\"veli\",\"ankara\",\"12312312323\"]\n",
    "sozluk = {}\n",
    "sozluk.update(zip(liste,liste2))\n",
    "print(sozluk)"
   ]
  },
  {
   "cell_type": "markdown",
   "metadata": {},
   "source": [
    "## keys,items,values"
   ]
  },
  {
   "cell_type": "code",
   "execution_count": 37,
   "metadata": {},
   "outputs": [
    {
     "name": "stdout",
     "output_type": "stream",
     "text": [
      "dict_items([('1', 'One'), ('2', 'Two'), ('3', 'Three'), ('4', 'Four')])\n",
      "('1', 'One')\n"
     ]
    }
   ],
   "source": [
    "b = {\"1\":\"One\",\"2\":\"Two\",\"3\":\"Three\",\"4\":\"Four\"}\n",
    "print(b.items())\n",
    "print(list(b.items())[0])"
   ]
  },
  {
   "cell_type": "code",
   "execution_count": 38,
   "metadata": {},
   "outputs": [
    {
     "name": "stdout",
     "output_type": "stream",
     "text": [
      "dict_keys(['1', '2', '3', '4'])\n"
     ]
    }
   ],
   "source": [
    "b = {\"1\":\"One\",\"2\":\"Two\",\"3\":\"Three\",\"4\":\"Four\"}\n",
    "print(b.keys())"
   ]
  },
  {
   "cell_type": "code",
   "execution_count": 39,
   "metadata": {},
   "outputs": [
    {
     "name": "stdout",
     "output_type": "stream",
     "text": [
      "dict_values(['One', 'Two', 'Three', 'Four'])\n"
     ]
    }
   ],
   "source": [
    "b = {\"1\":\"One\",\"2\":\"Two\",\"3\":\"Three\",\"4\":\"Four\"}\n",
    "print(b.values())"
   ]
  },
  {
   "cell_type": "code",
   "execution_count": 44,
   "metadata": {},
   "outputs": [
    {
     "name": "stdout",
     "output_type": "stream",
     "text": [
      "{'a': [1, 2, 3, 4], 'b': [1, 2, 3, 4, 4], 'c': [1, 2, 3, 333]}\n"
     ]
    }
   ],
   "source": [
    "sozluk = {\"a\":[1,2,3,4],\"b\":[4,1,2,3,4],\"c\":[3,2,333,1]}\n",
    "for key,value in sozluk.items():\n",
    "    value.sort()\n",
    "    sozluk[key] = value\n",
    "print(sozluk)"
   ]
  },
  {
   "cell_type": "code",
   "execution_count": null,
   "metadata": {},
   "outputs": [],
   "source": []
  }
 ],
 "metadata": {
  "kernelspec": {
   "display_name": "Python 3",
   "language": "python",
   "name": "python3"
  },
  "language_info": {
   "codemirror_mode": {
    "name": "ipython",
    "version": 3
   },
   "file_extension": ".py",
   "mimetype": "text/x-python",
   "name": "python",
   "nbconvert_exporter": "python",
   "pygments_lexer": "ipython3",
   "version": "3.8.13 (default, Oct  4 2022, 14:00:32) \n[GCC 9.4.0]"
  },
  "orig_nbformat": 4,
  "vscode": {
   "interpreter": {
    "hash": "110cc1dee26208153f2972f08a2ad52b6a56238dc66d48e87fb757ef2996db56"
   }
  }
 },
 "nbformat": 4,
 "nbformat_minor": 2
}
