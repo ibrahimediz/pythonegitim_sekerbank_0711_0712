{
 "cells": [
  {
   "cell_type": "markdown",
   "metadata": {},
   "source": [
    "# Operatörler\n",
    "* Mantıksal Operatörler\n",
    "* Atama Operatörü\n",
    "* Karşılaştırma Operatörleri\n",
    "* Üyelik Operatörü\n",
    "* Unpack Operatörü\n",
    "* Kimlik Operatörü\n",
    "* Bitwise Operatörler\n",
    "* Aritmetik Operatörler\n",
    "* Unary Operatörler"
   ]
  },
  {
   "cell_type": "markdown",
   "metadata": {},
   "source": [
    "### Atama Operatörü `=`"
   ]
  },
  {
   "cell_type": "code",
   "execution_count": 1,
   "metadata": {},
   "outputs": [],
   "source": [
    "var1 = 2"
   ]
  },
  {
   "cell_type": "markdown",
   "metadata": {},
   "source": [
    "### Aritmetik Operatörler `+,-,/,*,//,%,**`"
   ]
  },
  {
   "cell_type": "code",
   "execution_count": 5,
   "metadata": {},
   "outputs": [
    {
     "name": "stdout",
     "output_type": "stream",
     "text": [
      "var1 + var2 =  8\n",
      "var1 - var2 =  2\n",
      "var1 * var2 =  15\n",
      "var1 / var2 =  1.6666666666666667\n",
      "var1 // var2 =  1\n",
      "var1 % var2 =  2\n",
      "var1 ** var2 =  125\n"
     ]
    }
   ],
   "source": [
    "var1 = 5\n",
    "var2 = 3\n",
    "print(\"var1 + var2 = \",var1+var2)\n",
    "print(\"var1 - var2 = \",var1-var2)\n",
    "print(\"var1 * var2 = \",var1*var2)\n",
    "print(\"var1 / var2 = \",var1/var2)\n",
    "print(\"var1 // var2 = \",var1//var2)\n",
    "print(\"var1 % var2 = \",var1%var2)\n",
    "print(\"var1 ** var2 = \",var1**var2)\n"
   ]
  },
  {
   "cell_type": "markdown",
   "metadata": {},
   "source": [
    "### Unary Operator `+=,-= tüm diğer bitwise ve aritmetik operatörler için geçerlidir`"
   ]
  },
  {
   "cell_type": "code",
   "execution_count": 6,
   "metadata": {},
   "outputs": [
    {
     "name": "stdout",
     "output_type": "stream",
     "text": [
      "12\n"
     ]
    }
   ],
   "source": [
    "var1 = 5\n",
    "var1 = var1 + 7\n",
    "print(var1)"
   ]
  },
  {
   "cell_type": "code",
   "execution_count": 8,
   "metadata": {},
   "outputs": [
    {
     "name": "stdout",
     "output_type": "stream",
     "text": [
      "12\n"
     ]
    }
   ],
   "source": [
    "var1 = 5\n",
    "var1 += 7 # var1 = var1 + 7\n",
    "print(var1)"
   ]
  },
  {
   "cell_type": "markdown",
   "metadata": {},
   "source": [
    "### Karşılaştırma Operatörleri `<,>,==,!=,>=,<=`"
   ]
  },
  {
   "cell_type": "code",
   "execution_count": 9,
   "metadata": {},
   "outputs": [
    {
     "name": "stdout",
     "output_type": "stream",
     "text": [
      "a < b =>  False\n",
      "a > b =>  True\n",
      "a == b =>  False\n",
      "a != b =>  True\n",
      "a >= b =>  True\n",
      "a <= b =>  False\n"
     ]
    }
   ],
   "source": [
    "a = 4\n",
    "b = 2\n",
    "print(\"a < b => \",a < b)\n",
    "print(\"a > b => \",a > b)\n",
    "print(\"a == b => \",a == b)\n",
    "print(\"a != b => \",a != b)\n",
    "print(\"a >= b => \",a >= b)\n",
    "print(\"a <= b => \",a <= b)"
   ]
  },
  {
   "cell_type": "code",
   "execution_count": 10,
   "metadata": {},
   "outputs": [
    {
     "data": {
      "text/plain": [
       "True"
      ]
     },
     "execution_count": 10,
     "metadata": {},
     "output_type": "execute_result"
    }
   ],
   "source": [
    "a = \"a\" # => ord(a) => 97\n",
    "b = \"A\" # => ord(b) => 65\n",
    "a > b"
   ]
  },
  {
   "cell_type": "code",
   "execution_count": 13,
   "metadata": {},
   "outputs": [
    {
     "data": {
      "text/plain": [
       "False"
      ]
     },
     "execution_count": 13,
     "metadata": {},
     "output_type": "execute_result"
    }
   ],
   "source": [
    "a = \"Şekerbank\" # => b\n",
    "b = \"ŞekerBank\" # => B\n",
    "a < b"
   ]
  },
  {
   "cell_type": "code",
   "execution_count": 20,
   "metadata": {},
   "outputs": [
    {
     "data": {
      "text/plain": [
       "True"
      ]
     },
     "execution_count": 20,
     "metadata": {},
     "output_type": "execute_result"
    }
   ],
   "source": [
    "liste = [2,3,4]\n",
    "liste2 = [23,3,4]\n",
    "liste < liste2"
   ]
  },
  {
   "cell_type": "markdown",
   "metadata": {},
   "source": [
    "### Mantıksal Operatörler `and,or,not`"
   ]
  },
  {
   "cell_type": "code",
   "execution_count": 21,
   "metadata": {},
   "outputs": [
    {
     "name": "stdout",
     "output_type": "stream",
     "text": [
      "a and b False\n",
      "a or b True\n",
      "not a False\n"
     ]
    }
   ],
   "source": [
    "a = True\n",
    "b = False\n",
    "print(\"a and b\",a and b)\n",
    "print(\"a or b\",a or b)\n",
    "print(\"not a\",not a)"
   ]
  },
  {
   "cell_type": "code",
   "execution_count": 27,
   "metadata": {},
   "outputs": [
    {
     "data": {
      "text/plain": [
       "(0, 2, True, False)"
      ]
     },
     "execution_count": 27,
     "metadata": {},
     "output_type": "execute_result"
    }
   ],
   "source": [
    "a = 0 # False\n",
    "b = 2\n",
    "a and b,a or b,not a,not b"
   ]
  },
  {
   "cell_type": "code",
   "execution_count": 28,
   "metadata": {},
   "outputs": [
    {
     "data": {
      "text/plain": [
       "(2, -1, False, False)"
      ]
     },
     "execution_count": 28,
     "metadata": {},
     "output_type": "execute_result"
    }
   ],
   "source": [
    "a = -1 \n",
    "b = 2\n",
    "a and b,a or b,not a,not b"
   ]
  },
  {
   "cell_type": "code",
   "execution_count": 49,
   "metadata": {},
   "outputs": [
    {
     "data": {
      "text/plain": [
       "(-2, -1, False, False)"
      ]
     },
     "execution_count": 49,
     "metadata": {},
     "output_type": "execute_result"
    }
   ],
   "source": [
    "a = -1\n",
    "b = -2\n",
    "a and b,a or b,not a,not b"
   ]
  },
  {
   "cell_type": "code",
   "execution_count": 30,
   "metadata": {},
   "outputs": [
    {
     "data": {
      "text/plain": [
       "(-2, 1, False, False)"
      ]
     },
     "execution_count": 30,
     "metadata": {},
     "output_type": "execute_result"
    }
   ],
   "source": [
    "a = 1\n",
    "b = -2\n",
    "a and b,a or b,not a,not b"
   ]
  },
  {
   "cell_type": "markdown",
   "metadata": {},
   "source": [
    "### Üyelik Operatörü `in,not in`"
   ]
  },
  {
   "cell_type": "code",
   "execution_count": 32,
   "metadata": {},
   "outputs": [
    {
     "name": "stdout",
     "output_type": "stream",
     "text": [
      "True False\n"
     ]
    }
   ],
   "source": [
    "liste = [1,2,3,4,5]\n",
    "metin = \"abcdef\"\n",
    "print(1 in liste,\"b\" not in metin)"
   ]
  },
  {
   "cell_type": "code",
   "execution_count": 36,
   "metadata": {},
   "outputs": [
    {
     "name": "stdout",
     "output_type": "stream",
     "text": [
      "False\n"
     ]
    }
   ],
   "source": [
    "sozluk = {\"1\":\"Bir\",\"2\":\"İki\"}\n",
    "print(\"2\" in sozluk) # bu şekilde yazıldığında key dikkate alınır"
   ]
  },
  {
   "cell_type": "markdown",
   "metadata": {},
   "source": [
    "### Kimlik Operatörü `is,is not`"
   ]
  },
  {
   "cell_type": "code",
   "execution_count": 42,
   "metadata": {},
   "outputs": [
    {
     "name": "stdout",
     "output_type": "stream",
     "text": [
      "True\n"
     ]
    }
   ],
   "source": [
    "var1 = var2 = 298\n",
    "print(var1 is var2)"
   ]
  },
  {
   "cell_type": "code",
   "execution_count": 47,
   "metadata": {},
   "outputs": [
    {
     "name": "stdout",
     "output_type": "stream",
     "text": [
      "False\n",
      "True\n",
      "140294618833104\n",
      "94880396044032\n"
     ]
    }
   ],
   "source": [
    "var1 = 1.0\n",
    "var2 = 1\n",
    "print(var1 is var2)\n",
    "print(var1 == var2)\n",
    "print(id(var1))\n",
    "print(id(var2))"
   ]
  },
  {
   "cell_type": "markdown",
   "metadata": {},
   "source": [
    "### unpack operatörü `*`"
   ]
  },
  {
   "cell_type": "code",
   "execution_count": 50,
   "metadata": {},
   "outputs": [
    {
     "name": "stdout",
     "output_type": "stream",
     "text": [
      "1-2-3-4-5-"
     ]
    }
   ],
   "source": [
    "# liste = [1,2,3,4,5]\n",
    "# for item in liste:\n",
    "#     print(item,end=\"-\")"
   ]
  },
  {
   "cell_type": "code",
   "execution_count": 53,
   "metadata": {},
   "outputs": [
    {
     "name": "stdout",
     "output_type": "stream",
     "text": [
      "1;2;3;4;5\n"
     ]
    }
   ],
   "source": [
    "liste = [1,2,3,4,5]\n",
    "print(*liste,sep=\";\")"
   ]
  },
  {
   "cell_type": "markdown",
   "metadata": {},
   "source": [
    "### Bitwise Operatörleri `&,|,~,>>,<<,^`"
   ]
  },
  {
   "cell_type": "code",
   "execution_count": 56,
   "metadata": {},
   "outputs": [
    {
     "name": "stdout",
     "output_type": "stream",
     "text": [
      "0\n",
      "14\n",
      "14\n",
      "-5\n",
      "16\n",
      "1\n"
     ]
    }
   ],
   "source": [
    "a = 10      # => 1010\n",
    "b =  4      # => 0100\n",
    "print(a & b)# => 0000 => 0\n",
    "print(a | b)# => 1110 => 14\n",
    "print(a ^ b)# => 1110 => 14 # XOR\n",
    "print(~b) # => 0100=> -0101\n",
    "print(b<<2) # => 0100 => 10000\n",
    "print(b>>2) # => 0100 => 00001"
   ]
  },
  {
   "cell_type": "code",
   "execution_count": 70,
   "metadata": {},
   "outputs": [
    {
     "name": "stdout",
     "output_type": "stream",
     "text": [
      "1.0\n"
     ]
    }
   ],
   "source": [
    "var1 = 1\n",
    "print(float(var1))"
   ]
  },
  {
   "cell_type": "code",
   "execution_count": 71,
   "metadata": {},
   "outputs": [
    {
     "name": "stdout",
     "output_type": "stream",
     "text": [
      "(2, 2, 3)\n"
     ]
    }
   ],
   "source": [
    "liste = [2,2,3,]\n",
    "print(tuple(liste))"
   ]
  },
  {
   "cell_type": "code",
   "execution_count": 72,
   "metadata": {},
   "outputs": [
    {
     "name": "stdout",
     "output_type": "stream",
     "text": [
      "(2, 2, 3)\n"
     ]
    }
   ],
   "source": [
    "var1 = \"Şekerbank\"\n",
    "print(tuple(var1))"
   ]
  },
  {
   "cell_type": "code",
   "execution_count": 73,
   "metadata": {},
   "outputs": [
    {
     "name": "stdout",
     "output_type": "stream",
     "text": [
      "['Ş', 'e', 'k', 'e', 'r', 'b', 'a', 'n', 'k']\n"
     ]
    }
   ],
   "source": [
    "var1 = \"Şekerbank\"\n",
    "print(list(var1))"
   ]
  }
 ],
 "metadata": {
  "kernelspec": {
   "display_name": "Python 3",
   "language": "python",
   "name": "python3"
  },
  "language_info": {
   "codemirror_mode": {
    "name": "ipython",
    "version": 3
   },
   "file_extension": ".py",
   "mimetype": "text/x-python",
   "name": "python",
   "nbconvert_exporter": "python",
   "pygments_lexer": "ipython3",
   "version": "3.8.13 (default, Oct  4 2022, 14:00:32) \n[GCC 9.4.0]"
  },
  "orig_nbformat": 4,
  "vscode": {
   "interpreter": {
    "hash": "9ac03a0a6051494cc606d484d27d20fce22fb7b4d169f583271e11d5ba46a56e"
   }
  }
 },
 "nbformat": 4,
 "nbformat_minor": 2
}
