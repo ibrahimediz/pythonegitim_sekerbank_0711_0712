{
 "cells": [
  {
   "cell_type": "markdown",
   "metadata": {},
   "source": [
    "Veri Tipleri Genel Bilgi"
   ]
  },
  {
   "cell_type": "code",
   "execution_count": 1,
   "metadata": {},
   "outputs": [
    {
     "name": "stdout",
     "output_type": "stream",
     "text": [
      "2\n"
     ]
    }
   ],
   "source": [
    "var1 = 2\n",
    "#degisken = değer\n",
    "# değişkenleri tanımlarken atama operatörü kullanılır. '=' assignment operator\n",
    "var1 = var2 = 2\n",
    "print(var1)"
   ]
  },
  {
   "cell_type": "markdown",
   "metadata": {},
   "source": [
    "Değişken tanımalama kuralları\n",
    "1. Değişken ismi sayı ile başlayamaz\n",
    "2. Değişken isminde `_` dışında herhangi bir noktalama işareti ve boşluk kullanılmaz\n",
    "3. rezerver kelimelerin değişken ismi olarak kullanılması önerilmez\n",
    "```\n",
    "import keywords\n",
    "print(keywords.kwlist)\n",
    "```"
   ]
  },
  {
   "cell_type": "code",
   "execution_count": 3,
   "metadata": {},
   "outputs": [
    {
     "name": "stdout",
     "output_type": "stream",
     "text": [
      "['False', 'None', 'True', 'and', 'as', 'assert', 'async', 'await', 'break', 'class', 'continue', 'def', 'del', 'elif', 'else', 'except', 'finally', 'for', 'from', 'global', 'if', 'import', 'in', 'is', 'lambda', 'nonlocal', 'not', 'or', 'pass', 'raise', 'return', 'try', 'while', 'with', 'yield']\n"
     ]
    }
   ],
   "source": [
    "import keyword\n",
    "print(keyword.kwlist)"
   ]
  },
  {
   "cell_type": "markdown",
   "metadata": {},
   "source": [
    "## Veri Tipleri\n",
    "Değişkenin veri tipini tespit etmede `type` fonksiyonu kullanılır \n",
    "* Sayısal Veri Tipleri\n",
    "    - int\n",
    "    - float\n",
    "    - complex\n",
    "* Dizi Veri Tipleri\n",
    "    - str\n",
    "    - list\n",
    "    - tuple\n",
    "* Mapping Veri Tipleri\n",
    "    - dict\n",
    "* Diğerleri\n",
    "    - set\n",
    "    - bool"
   ]
  },
  {
   "cell_type": "code",
   "execution_count": 2,
   "metadata": {},
   "outputs": [],
   "source": [
    "var1 = 5\n",
    "var1 = \"Jamiryo\"\n",
    "# istediğim zaman farklı bir değer atayarak değişkenin veri tipini değiştirebilirim"
   ]
  },
  {
   "cell_type": "markdown",
   "metadata": {},
   "source": [
    "### type"
   ]
  },
  {
   "cell_type": "code",
   "execution_count": 3,
   "metadata": {},
   "outputs": [
    {
     "name": "stdout",
     "output_type": "stream",
     "text": [
      "<class 'int'>\n"
     ]
    }
   ],
   "source": [
    "var1 = 5 # int\n",
    "print(type(var1))"
   ]
  },
  {
   "cell_type": "markdown",
   "metadata": {},
   "source": [
    "##### Sayısal Veri Tipleri"
   ]
  },
  {
   "cell_type": "code",
   "execution_count": 5,
   "metadata": {},
   "outputs": [
    {
     "name": "stdout",
     "output_type": "stream",
     "text": [
      "var1= 1 => Tipi: <class 'int'>\n",
      "var2= 2.3 => Tipi: <class 'float'>\n",
      "var3= (3.4+0j) => Tipi: <class 'complex'>\n"
     ]
    }
   ],
   "source": [
    "var1 = 1 # int\n",
    "var2 = 2.3 # float\n",
    "var3 = 3.4 + 0j # complex\n",
    "print(\"var1=\",var1,\"=> Tipi:\",type(var1))\n",
    "print(\"var2=\",var2,\"=> Tipi:\",type(var2))\n",
    "print(\"var3=\",var3,\"=> Tipi:\",type(var3))"
   ]
  },
  {
   "cell_type": "markdown",
   "metadata": {},
   "source": [
    "#####  Dizi Veri Tipleri"
   ]
  },
  {
   "cell_type": "code",
   "execution_count": 6,
   "metadata": {},
   "outputs": [
    {
     "name": "stdout",
     "output_type": "stream",
     "text": [
      "var1= 1 => Tipi: <class 'str'>\n",
      "var2= [1, 2, 3, '4', [1, 2, 3]] => Tipi: <class 'list'>\n",
      "var3= (1, 2, 3, '5', [1, 2, 3]) => Tipi: <class 'tuple'>\n"
     ]
    }
   ],
   "source": [
    "var1 = \"1\" # str\n",
    "var2 = [1,2,3,\"4\",[1,2,3]] # list\n",
    "var3 = (1,2,3,\"5\",[1,2,3]) # tuple\n",
    "print(\"var1=\",var1,\"=> Tipi:\",type(var1))\n",
    "print(\"var2=\",var2,\"=> Tipi:\",type(var2))\n",
    "print(\"var3=\",var3,\"=> Tipi:\",type(var3))"
   ]
  },
  {
   "cell_type": "markdown",
   "metadata": {},
   "source": [
    "##### Mapping Veri Tipleri"
   ]
  },
  {
   "cell_type": "code",
   "execution_count": 7,
   "metadata": {},
   "outputs": [
    {
     "name": "stdout",
     "output_type": "stream",
     "text": [
      "var1= {'1': 'Bir', '2': 'İki'} => Tipi: <class 'dict'>\n"
     ]
    }
   ],
   "source": [
    "var1 = {\"1\":\"Bir\",\"2\":\"İki\"} # dict\n",
    "print(\"var1=\",var1,\"=> Tipi:\",type(var1))"
   ]
  },
  {
   "cell_type": "markdown",
   "metadata": {},
   "source": [
    "##### Diğer Veri Tipleri"
   ]
  },
  {
   "cell_type": "code",
   "execution_count": 8,
   "metadata": {},
   "outputs": [
    {
     "name": "stdout",
     "output_type": "stream",
     "text": [
      "var1= {1, 2, 3, 4, 5} => Tipi: <class 'set'>\n",
      "var2= False => Tipi: <class 'bool'>\n"
     ]
    }
   ],
   "source": [
    "var1 = {1,2,3,4,5}\n",
    "var2 = False \n",
    "print(\"var1=\",var1,\"=> Tipi:\",type(var1))\n",
    "print(\"var2=\",var2,\"=> Tipi:\",type(var2))"
   ]
  }
 ],
 "metadata": {
  "kernelspec": {
   "display_name": "Python 3",
   "language": "python",
   "name": "python3"
  },
  "language_info": {
   "codemirror_mode": {
    "name": "ipython",
    "version": 3
   },
   "file_extension": ".py",
   "mimetype": "text/x-python",
   "name": "python",
   "nbconvert_exporter": "python",
   "pygments_lexer": "ipython3",
   "version": "3.8.13"
  },
  "orig_nbformat": 4,
  "vscode": {
   "interpreter": {
    "hash": "9ac03a0a6051494cc606d484d27d20fce22fb7b4d169f583271e11d5ba46a56e"
   }
  }
 },
 "nbformat": 4,
 "nbformat_minor": 2
}
