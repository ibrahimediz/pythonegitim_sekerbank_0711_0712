{
 "cells": [
  {
   "cell_type": "markdown",
   "metadata": {},
   "source": [
    "indentitaion ===> girinti"
   ]
  },
  {
   "cell_type": "markdown",
   "metadata": {},
   "source": [
    "# Karar Yapıları\n",
    "* if\n",
    "* else\n",
    "* elif"
   ]
  },
  {
   "cell_type": "markdown",
   "metadata": {},
   "source": [
    "### if"
   ]
  },
  {
   "cell_type": "code",
   "execution_count": 2,
   "metadata": {},
   "outputs": [
    {
     "name": "stdout",
     "output_type": "stream",
     "text": [
      "Doğru\n",
      "Karşılaştırma Yaptım\n"
     ]
    }
   ],
   "source": [
    "a = 2\n",
    "if a == 2:\n",
    "    print(\"Doğru\")\n",
    "    print(\"Karşılaştırma Yaptım\")"
   ]
  },
  {
   "cell_type": "code",
   "execution_count": 17,
   "metadata": {},
   "outputs": [
    {
     "name": "stdout",
     "output_type": "stream",
     "text": [
      "Doğru\n",
      "Karşılaştırma Yaptım\n"
     ]
    }
   ],
   "source": [
    "a = 2\n",
    "if a % 2 == 0:\n",
    "    print(\"Doğru\")\n",
    "    print(\"Karşılaştırma Yaptım\")"
   ]
  },
  {
   "cell_type": "code",
   "execution_count": 4,
   "metadata": {},
   "outputs": [],
   "source": [
    "a = 0\n",
    "b = \"\"\n",
    "c = []\n",
    "d = ()\n",
    "e = {}\n",
    "f = set()\n",
    "if a:\n",
    "    print(\"Dolu\")"
   ]
  },
  {
   "cell_type": "code",
   "execution_count": 15,
   "metadata": {},
   "outputs": [],
   "source": [
    "a = -2\n",
    "b = \"\"\n",
    "c = []\n",
    "d = ()\n",
    "e = {}\n",
    "f = set()\n",
    "if f:\n",
    "    print(\"Dolu\")"
   ]
  },
  {
   "cell_type": "markdown",
   "metadata": {},
   "source": [
    "Pratik"
   ]
  },
  {
   "cell_type": "code",
   "execution_count": 22,
   "metadata": {},
   "outputs": [
    {
     "ename": "ValueError",
     "evalue": "invalid literal for int() with base 10: 'a'",
     "output_type": "error",
     "traceback": [
      "\u001b[0;31m---------------------------------------------------------------------------\u001b[0m",
      "\u001b[0;31mValueError\u001b[0m                                Traceback (most recent call last)",
      "Cell \u001b[0;32mIn [22], line 3\u001b[0m\n\u001b[1;32m      1\u001b[0m yas \u001b[39m=\u001b[39m \u001b[39minput\u001b[39m(\u001b[39m\"\u001b[39m\u001b[39mYaşınızı Giriniz:\u001b[39m\u001b[39m\"\u001b[39m) \u001b[39m# str veri tipinde giriş \u001b[39;00m\n\u001b[1;32m      2\u001b[0m \u001b[39mif\u001b[39;00m yas:\n\u001b[0;32m----> 3\u001b[0m     yas \u001b[39m=\u001b[39m \u001b[39mint\u001b[39m(yas)\n\u001b[1;32m      4\u001b[0m     \u001b[39mprint\u001b[39m(\u001b[39mf\u001b[39m\u001b[39m\"\u001b[39m\u001b[39m5 yıl sonra => \u001b[39m\u001b[39m{\u001b[39;00myas \u001b[39m+\u001b[39m \u001b[39m5\u001b[39m\u001b[39m}\u001b[39;00m\u001b[39m yaşında olacaksınız\u001b[39m\u001b[39m\"\u001b[39m)\n",
      "\u001b[0;31mValueError\u001b[0m: invalid literal for int() with base 10: 'a'"
     ]
    }
   ],
   "source": [
    "yas = input(\"Yaşınızı Giriniz:\") # str veri tipinde giriş \n",
    "if yas:\n",
    "    yas = int(yas)\n",
    "    print(f\"5 yıl sonra => {yas + 5} yaşında olacaksınız\")"
   ]
  },
  {
   "cell_type": "code",
   "execution_count": 21,
   "metadata": {},
   "outputs": [
    {
     "name": "stdout",
     "output_type": "stream",
     "text": [
      "5 yıl sonra => 25 yaşında olacaksınız\n"
     ]
    }
   ],
   "source": [
    "yas = input(\"Yaşınızı Giriniz:\") # str veri tipinde giriş \n",
    "if yas:\n",
    "    if yas.isdigit():\n",
    "        yas = int(yas)\n",
    "        print(f\"5 yıl sonra => {yas + 5} yaşında olacaksınız\")"
   ]
  },
  {
   "cell_type": "markdown",
   "metadata": {},
   "source": [
    "### else"
   ]
  },
  {
   "cell_type": "code",
   "execution_count": 28,
   "metadata": {},
   "outputs": [
    {
     "name": "stdout",
     "output_type": "stream",
     "text": [
      "A Çift Sayıdır\n"
     ]
    }
   ],
   "source": [
    "a = 2\n",
    "if a % 2 == 0:\n",
    "    print(\"A Çift Sayıdır\")\n",
    "else: # ya değilse\n",
    "    print(\"A Tek Sayıdır\")"
   ]
  },
  {
   "cell_type": "code",
   "execution_count": 25,
   "metadata": {},
   "outputs": [
    {
     "name": "stdout",
     "output_type": "stream",
     "text": [
      "5 yıl sonra => 17 yaşında olacaksınız\n"
     ]
    }
   ],
   "source": [
    "yas = input(\"Yaşınızı Giriniz:\") # str veri tipinde giriş \n",
    "if yas:\n",
    "    if yas.isdigit():\n",
    "        yas = int(yas)\n",
    "        print(f\"5 yıl sonra => {yas + 5} yaşında olacaksınız\")\n",
    "    else:\n",
    "        print(\"Nümerik bir değer girmediniz\")\n",
    "else:\n",
    "    print(\"Değer Girmediniz\")"
   ]
  },
  {
   "cell_type": "markdown",
   "metadata": {},
   "source": [
    "Egzersiz:\n",
    "<br>Aşağıdaki koşulları da dikkate alarak kullanıcının yaş bilgisini aldıktan sonra 18-30 yaş aralığında ise ekrana Z kuşağı yazan bir python programı yazınız. \n",
    "<br>a. veri girişi yapılıp yapılmadığına ve sayısal değer girildiğinden emin olalım\n",
    "<br>b. hatalı giriş yapıldığında kullanıcıya mesaj yazalım\n",
    "<br>`02_01_Karar_yapilari.py` dosyasına yaptığımız çalışmaları kaydedebiliriz\n"
   ]
  },
  {
   "cell_type": "code",
   "execution_count": null,
   "metadata": {},
   "outputs": [],
   "source": []
  }
 ],
 "metadata": {
  "kernelspec": {
   "display_name": "Python 3",
   "language": "python",
   "name": "python3"
  },
  "language_info": {
   "codemirror_mode": {
    "name": "ipython",
    "version": 3
   },
   "file_extension": ".py",
   "mimetype": "text/x-python",
   "name": "python",
   "nbconvert_exporter": "python",
   "pygments_lexer": "ipython3",
   "version": "3.8.13 (default, Oct  4 2022, 14:00:32) \n[GCC 9.4.0]"
  },
  "orig_nbformat": 4,
  "vscode": {
   "interpreter": {
    "hash": "9ac03a0a6051494cc606d484d27d20fce22fb7b4d169f583271e11d5ba46a56e"
   }
  }
 },
 "nbformat": 4,
 "nbformat_minor": 2
}
