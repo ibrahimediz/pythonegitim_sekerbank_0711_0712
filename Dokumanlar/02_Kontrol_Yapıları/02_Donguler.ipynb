{
 "cells": [
  {
   "cell_type": "markdown",
   "metadata": {},
   "source": [
    "1. Döngüler\n",
    "* range\n",
    "* for\n",
    "* while\n",
    "* break,continue\n",
    "* else"
   ]
  },
  {
   "cell_type": "markdown",
   "metadata": {},
   "source": [
    "#### range"
   ]
  },
  {
   "cell_type": "markdown",
   "metadata": {},
   "source": [
    "range(baslangıç,bitis(e kadar),adım)"
   ]
  },
  {
   "cell_type": "code",
   "execution_count": 2,
   "metadata": {},
   "outputs": [
    {
     "name": "stdout",
     "output_type": "stream",
     "text": [
      "range(0, 5)\n",
      "0 1 2 3 4\n"
     ]
    }
   ],
   "source": [
    "print(range(0,5))\n",
    "print(*range(0,5))"
   ]
  },
  {
   "cell_type": "code",
   "execution_count": 15,
   "metadata": {},
   "outputs": [
    {
     "name": "stdout",
     "output_type": "stream",
     "text": [
      "range(0, 10)\n",
      "0 1 2 3 4 5 6 7 8 9\n"
     ]
    }
   ],
   "source": [
    "print(range(10))\n",
    "print(*range(10))"
   ]
  },
  {
   "cell_type": "code",
   "execution_count": 16,
   "metadata": {},
   "outputs": [
    {
     "name": "stdout",
     "output_type": "stream",
     "text": [
      "range(5, 20)\n",
      "5 6 7 8 9 10 11 12 13 14 15 16 17 18 19\n"
     ]
    }
   ],
   "source": [
    "print(range(5,20))\n",
    "print(*range(5,20))"
   ]
  },
  {
   "cell_type": "code",
   "execution_count": 17,
   "metadata": {},
   "outputs": [
    {
     "name": "stdout",
     "output_type": "stream",
     "text": [
      "range(5, 20, 5)\n",
      "5 10 15\n"
     ]
    }
   ],
   "source": [
    "print(range(5,20,5))\n",
    "print(*range(5,20,5))"
   ]
  },
  {
   "cell_type": "code",
   "execution_count": 18,
   "metadata": {},
   "outputs": [
    {
     "name": "stdout",
     "output_type": "stream",
     "text": [
      "range(20, 5, -5)\n",
      "20 15 10\n"
     ]
    }
   ],
   "source": [
    "print(range(20,5,-5))\n",
    "print(*range(20,5,-5))"
   ]
  },
  {
   "cell_type": "code",
   "execution_count": 19,
   "metadata": {},
   "outputs": [
    {
     "name": "stdout",
     "output_type": "stream",
     "text": [
      "range(5, 20, -5)\n",
      "\n"
     ]
    }
   ],
   "source": [
    "print(range(5,20,-5))\n",
    "print(*range(5,20,-5))"
   ]
  },
  {
   "cell_type": "markdown",
   "metadata": {},
   "source": [
    "### for\n",
    "Sınırını bildiğimiz döngülerde for yapısını kullanabiliriz"
   ]
  },
  {
   "cell_type": "code",
   "execution_count": 23,
   "metadata": {},
   "outputs": [
    {
     "name": "stdout",
     "output_type": "stream",
     "text": [
      "1\n",
      "2\n",
      "3\n",
      "4\n"
     ]
    }
   ],
   "source": [
    "# foreach\n",
    "liste = [1,2,3,4]\n",
    "for item in liste:\n",
    "    print(item)"
   ]
  },
  {
   "cell_type": "code",
   "execution_count": 24,
   "metadata": {},
   "outputs": [
    {
     "name": "stdout",
     "output_type": "stream",
     "text": [
      "A\n",
      "n\n",
      "k\n",
      "a\n",
      "r\n",
      "a\n"
     ]
    }
   ],
   "source": [
    "metin = \"Ankara\"\n",
    "for item in metin:\n",
    "    print(item)"
   ]
  },
  {
   "cell_type": "code",
   "execution_count": 25,
   "metadata": {},
   "outputs": [
    {
     "name": "stdout",
     "output_type": "stream",
     "text": [
      "1\n",
      "2\n"
     ]
    }
   ],
   "source": [
    "sozluk = {\"1\":\"Bir\",\"2\":\"İki\"}\n",
    "for item in sozluk:\n",
    "    print(item)"
   ]
  },
  {
   "cell_type": "code",
   "execution_count": 26,
   "metadata": {},
   "outputs": [
    {
     "name": "stdout",
     "output_type": "stream",
     "text": [
      "1\n",
      "2\n",
      "3\n",
      "4\n"
     ]
    }
   ],
   "source": [
    "liste = [1,2,3,4]\n",
    "for i in range(len(liste)):\n",
    "    print(liste[i])"
   ]
  },
  {
   "cell_type": "markdown",
   "metadata": {},
   "source": [
    "--------------------------------\n",
    "Egzersiz:\n",
    "* 200 sayısına kadar olan tüm çift sayıların toplamını ekrana yazdıran python kod parçasını yazalım\n",
    "<br>\n",
    "02_02_Donguler.py dosyasına çalışmamızı kaydedebiliriz"
   ]
  },
  {
   "cell_type": "code",
   "execution_count": 27,
   "metadata": {},
   "outputs": [
    {
     "name": "stdout",
     "output_type": "stream",
     "text": [
      "10100\n"
     ]
    }
   ],
   "source": [
    "# 1 \n",
    "s = 0\n",
    "for i in range(0,201):\n",
    "    if i % 2 == 0:\n",
    "        s += i\n",
    "        # s = s + 1\n",
    "print(s)"
   ]
  },
  {
   "cell_type": "code",
   "execution_count": 29,
   "metadata": {},
   "outputs": [
    {
     "name": "stdout",
     "output_type": "stream",
     "text": [
      "10100\n"
     ]
    }
   ],
   "source": [
    "# 1 \n",
    "s = 0\n",
    "for i in range(0,201,2):\n",
    "        s += i\n",
    "print(s)"
   ]
  },
  {
   "cell_type": "code",
   "execution_count": 28,
   "metadata": {},
   "outputs": [
    {
     "name": "stdout",
     "output_type": "stream",
     "text": [
      "10100\n"
     ]
    }
   ],
   "source": [
    "liste = [i for i in range(0,201) if i % 2 == 0]\n",
    "print(sum(liste))"
   ]
  },
  {
   "cell_type": "code",
   "execution_count": 30,
   "metadata": {},
   "outputs": [
    {
     "name": "stdout",
     "output_type": "stream",
     "text": [
      "10100\n"
     ]
    }
   ],
   "source": [
    "liste = [i for i in range(0,201,2)]\n",
    "print(sum(liste))"
   ]
  },
  {
   "cell_type": "code",
   "execution_count": 31,
   "metadata": {},
   "outputs": [
    {
     "name": "stdout",
     "output_type": "stream",
     "text": [
      "10100\n"
     ]
    }
   ],
   "source": [
    "print(sum(range(0,201,2)))"
   ]
  },
  {
   "cell_type": "markdown",
   "metadata": {},
   "source": [
    "---------------------"
   ]
  },
  {
   "cell_type": "markdown",
   "metadata": {},
   "source": [
    "Örnek:<br>\n",
    "girilen metinde sesli harf sayısını ekrana yazdıran python kod parçasını yazınız"
   ]
  },
  {
   "cell_type": "code",
   "execution_count": 32,
   "metadata": {},
   "outputs": [
    {
     "name": "stdout",
     "output_type": "stream",
     "text": [
      "9\n"
     ]
    }
   ],
   "source": [
    "var1 = input(\"Metni Giriniz:\")\n",
    "sesliHarfler = \"aeoöiıuüAEIİOÖUÜ\"\n",
    "sayi = 0\n",
    "for item in var1:\n",
    "    if item in sesliHarfler:\n",
    "        sayi += 1\n",
    "print(sayi)"
   ]
  },
  {
   "cell_type": "markdown",
   "metadata": {},
   "source": [
    "### While\n",
    "Sınırını bilmediğimiz yapılarda while kullanılabilir."
   ]
  },
  {
   "cell_type": "code",
   "execution_count": 34,
   "metadata": {},
   "outputs": [
    {
     "name": "stdout",
     "output_type": "stream",
     "text": [
      "0 1 2 3 4 "
     ]
    }
   ],
   "source": [
    "a = 0\n",
    "while a < 5:\n",
    "    print(a,end=\" \")\n",
    "    a += 1"
   ]
  },
  {
   "cell_type": "code",
   "execution_count": 35,
   "metadata": {},
   "outputs": [
    {
     "name": "stdout",
     "output_type": "stream",
     "text": [
      "1 2 3 4 "
     ]
    }
   ],
   "source": [
    "liste = [1,2,3,4]\n",
    "i = 0\n",
    "while i < len(liste):\n",
    "    print(liste[i],end=\" \")\n",
    "    i += 1"
   ]
  },
  {
   "cell_type": "code",
   "execution_count": 37,
   "metadata": {},
   "outputs": [
    {
     "name": "stdout",
     "output_type": "stream",
     "text": [
      "Program Durdu\n"
     ]
    }
   ],
   "source": [
    "anahtar = 1\n",
    "while anahtar:\n",
    "    cevap = input(\"Tamam mı? Devam mı? 1-E,2-H:\")\n",
    "    if cevap == \"1\":\n",
    "        print(\"Program Durdu\")\n",
    "        anahtar = 0"
   ]
  },
  {
   "cell_type": "markdown",
   "metadata": {},
   "source": [
    "### break,continue"
   ]
  },
  {
   "cell_type": "code",
   "execution_count": 40,
   "metadata": {},
   "outputs": [
    {
     "name": "stdout",
     "output_type": "stream",
     "text": [
      "1\n",
      "2\n",
      "3\n",
      "4\n",
      "5\n",
      "6\n"
     ]
    }
   ],
   "source": [
    "a = 0\n",
    "while True:\n",
    "    a += 1\n",
    "    print(a)\n",
    "    if a == 6:\n",
    "        break # bu deyim döngüyü kırmak için kullanılır\n"
   ]
  },
  {
   "cell_type": "code",
   "execution_count": 43,
   "metadata": {},
   "outputs": [
    {
     "name": "stdout",
     "output_type": "stream",
     "text": [
      "1\n",
      "2\n",
      "4\n",
      "5\n"
     ]
    }
   ],
   "source": [
    "a = 0\n",
    "while True:\n",
    "    a += 1\n",
    "    if a == 6:\n",
    "        break # bu deyim döngüyü kırmak için kullanılır\n",
    "    if a == 3:\n",
    "        continue # bu deyim bazı bölümleri atlamak için kullanılır\n",
    "    print(a)\n"
   ]
  },
  {
   "cell_type": "code",
   "execution_count": 46,
   "metadata": {},
   "outputs": [
    {
     "name": "stdout",
     "output_type": "stream",
     "text": [
      "1\n",
      "2\n",
      "4\n",
      "5\n"
     ]
    }
   ],
   "source": [
    "for a in range(1,6):\n",
    "    if a == 6:\n",
    "        break # bu deyim döngüyü kırmak için kullanılır\n",
    "    if a == 3:\n",
    "        continue # bu deyim bazı bölümleri atlamak için kullanılır\n",
    "    print(a)"
   ]
  },
  {
   "cell_type": "markdown",
   "metadata": {},
   "source": [
    "### NestedLoops"
   ]
  },
  {
   "cell_type": "code",
   "execution_count": 47,
   "metadata": {},
   "outputs": [
    {
     "name": "stdout",
     "output_type": "stream",
     "text": [
      "[[1, 2, 3], [2, 4, 6], [3, 6, 9]]\n"
     ]
    }
   ],
   "source": [
    "liste = [[ j*i for j in range(1,4)] for i in range(1,4)]\n",
    "print(liste)"
   ]
  },
  {
   "cell_type": "code",
   "execution_count": 52,
   "metadata": {},
   "outputs": [],
   "source": [
    "for item in liste: # 1\n",
    "    for itemcık in item: # 2\n",
    "        if itemcık == 2:\n",
    "            break # bulunduğu döngü için geçerlidir.\n",
    "        print(itemcık)"
   ]
  },
  {
   "cell_type": "code",
   "execution_count": 54,
   "metadata": {},
   "outputs": [
    {
     "name": "stdout",
     "output_type": "stream",
     "text": [
      "1\n",
      "2\n",
      "3\n",
      "2\n",
      "4\n",
      "6\n",
      "3\n",
      "6\n",
      "9\n"
     ]
    }
   ],
   "source": [
    "for i in range(len(liste)): # 1\n",
    "    for j in range(len(liste[i])): # 2\n",
    "        print(liste[i][j])"
   ]
  },
  {
   "cell_type": "markdown",
   "metadata": {},
   "source": [
    "Soru : <br>\n",
    "Bir metin içerisindeki karakterlerin sayısını sözlük şeklinde ekrana yazdıran python kod parçasını yazınız<br>\n",
    "```\n",
    "metin = \"Şekerbank\"\n",
    "Çıktı => {\"Ş\":1,\"e\":2,\"k\":2,\"r\":1,\"b\":1,\"n\":1,\"a\":1}\n",
    "```"
   ]
  },
  {
   "cell_type": "code",
   "execution_count": 56,
   "metadata": {},
   "outputs": [
    {
     "data": {
      "text/plain": [
       "Counter({'Ş': 1, 'e': 2, 'k': 2, 'r': 1, 'b': 1, 'a': 1, 'n': 1})"
      ]
     },
     "execution_count": 56,
     "metadata": {},
     "output_type": "execute_result"
    }
   ],
   "source": [
    "metin = \"Şekerbank\"\n",
    "import collections as clt\n",
    "clt.Counter(metin)"
   ]
  },
  {
   "cell_type": "code",
   "execution_count": 58,
   "metadata": {},
   "outputs": [
    {
     "name": "stdout",
     "output_type": "stream",
     "text": [
      "{'Ş': 1, 'e': 2, 'k': 2, 'r': 1, 'b': 1, 'a': 1, 'n': 1}\n"
     ]
    }
   ],
   "source": [
    "metin = \"Şekerbank\"\n",
    "sozluk = {}\n",
    "for item in metin:\n",
    "    if item in sozluk.keys():\n",
    "        sozluk[item] = sozluk[item] + 1\n",
    "    else:\n",
    "        sozluk[item] = 1\n",
    "print(sozluk)"
   ]
  },
  {
   "cell_type": "markdown",
   "metadata": {},
   "source": [
    "### Tek Satırda For döngüsü kullanarak liste ve sözlük oluşturmak"
   ]
  },
  {
   "cell_type": "code",
   "execution_count": 59,
   "metadata": {},
   "outputs": [
    {
     "name": "stdout",
     "output_type": "stream",
     "text": [
      "[1, 4, 9, 16, 25, 36, 49, 64, 81, 100]\n",
      "385\n"
     ]
    }
   ],
   "source": [
    "liste = [i**2 for i in range(1,11)]\n",
    "print(liste)\n",
    "print(sum(liste))"
   ]
  },
  {
   "cell_type": "code",
   "execution_count": 60,
   "metadata": {},
   "outputs": [
    {
     "name": "stdout",
     "output_type": "stream",
     "text": [
      "[4, 16, 36, 64, 100]\n",
      "220\n"
     ]
    }
   ],
   "source": [
    "liste = [i**2 for i in range(1,11) if i % 2 == 0]\n",
    "print(liste)\n",
    "print(sum(liste))"
   ]
  },
  {
   "cell_type": "code",
   "execution_count": 61,
   "metadata": {},
   "outputs": [
    {
     "name": "stdout",
     "output_type": "stream",
     "text": [
      "[1, 9, 25, 49, 81]\n",
      "165\n"
     ]
    }
   ],
   "source": [
    "liste = [i**2 for i in range(1,11) if i % 2 > 0]\n",
    "print(liste)\n",
    "print(sum(liste))"
   ]
  },
  {
   "cell_type": "code",
   "execution_count": 63,
   "metadata": {},
   "outputs": [
    {
     "name": "stdout",
     "output_type": "stream",
     "text": [
      "{1: 1, 2: 4, 3: 9, 4: 16, 5: 25, 6: 36, 7: 49, 8: 64, 9: 81, 10: 100}\n"
     ]
    }
   ],
   "source": [
    "sozluk = { i:i**2 for i in range(1,11) }\n",
    "print(sozluk)"
   ]
  },
  {
   "cell_type": "code",
   "execution_count": 64,
   "metadata": {},
   "outputs": [
    {
     "name": "stdout",
     "output_type": "stream",
     "text": [
      "{2: 4, 4: 16, 6: 36, 8: 64, 10: 100}\n"
     ]
    }
   ],
   "source": [
    "sozluk = { i:i**2 for i in range(1,11) if i % 2 == 0}\n",
    "print(sozluk)"
   ]
  },
  {
   "cell_type": "code",
   "execution_count": 65,
   "metadata": {},
   "outputs": [
    {
     "name": "stdout",
     "output_type": "stream",
     "text": [
      "{1: 1, 3: 9, 5: 25, 7: 49, 9: 81}\n"
     ]
    }
   ],
   "source": [
    "sozluk = { i:i**2 for i in range(1,11) if i % 2 > 0}\n",
    "print(sozluk)"
   ]
  },
  {
   "cell_type": "markdown",
   "metadata": {},
   "source": [
    "### else"
   ]
  },
  {
   "cell_type": "code",
   "execution_count": 68,
   "metadata": {},
   "outputs": [
    {
     "name": "stdout",
     "output_type": "stream",
     "text": [
      "0 1 2 3 4 Döngü Bitti\n"
     ]
    }
   ],
   "source": [
    "for i in range(5):\n",
    "    print(i,end=\" \")\n",
    "else:\n",
    "    print(\"Döngü Bitti\")"
   ]
  },
  {
   "cell_type": "code",
   "execution_count": 71,
   "metadata": {},
   "outputs": [
    {
     "name": "stdout",
     "output_type": "stream",
     "text": [
      "0 1 2 3 4 Döngü Bitti\n"
     ]
    }
   ],
   "source": [
    "a = 0\n",
    "while a < 5:\n",
    "    print(a,end=\" \")\n",
    "    a += 1\n",
    "else:\n",
    "    print(\"Döngü Bitti\")"
   ]
  },
  {
   "cell_type": "code",
   "execution_count": 72,
   "metadata": {},
   "outputs": [
    {
     "name": "stdout",
     "output_type": "stream",
     "text": [
      "0 1 2 3 "
     ]
    }
   ],
   "source": [
    "a = 0\n",
    "while a < 5:\n",
    "    print(a,end=\" \")\n",
    "    if a == 3:\n",
    "        break # break ile else birlikte çalışmayacaktır\n",
    "    a += 1\n",
    "else:\n",
    "    print(\"Döngü Bitti\")"
   ]
  },
  {
   "cell_type": "code",
   "execution_count": 75,
   "metadata": {},
   "outputs": [
    {
     "name": "stdout",
     "output_type": "stream",
     "text": [
      "1 2 4 5 Döngü Bitti\n"
     ]
    }
   ],
   "source": [
    "a = 0\n",
    "while a < 5:\n",
    "    a += 1\n",
    "    if a == 3:\n",
    "        continue # continue ile else birlikte çalışabilir\n",
    "    print(a,end=\" \")\n",
    "else:\n",
    "    print(\"Döngü Bitti\")"
   ]
  },
  {
   "cell_type": "markdown",
   "metadata": {},
   "source": [
    "***1 ile 100 arasındaki bizim tuttuğumuz sayıyı tahmin etmeye çalışan bir python kod parçası yazınız.***"
   ]
  },
  {
   "cell_type": "markdown",
   "metadata": {},
   "source": [
    "```\n",
    "\"\"\"\n",
    "0 100 50\n",
    "0 50  25\n",
    "0 25  12\n",
    "0 12   6 =======\n",
    "\"\"\" \n",
    "\"\"\"\n",
    "0 100 50\n",
    "50 100 75\n",
    "75 100 87\n",
    "87 100 93\n",
    "93 100 96\n",
    "96 100 98\n",
    "96 98  97 ============\n",
    "\"\"\"\n",
    "```"
   ]
  },
  {
   "cell_type": "code",
   "execution_count": 1,
   "metadata": {},
   "outputs": [
    {
     "name": "stdout",
     "output_type": "stream",
     "text": [
      "Uygun bir değer giriniz.\n",
      "Uygun bir değer giriniz.\n",
      "Uygun bir değer giriniz.\n",
      "Uygun bir değer giriniz.\n",
      "Tuttuğunuz sayı 50...\n"
     ]
    }
   ],
   "source": [
    "cevap = \"\"\n",
    "max = 100\n",
    "min = 0\n",
    "while True:\n",
    "  tahmin = round((max+min)/2)\n",
    "  cevap = input(f\"Tuttuğunuz sayı {tahmin} ise 'd', {tahmin}'den büyük ise 'e', {tahmin}'den küçük ise 'h' tuşuna basınız.\")\n",
    "  if cevap:\n",
    "    if cevap == \"d\":\n",
    "      print(f\"Tuttuğunuz sayı {tahmin}...\")\n",
    "      break   \n",
    "    elif cevap == \"e\":\n",
    "      min = tahmin\n",
    "    elif cevap == \"h\":\n",
    "      max = tahmin\n",
    "  else:\n",
    "    print(\"Uygun bir değer giriniz.\")"
   ]
  },
  {
   "cell_type": "code",
   "execution_count": 2,
   "metadata": {},
   "outputs": [
    {
     "name": "stdout",
     "output_type": "stream",
     "text": [
      "Tuttuğun sayıyı 4 adımda buldum\n"
     ]
    }
   ],
   "source": [
    "min_ = 0\n",
    "max_ = 100\n",
    "adim = 0\n",
    "while adim >= 0:\n",
    "    tahmin = (max_- min_)//2 + min_\n",
    "    adim += 1\n",
    "    islem = input(f\"Tutulan Sayı {tahmin} Yukarı(1),Aşağı(2),Doğru(3):\") \n",
    "    if islem == \"1\":\n",
    "        min_ = tahmin\n",
    "    elif islem == \"2\":\n",
    "        max_ = tahmin\n",
    "    elif islem == \"3\":\n",
    "        adim *= -1\n",
    "else:\n",
    "    print(f\"Tuttuğun sayıyı {adim*-1} adımda buldum\")"
   ]
  },
  {
   "cell_type": "code",
   "execution_count": null,
   "metadata": {},
   "outputs": [],
   "source": []
  }
 ],
 "metadata": {
  "kernelspec": {
   "display_name": "Python 3",
   "language": "python",
   "name": "python3"
  },
  "language_info": {
   "codemirror_mode": {
    "name": "ipython",
    "version": 3
   },
   "file_extension": ".py",
   "mimetype": "text/x-python",
   "name": "python",
   "nbconvert_exporter": "python",
   "pygments_lexer": "ipython3",
   "version": "3.8.13"
  },
  "orig_nbformat": 4,
  "vscode": {
   "interpreter": {
    "hash": "110cc1dee26208153f2972f08a2ad52b6a56238dc66d48e87fb757ef2996db56"
   }
  }
 },
 "nbformat": 4,
 "nbformat_minor": 2
}
