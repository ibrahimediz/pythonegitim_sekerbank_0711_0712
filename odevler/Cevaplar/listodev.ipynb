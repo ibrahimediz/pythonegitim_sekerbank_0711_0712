{
 "cells": [
  {
   "cell_type": "markdown",
   "metadata": {},
   "source": [
    "5 elemanlı bir liste oluşturunuz. Bu liste içerisindeki 2. elemanı 100 ile değiştiren python kodu yazınız."
   ]
  },
  {
   "cell_type": "code",
   "execution_count": 1,
   "metadata": {},
   "outputs": [
    {
     "name": "stdout",
     "output_type": "stream",
     "text": [
      "[1, 100, 3, 4, 5]\n"
     ]
    }
   ],
   "source": [
    "liste = [1,2,3,4,5]\n",
    "#.       0 1 2 3 4\n",
    "liste[1] = 100\n",
    "print(liste)"
   ]
  },
  {
   "cell_type": "markdown",
   "metadata": {},
   "source": [
    "2. İki farklı listede tutulan verileri tek bir listede sırasıyla append,extend metodlarıyla ve \"+\" operatörü ile birleştiren python kodunu yazınız \n",
    "liste1 = [1,2,3]\n",
    "liste2 = [4,5,6]\n",
    "liste3 = ?????"
   ]
  },
  {
   "cell_type": "code",
   "execution_count": 2,
   "metadata": {},
   "outputs": [
    {
     "name": "stdout",
     "output_type": "stream",
     "text": [
      "[1, 2, 3, 4, 5, 6]\n"
     ]
    }
   ],
   "source": [
    "liste1 = [1,2,3]\n",
    "liste2 = [4,5,6]\n",
    "# extend \n",
    "liste3 = []\n",
    "liste3.extend(liste1)\n",
    "liste3.extend(liste2)\n",
    "print(liste3)"
   ]
  },
  {
   "cell_type": "code",
   "execution_count": 4,
   "metadata": {},
   "outputs": [
    {
     "name": "stdout",
     "output_type": "stream",
     "text": [
      "[[1, 2, 3], [4, 5, 6]]\n"
     ]
    }
   ],
   "source": [
    "liste1 = [1,2,3]\n",
    "liste2 = [4,5,6]\n",
    "# append \n",
    "liste3 = []\n",
    "liste3.append(liste1)\n",
    "liste3.append(liste2)\n",
    "print(liste3) "
   ]
  },
  {
   "cell_type": "code",
   "execution_count": 5,
   "metadata": {},
   "outputs": [
    {
     "name": "stdout",
     "output_type": "stream",
     "text": [
      "[1, 2, 3, 4, 5, 6]\n"
     ]
    }
   ],
   "source": [
    "liste1 = [1,2,3]\n",
    "liste2 = [4,5,6]\n",
    "# concat\n",
    "liste3 = liste1 + liste2 \n",
    "print(liste3)"
   ]
  },
  {
   "cell_type": "markdown",
   "metadata": {},
   "source": [
    "Oluşturduğunuz 3 elemanlı bir liste içerisine ilk sıraya \"Elma\" kelimesini ekleyiniz. "
   ]
  },
  {
   "cell_type": "code",
   "execution_count": 6,
   "metadata": {},
   "outputs": [
    {
     "name": "stdout",
     "output_type": "stream",
     "text": [
      "['Elme', 1, 2, 3]\n"
     ]
    }
   ],
   "source": [
    "liste = [1,2,3]\n",
    "liste.insert(0,\"Elme\")\n",
    "print(liste)"
   ]
  },
  {
   "cell_type": "markdown",
   "metadata": {},
   "source": [
    "liste = [1,2,3,4,5,6,7,1,3,3,3,2,2,1,23]<br>\n",
    "yukarıdaki listeden ilk 3 sayısını silip ekrana yazdırınız."
   ]
  },
  {
   "cell_type": "code",
   "execution_count": 9,
   "metadata": {},
   "outputs": [
    {
     "name": "stdout",
     "output_type": "stream",
     "text": [
      "[1, 2, 3]\n",
      "[4, 5, 6, 7, 1, 3, 3, 3, 2, 2, 1, 23]\n"
     ]
    }
   ],
   "source": [
    "liste = [1,2,3,4,5,6,7,1,3,3,3,2,2,1,23]\n",
    "print(liste[:3])\n",
    "liste =liste[3:]\n",
    "print(liste)"
   ]
  },
  {
   "cell_type": "code",
   "execution_count": 10,
   "metadata": {},
   "outputs": [
    {
     "name": "stdout",
     "output_type": "stream",
     "text": [
      "1\n",
      "2\n",
      "3\n",
      "[4, 5, 6, 7, 1, 3, 3, 3, 2, 2, 1, 23]\n"
     ]
    }
   ],
   "source": [
    "liste = [1,2,3,4,5,6,7,1,3,3,3,2,2,1,23]\n",
    "print(liste.pop(0))\n",
    "print(liste.pop(0))\n",
    "print(liste.pop(0))\n",
    "print(liste)"
   ]
  },
  {
   "cell_type": "code",
   "execution_count": 12,
   "metadata": {},
   "outputs": [
    {
     "name": "stdout",
     "output_type": "stream",
     "text": [
      "[4, 5, 6, 7, 1, 3, 3, 3, 2, 2, 1, 23]\n"
     ]
    }
   ],
   "source": [
    "liste = [1,2,3,4,5,6,7,1,3,3,3,2,2,1,23]\n",
    "del liste[:3]\n",
    "print(liste)"
   ]
  },
  {
   "cell_type": "markdown",
   "metadata": {},
   "source": [
    "----------------------------------"
   ]
  },
  {
   "cell_type": "code",
   "execution_count": 13,
   "metadata": {},
   "outputs": [
    {
     "name": "stdout",
     "output_type": "stream",
     "text": [
      "[1, 2, 3, 7, 1, 3, 3, 3, 2, 2, 1, 23]\n"
     ]
    }
   ],
   "source": [
    "liste = [1,2,3,4,5,6,7,1,3,3,3,2,2,1,23]\n",
    "del liste[3:6]\n",
    "print(liste)"
   ]
  },
  {
   "cell_type": "code",
   "execution_count": 19,
   "metadata": {},
   "outputs": [
    {
     "data": {
      "text/plain": [
       "[3, 23, 6, 7]"
      ]
     },
     "execution_count": 19,
     "metadata": {},
     "output_type": "execute_result"
    }
   ],
   "source": [
    "liste = [1,2,3,4,5,6,7,1,3,3,3,2,2,1,23]\n",
    "listeFiltre = [1,2,4,5]\n",
    "list(set(liste).difference(set(listeFiltre))) \n"
   ]
  },
  {
   "cell_type": "code",
   "execution_count": 20,
   "metadata": {},
   "outputs": [
    {
     "name": "stdout",
     "output_type": "stream",
     "text": [
      "[3, 6, 7, 3, 3, 3, 23]\n"
     ]
    }
   ],
   "source": [
    "liste = [1,2,3,4,5,6,7,1,3,3,3,2,2,1,23]\n",
    "listeYeni = [i for i in liste if i not in [1,2,4,5]]\n",
    "print(listeYeni)"
   ]
  },
  {
   "cell_type": "markdown",
   "metadata": {},
   "source": [
    "-----------------------------------"
   ]
  },
  {
   "cell_type": "markdown",
   "metadata": {},
   "source": [
    "liste1 = [\"1\",1,2,\"3\"]\n",
    "Yukarıdaki listenin bir kopyasını alarak 250 sayısını listenin sonuna ekleyiniz,her iki listeyi ekrana yazdırınız.\n",
    "Beklenen Çıktı:\n",
    "[\"1\",1,2,\"3\"] => Liste1 Çıktısı\n",
    "[\"1\",1,2,\"3\",250] => Liste2 Çıktısı"
   ]
  },
  {
   "cell_type": "code",
   "execution_count": 21,
   "metadata": {},
   "outputs": [
    {
     "name": "stdout",
     "output_type": "stream",
     "text": [
      "['1', 1, 2, '3', 250]\n",
      "['1', 1, 2, '3']\n"
     ]
    }
   ],
   "source": [
    "liste1 = [\"1\",1,2,\"3\"]\n",
    "liste2 = liste1.copy()\n",
    "liste1.append(250)\n",
    "print(liste1)\n",
    "print(liste2)"
   ]
  },
  {
   "cell_type": "code",
   "execution_count": null,
   "metadata": {},
   "outputs": [],
   "source": []
  }
 ],
 "metadata": {
  "kernelspec": {
   "display_name": "Python 3",
   "language": "python",
   "name": "python3"
  },
  "language_info": {
   "codemirror_mode": {
    "name": "ipython",
    "version": 3
   },
   "file_extension": ".py",
   "mimetype": "text/x-python",
   "name": "python",
   "nbconvert_exporter": "python",
   "pygments_lexer": "ipython3",
   "version": "3.8.13 (default, Oct  4 2022, 14:00:32) \n[GCC 9.4.0]"
  },
  "orig_nbformat": 4,
  "vscode": {
   "interpreter": {
    "hash": "9ac03a0a6051494cc606d484d27d20fce22fb7b4d169f583271e11d5ba46a56e"
   }
  }
 },
 "nbformat": 4,
 "nbformat_minor": 2
}
