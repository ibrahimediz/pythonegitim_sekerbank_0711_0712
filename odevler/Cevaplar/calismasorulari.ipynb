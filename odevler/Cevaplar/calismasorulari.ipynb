{
 "cells": [
  {
   "cell_type": "markdown",
   "metadata": {},
   "source": [
    "```\n",
    "1- Bir listeyi bir sözlükte sıralamak için bir Python programı yazın\n",
    "Örnek Veri: num = {'n1': [2, 3, 1], 'n2': [5, 1, 2], 'n3': [3, 2, 4]}\n",
    "```"
   ]
  },
  {
   "cell_type": "code",
   "execution_count": 1,
   "metadata": {},
   "outputs": [
    {
     "name": "stdout",
     "output_type": "stream",
     "text": [
      "{'n1': [1, 2, 3], 'n2': [1, 2, 5], 'n3': [2, 3, 4]}\n"
     ]
    }
   ],
   "source": [
    "num = {'n1': [2, 3, 1], 'n2': [5, 1, 2], 'n3': [3, 2, 4]}\n",
    "for item in num.values():\n",
    "    item.sort()\n",
    "print(num)"
   ]
  },
  {
   "cell_type": "markdown",
   "metadata": {},
   "source": [
    "```\n",
    "2 - sozluk = {'S  001': ['Math', 'Science'], 'S    002': ['Math', 'English']} \n",
    "ilgili sözlükten anahtar kısımlarında bulunan boşlukları temizleyen python kodu yazınız. \n",
    "```"
   ]
  },
  {
   "cell_type": "code",
   "execution_count": 7,
   "metadata": {},
   "outputs": [
    {
     "name": "stdout",
     "output_type": "stream",
     "text": [
      "{'S001': ['Math', 'Science'], 'S002': ['Math', 'English']}\n",
      "{'S001': ['Math', 'Science'], 'S002': ['Math', 'English']}\n"
     ]
    }
   ],
   "source": [
    "sozluk = {'S  001': ['Math', 'Science'], 'S    002': ['Math', 'English']}\n",
    "sozlukyeni = {}\n",
    "for key,value in sozluk.items():\n",
    "    sozlukyeni[key.replace(\" \",\"\")] = value\n",
    "else:\n",
    "    print(sozlukyeni)\n",
    "# ----\n",
    "sozlukyeni = {key.replace(\" \",\"\"):value for key,value in sozluk.items() }\n",
    "print(sozlukyeni)\n",
    "# ----"
   ]
  },
  {
   "cell_type": "markdown",
   "metadata": {},
   "source": [
    "````\n",
    "3- liste1=[1,2,3]   liste2=[4,5,6,7,8]\n",
    "iki listeyi liste3 ile birleştiriniz?```"
   ]
  },
  {
   "cell_type": "code",
   "execution_count": 8,
   "metadata": {},
   "outputs": [
    {
     "name": "stdout",
     "output_type": "stream",
     "text": [
      "[1, 2, 3, 4, 5, 6, 7, 8]\n"
     ]
    }
   ],
   "source": [
    " liste1=[1,2,3]\n",
    " liste2=[4,5,6,7,8]\n",
    " liste3 = liste1 + liste2\n",
    " print(liste3)"
   ]
  },
  {
   "cell_type": "markdown",
   "metadata": {},
   "source": [
    "```\n",
    "4- liste=[1,2,3,4,5,6] listesindeki 1. elemanı del komutu ile siliniz?\n",
    "```"
   ]
  },
  {
   "cell_type": "code",
   "execution_count": 10,
   "metadata": {},
   "outputs": [
    {
     "name": "stdout",
     "output_type": "stream",
     "text": [
      "[2, 3, 4, 5, 6]\n"
     ]
    }
   ],
   "source": [
    "liste = [1,2,3,4,5,6]\n",
    "del liste[0]\n",
    "print(liste)"
   ]
  },
  {
   "cell_type": "markdown",
   "metadata": {},
   "source": [
    "`liste=[\"elma\" , \"armut\", \"çilek\"] listesine append komutu ile sona 3 elemanını ekleyiniz?`"
   ]
  },
  {
   "cell_type": "code",
   "execution_count": 11,
   "metadata": {},
   "outputs": [
    {
     "name": "stdout",
     "output_type": "stream",
     "text": [
      "['elma', 'armut', 'çilek', 3]\n"
     ]
    }
   ],
   "source": [
    "liste=[\"elma\" , \"armut\", \"çilek\"]\n",
    "liste.append(3)\n",
    "print(liste)"
   ]
  },
  {
   "cell_type": "markdown",
   "metadata": {},
   "source": [
    "```\n",
    "6-Girilen on sayı içerisinden en büyük üç sayıyı bulmak için bir Python fonksiyonu yazınız\n",
    "```"
   ]
  },
  {
   "cell_type": "code",
   "execution_count": 14,
   "metadata": {},
   "outputs": [
    {
     "name": "stdout",
     "output_type": "stream",
     "text": [
      "[30, 25, 13]\n"
     ]
    }
   ],
   "source": [
    "liste = []\n",
    "adim = 0\n",
    "while len(liste)<10:\n",
    "    adim += 1\n",
    "    sayi = input(f\"{adim}. Sayıyı Giriniz:\")\n",
    "    if sayi and sayi.isdigit():\n",
    "        liste.append(int(sayi))\n",
    "else:\n",
    "    liste = list(set(liste))\n",
    "    liste.sort(reverse=True)\n",
    "    print(liste[:3])"
   ]
  },
  {
   "cell_type": "markdown",
   "metadata": {},
   "source": [
    "`7-Bir metin içerisindeki büyük ve küçük harflerin listesini yazdıran python programını yazınız.`"
   ]
  },
  {
   "cell_type": "code",
   "execution_count": 19,
   "metadata": {},
   "outputs": [
    {
     "name": "stdout",
     "output_type": "stream",
     "text": [
      "{'k', 'a', 'n', 'r'}\n",
      "{'A'}\n",
      "{'k', 'a', 'n', 'r'}\n",
      "{'A'}\n"
     ]
    }
   ],
   "source": [
    "metin = input(\"Metni Giriniz\")\n",
    "Kharfliste = [item for item in metin if item.islower()]\n",
    "Bharfliste = [item for item in metin if item.isupper()]\n",
    "print(set(Kharfliste))\n",
    "print(set(Bharfliste))\n",
    "###############################\n",
    "print(set(filter(str.islower,metin)))\n",
    "print(set(filter(str.isupper,metin)))"
   ]
  },
  {
   "cell_type": "markdown",
   "metadata": {},
   "source": [
    "`8-kullanıcıdan alınan 10 sayının çift ve tek sayıların sayısını ekrana yazdıran programı yazınız.`"
   ]
  },
  {
   "cell_type": "code",
   "execution_count": 28,
   "metadata": {},
   "outputs": [
    {
     "name": "stdout",
     "output_type": "stream",
     "text": [
      "[26, 52, 90, 14]\n",
      "[37, 35, 85, 65, 89, 23]\n"
     ]
    }
   ],
   "source": [
    "import random as rnd \n",
    "liste = []\n",
    "while len(liste)<10:\n",
    "    while sayi in liste:\n",
    "        sayi = rnd.randint(1,100)\n",
    "    else:\n",
    "        liste.append(sayi)\n",
    "def tekCift(a):\n",
    "    return a % 2 == 0\n",
    "print([item for item in liste if tekCift(item)]) # çift \n",
    "print([item for item in liste if not tekCift(item)]) # tek\n",
    "\n",
    "    "
   ]
  },
  {
   "cell_type": "code",
   "execution_count": null,
   "metadata": {},
   "outputs": [],
   "source": []
  }
 ],
 "metadata": {
  "kernelspec": {
   "display_name": "Python 3",
   "language": "python",
   "name": "python3"
  },
  "language_info": {
   "codemirror_mode": {
    "name": "ipython",
    "version": 3
   },
   "file_extension": ".py",
   "mimetype": "text/x-python",
   "name": "python",
   "nbconvert_exporter": "python",
   "pygments_lexer": "ipython3",
   "version": "3.8.13"
  },
  "orig_nbformat": 4,
  "vscode": {
   "interpreter": {
    "hash": "9ac03a0a6051494cc606d484d27d20fce22fb7b4d169f583271e11d5ba46a56e"
   }
  }
 },
 "nbformat": 4,
 "nbformat_minor": 2
}
