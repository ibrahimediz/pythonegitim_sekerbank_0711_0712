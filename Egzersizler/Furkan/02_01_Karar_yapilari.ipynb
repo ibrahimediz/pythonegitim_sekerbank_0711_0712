{
 "cells": [
  {
   "cell_type": "code",
   "execution_count": 4,
   "metadata": {},
   "outputs": [
    {
     "name": "stdout",
     "output_type": "stream",
     "text": [
      "Boş\n"
     ]
    }
   ],
   "source": [
    "a= 0\n",
    "b=\"\"\n",
    "c=[]\n",
    "d={}\n",
    "\n",
    "if b:\n",
    "    print(\"Dolu\")\n",
    "else:\n",
    "    print(\"Boş\")"
   ]
  },
  {
   "cell_type": "code",
   "execution_count": 2,
   "metadata": {},
   "outputs": [
    {
     "name": "stdout",
     "output_type": "stream",
     "text": [
      "Z Kuşağı\n"
     ]
    }
   ],
   "source": [
    "yas = input(\"Yaşınızı giriniz...\")\n",
    "if yas:\n",
    "    if yas.isdigit():\n",
    "        yas=int(yas)\n",
    "        if yas>=18 and yas<=30:\n",
    "            print(\"Z Kuşağı\")\n",
    "        else:\n",
    "            print(\"Z kuşağı değilsiniz.\")\n",
    "    else:\n",
    "        print(\"Lütfen bir sayı giriniz.\")\n",
    "else:\n",
    "    print(\"Giriş yapmadınız.\")\n",
    "        "
   ]
  },
  {
   "cell_type": "code",
   "execution_count": 30,
   "metadata": {},
   "outputs": [
    {
     "name": "stdout",
     "output_type": "stream",
     "text": [
      "Bir sayı giriniz.\n"
     ]
    }
   ],
   "source": [
    "puan = input(\"Notunuzu giriniz.\")\n",
    "if puan:\n",
    "    if puan.isdigit():\n",
    "        puan=int(puan)\n",
    "        if 85<=puan<=100:\n",
    "            print(\"AA\")\n",
    "        elif 70<=puan<85:\n",
    "            print(\"BB\")\n",
    "        elif 0<=puan<70:\n",
    "            print(\"CC\")\n",
    "        else:\n",
    "            print(\"Yanlış not\")\n",
    "    else:\n",
    "        print(\"Bir sayı giriniz.\")\n",
    "else:\n",
    "    print(\"Giriş yapmadınız.\")\n"
   ]
  },
  {
   "cell_type": "code",
   "execution_count": 3,
   "metadata": {},
   "outputs": [
    {
     "name": "stdout",
     "output_type": "stream",
     "text": [
      "İkizkenar üçgen\n"
     ]
    }
   ],
   "source": [
    "a = input(\"Birinci Açı\")\n",
    "b = input(\"İkinci Açı\")\n",
    "if a == b and a == 60 and b == 60:\n",
    "    print(\"Eşkenar üçgen\")\n",
    "elif (a == 30 or a == 60) and (b == 60 or b == 30):\n",
    "    print(\"Dik üçgen\")\n",
    "elif a == b and a != 60:\n",
    "    print(\"İkizkenar üçgen\")\n",
    "elif a != b:\n",
    "    print(\"Çeşitkenar üçgen\")"
   ]
  },
  {
   "cell_type": "code",
   "execution_count": null,
   "metadata": {},
   "outputs": [],
   "source": []
  }
 ],
 "metadata": {
  "kernelspec": {
   "display_name": "Python 3",
   "language": "python",
   "name": "python3"
  },
  "language_info": {
   "codemirror_mode": {
    "name": "ipython",
    "version": 3
   },
   "file_extension": ".py",
   "mimetype": "text/x-python",
   "name": "python",
   "nbconvert_exporter": "python",
   "pygments_lexer": "ipython3",
   "version": "3.8.13 (default, Oct  4 2022, 14:00:32) \n[GCC 9.4.0]"
  },
  "orig_nbformat": 4,
  "vscode": {
   "interpreter": {
    "hash": "9ac03a0a6051494cc606d484d27d20fce22fb7b4d169f583271e11d5ba46a56e"
   }
  }
 },
 "nbformat": 4,
 "nbformat_minor": 2
}
